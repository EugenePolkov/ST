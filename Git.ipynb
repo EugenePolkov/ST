{
  "nbformat": 4,
  "nbformat_minor": 0,
  "metadata": {
    "colab": {
      "name": "Git.ipynb",
      "provenance": [],
      "mount_file_id": "1NG9dyxrWJQHFqMqPfcJhFGw6l_4E0eZQ",
      "authorship_tag": "ABX9TyOu9e6jBF/BDuhOQHsS4LbJ"
    },
    "kernelspec": {
      "name": "python3",
      "display_name": "Python 3"
    },
    "language_info": {
      "name": "python"
    }
  },
  "cells": [
    {
      "cell_type": "code",
      "execution_count": null,
      "metadata": {
        "id": "ccU8qcRKzsd0"
      },
      "outputs": [],
      "source": [
        "import pandas as pd\n",
        "import math\n",
        "import numpy as np\n",
        "import matplotlib\n",
        "import seaborn as sns\n",
        "import scipy as sc\n",
        "import random\n",
        "from matplotlib import pyplot as plt\n",
        "from matplotlib.colors import ListedColormap\n",
        "import warnings\n",
        "warnings.filterwarnings(action='ignore')\n",
        "warnings.filterwarnings (category=DeprecationWarning, action='ignore')\n",
        "import tqdm\n",
        "import collections\n",
        "from functools import reduce\n",
        "from sklearn import model_selection, datasets, metrics, tree, ensemble, preprocessing, feature_extraction, feature_selection, utils, neighbors, decomposition, linear_model, pipeline, cluster, compose, impute,svm, naive_bayes, manifold\n",
        "import keras \n",
        "from keras import models, layers, utils\n",
        "import lightgbm as lgbm\n",
        "import xgboost as xgb\n",
        "from IPython.display import Audio\n",
        "sound_file = 'https://upload.wikimedia.org/wikipedia/commons/0/05/Beep-09.ogg'"
      ]
    },
    {
      "cell_type": "code",
      "source": [
        "!pip install catboost\n",
        "import catboost as catb\n",
        "from catboost import Pool, cv"
      ],
      "metadata": {
        "id": "GlYguqsTiI67"
      },
      "execution_count": null,
      "outputs": []
    },
    {
      "cell_type": "code",
      "source": [
        "train = pd.read_csv ('/content/train.csv')\n",
        "test = pd.read_csv ('/content/test.csv' )\n",
        "y_train =  train.iloc[:, -1]"
      ],
      "metadata": {
        "id": "j83-oap14B9R"
      },
      "execution_count": null,
      "outputs": []
    },
    {
      "cell_type": "markdown",
      "source": [
        "## missing values (euristic)"
      ],
      "metadata": {
        "id": "uQsVMNbMfT3l"
      }
    },
    {
      "cell_type": "code",
      "source": [
        "df=train.copy()\n",
        "dff= pd.concat ([train.copy().iloc[:, :-1] , test.copy()] , ignore_index=True)"
      ],
      "metadata": {
        "id": "DEw_L-lJNSpo"
      },
      "execution_count": null,
      "outputs": []
    },
    {
      "cell_type": "code",
      "source": [
        "dff['NID'] = dff['PassengerId'].str.split('_').str.get(0)\n",
        "df['NID'] = df['PassengerId'].str.split('_').str.get(0)\n",
        "dff['LN'] = dff['Name'].str.split(' ').str.get(1)\n",
        "df['LN'] = df['Name'].str.split(' ').str.get(1)\n"
      ],
      "metadata": {
        "id": "IMEuP1YiQ7ry"
      },
      "execution_count": null,
      "outputs": []
    },
    {
      "cell_type": "code",
      "source": [
        "dff.isnull().sum()"
      ],
      "metadata": {
        "colab": {
          "base_uri": "https://localhost:8080/"
        },
        "id": "8sMc2Fw53krF",
        "outputId": "91273118-4dc7-439d-a61e-f84a33162961"
      },
      "execution_count": null,
      "outputs": [
        {
          "output_type": "execute_result",
          "data": {
            "text/plain": [
              "PassengerId       0\n",
              "HomePlanet      288\n",
              "CryoSleep       310\n",
              "Cabin           299\n",
              "Destination     274\n",
              "Age             270\n",
              "VIP             296\n",
              "RoomService     263\n",
              "FoodCourt       289\n",
              "ShoppingMall    306\n",
              "Spa             284\n",
              "VRDeck          268\n",
              "Name            294\n",
              "NID               0\n",
              "LN              294\n",
              "dtype: int64"
            ]
          },
          "metadata": {},
          "execution_count": 752
        }
      ]
    },
    {
      "cell_type": "code",
      "source": [
        "dff[['HomePlanet' ,'Cabin' , 'LN' ]] = dff[['HomePlanet' ,'Cabin' , 'LN' ]].fillna ('__')\n",
        "df[['HomePlanet' ,'Cabin' , 'LN' ]] = df[['HomePlanet' ,'Cabin' , 'LN' ]].fillna ('__')"
      ],
      "metadata": {
        "id": "XSsvYED8wrWO"
      },
      "execution_count": null,
      "outputs": []
    },
    {
      "cell_type": "code",
      "source": [
        "df.groupby ('NID').mean()['Transported'].value_counts() # NID влияет на выживаемость, в 87% случаев NID полностью либо выжил, либо нет"
      ],
      "metadata": {
        "id": "3Yh1eEE4MAAg",
        "colab": {
          "base_uri": "https://localhost:8080/"
        },
        "outputId": "c7c4162c-abee-4b6a-ca55-b4264622fd88"
      },
      "execution_count": null,
      "outputs": [
        {
          "output_type": "execute_result",
          "data": {
            "text/plain": [
              "0.000000    2868\n",
              "1.000000    2552\n",
              "0.500000     410\n",
              "0.666667     139\n",
              "0.333333      98\n",
              "0.750000      35\n",
              "0.250000      16\n",
              "0.600000      16\n",
              "0.800000      13\n",
              "0.400000      10\n",
              "0.571429       9\n",
              "0.833333       9\n",
              "0.428571       8\n",
              "0.200000       7\n",
              "0.714286       5\n",
              "0.375000       5\n",
              "0.166667       4\n",
              "0.285714       4\n",
              "0.857143       4\n",
              "0.625000       2\n",
              "0.125000       2\n",
              "0.142857       1\n",
              "Name: Transported, dtype: int64"
            ]
          },
          "metadata": {},
          "execution_count": 43
        }
      ]
    },
    {
      "cell_type": "code",
      "source": [
        "df.groupby ('LN').mean()['Transported'].value_counts()  # а вот внутри семьи все по разному, LN не гарантия"
      ],
      "metadata": {
        "id": "B6_Qo7K6nzjF"
      },
      "execution_count": null,
      "outputs": []
    },
    {
      "cell_type": "code",
      "source": [
        "dff.groupby ('NID').aggregate (lambda x : tuple (x.unique()))['HomePlanet'].value_counts () # жители одной каюты (NID) имеют одинаковый Home Planet, половину пропущенных признаков можно точно восстанвоить"
      ],
      "metadata": {
        "colab": {
          "base_uri": "https://localhost:8080/"
        },
        "id": "hr4NFX6wOWs0",
        "outputId": "95bf7ba1-8ae0-4fd4-ca2a-eaa49d76b472"
      },
      "execution_count": null,
      "outputs": [
        {
          "output_type": "execute_result",
          "data": {
            "text/plain": [
              "(Earth,)        5333\n",
              "(Mars,)         1850\n",
              "(Europa,)       1812\n",
              "(__,)            156\n",
              "(Europa, __)      28\n",
              "(Earth, __)       27\n",
              "(Mars, __)        26\n",
              "(__, Earth)       20\n",
              "(__, Europa)      14\n",
              "(__, Mars)        14\n",
              "Name: HomePlanet, dtype: int64"
            ]
          },
          "metadata": {},
          "execution_count": 45
        }
      ]
    },
    {
      "cell_type": "code",
      "source": [
        "dff.groupby ('LN').aggregate (lambda x : tuple (x.unique()))['HomePlanet'].value_counts () # у семей один пункт вылета, за 1 исключением, которым можно пренебречь, можно восстановить почти все"
      ],
      "metadata": {
        "colab": {
          "base_uri": "https://localhost:8080/"
        },
        "id": "iU6kKJhAavO1",
        "outputId": "be5b6347-4ad4-4013-a1f9-dd0cb30a8519"
      },
      "execution_count": null,
      "outputs": [
        {
          "output_type": "execute_result",
          "data": {
            "text/plain": [
              "(Earth,)                     866\n",
              "(Europa,)                    795\n",
              "(Mars,)                      481\n",
              "(Earth, __)                  116\n",
              "(Mars, __)                    59\n",
              "(Europa, __)                  47\n",
              "(__, Earth)                   16\n",
              "(__, Europa)                  13\n",
              "(__, Mars)                     7\n",
              "(__,)                          6\n",
              "(Mars, Earth, Europa, __)      1\n",
              "Name: HomePlanet, dtype: int64"
            ]
          },
          "metadata": {},
          "execution_count": 46
        }
      ]
    },
    {
      "cell_type": "code",
      "source": [
        "dff.groupby ('LN').aggregate (lambda x : tuple (x.unique()))['VIP'].value_counts () # VIP статус не связан жестко с LN и NID, но ценность его изначально невысока"
      ],
      "metadata": {
        "colab": {
          "base_uri": "https://localhost:8080/"
        },
        "id": "TPTF9h1gN7_U",
        "outputId": "b02febd3-f3db-45e0-ddd4-914adb3f6345"
      },
      "execution_count": null,
      "outputs": [
        {
          "output_type": "execute_result",
          "data": {
            "text/plain": [
              "(False,)              1913\n",
              "(False, nan)           192\n",
              "(False, True)          145\n",
              "(True, False)           68\n",
              "(nan, False)            53\n",
              "(nan,)                   7\n",
              "(True,)                  7\n",
              "(False, nan, True)       7\n",
              "(False, True, nan)       7\n",
              "(True, False, nan)       6\n",
              "(True, nan, False)       1\n",
              "(nan, False, True)       1\n",
              "Name: VIP, dtype: int64"
            ]
          },
          "metadata": {},
          "execution_count": 47
        }
      ]
    },
    {
      "cell_type": "code",
      "source": [
        "dff.groupby(['LN' , 'NID', 'Cabin']).aggregate (lambda x : tuple (x.unique()))"
      ],
      "metadata": {
        "colab": {
          "base_uri": "https://localhost:8080/",
          "height": 516
        },
        "id": "vJGkUVRQWSeq",
        "outputId": "f1059f3f-cbeb-46fb-e606-4295202856ff"
      },
      "execution_count": null,
      "outputs": [
        {
          "output_type": "execute_result",
          "data": {
            "text/plain": [
              "                               PassengerId HomePlanet CryoSleep  \\\n",
              "LN       NID  Cabin                                               \n",
              "Acobson  4220 E/263/P           (4220_01,)   (Earth,)  (False,)   \n",
              "         4353 F/817/S           (4353_01,)   (Earth,)  (False,)   \n",
              "         6905 E/460/S           (6905_02,)   (Earth,)  (False,)   \n",
              "              F/1322/S  (6905_01, 6905_03)   (Earth,)  (False,)   \n",
              "Acobsond 0991 G/152/S           (0991_01,)   (Earth,)   (True,)   \n",
              "...                                    ...        ...       ...   \n",
              "__       9205 B/300/P           (9205_02,)  (Europa,)   (True,)   \n",
              "         9208 G/1485/S          (9208_01,)   (Earth,)   (True,)   \n",
              "         9218 B/353/S           (9218_01,)  (Europa,)   (True,)   \n",
              "         9230 C/342/S           (9230_01,)  (Europa,)  (False,)   \n",
              "         9246 G/1490/S          (9246_01,)   (Earth,)    (nan,)   \n",
              "\n",
              "                                       Destination           Age       VIP  \\\n",
              "LN       NID  Cabin                                                          \n",
              "Acobson  4220 E/263/P               (TRAPPIST-1e,)       (31.0,)  (False,)   \n",
              "         4353 F/817/S               (TRAPPIST-1e,)       (18.0,)  (False,)   \n",
              "         6905 E/460/S               (TRAPPIST-1e,)       (15.0,)  (False,)   \n",
              "              F/1322/S  (TRAPPIST-1e, 55 Cancri e)  (39.0, 16.0)  (False,)   \n",
              "Acobsond 0991 G/152/S               (TRAPPIST-1e,)       (27.0,)    (nan,)   \n",
              "...                                            ...           ...       ...   \n",
              "__       9205 B/300/P               (TRAPPIST-1e,)       (15.0,)  (False,)   \n",
              "         9208 G/1485/S              (TRAPPIST-1e,)       (35.0,)  (False,)   \n",
              "         9218 B/353/S               (55 Cancri e,)       (43.0,)  (False,)   \n",
              "         9230 C/342/S               (TRAPPIST-1e,)       (36.0,)   (True,)   \n",
              "         9246 G/1490/S              (TRAPPIST-1e,)       (32.0,)  (False,)   \n",
              "\n",
              "                          RoomService     FoodCourt  ShoppingMall        Spa  \\\n",
              "LN       NID  Cabin                                                            \n",
              "Acobson  4220 E/263/P        (553.0,)      (224.0,)        (9.0,)     (1.0,)   \n",
              "         4353 F/817/S        (736.0,)       (40.0,)        (0.0,)     (0.0,)   \n",
              "         6905 E/460/S          (0.0,)        (0.0,)        (0.0,)   (938.0,)   \n",
              "              F/1322/S  (130.0, 43.0)  (741.0, 3.0)  (0.0, 750.0)     (0.0,)   \n",
              "Acobsond 0991 G/152/S          (0.0,)        (0.0,)        (0.0,)     (0.0,)   \n",
              "...                               ...           ...           ...        ...   \n",
              "__       9205 B/300/P          (0.0,)        (0.0,)        (0.0,)     (0.0,)   \n",
              "         9208 G/1485/S         (0.0,)        (0.0,)        (0.0,)     (0.0,)   \n",
              "         9218 B/353/S          (0.0,)        (0.0,)        (0.0,)     (0.0,)   \n",
              "         9230 C/342/S          (0.0,)     (5600.0,)      (715.0,)  (2868.0,)   \n",
              "         9246 G/1490/S         (0.0,)        (0.0,)        (0.0,)     (0.0,)   \n",
              "\n",
              "                          VRDeck                            Name  \n",
              "LN       NID  Cabin                                               \n",
              "Acobson  4220 E/263/P     (0.0,)                 (Tine Acobson,)  \n",
              "         4353 F/817/S     (0.0,)               (Naomie Acobson,)  \n",
              "         6905 E/460/S    (44.0,)               (Lilasa Acobson,)  \n",
              "              F/1322/S    (0.0,)  (Vana Acobson, Gaylah Acobson)  \n",
              "Acobsond 0991 G/152/S     (0.0,)              (Bethew Acobsond,)  \n",
              "...                          ...                             ...  \n",
              "__       9205 B/300/P     (0.0,)                          (nan,)  \n",
              "         9208 G/1485/S    (0.0,)                          (nan,)  \n",
              "         9218 B/353/S     (0.0,)                          (nan,)  \n",
              "         9230 C/342/S   (971.0,)                          (nan,)  \n",
              "         9246 G/1490/S    (0.0,)                          (nan,)  \n",
              "\n",
              "[10587 rows x 12 columns]"
            ],
            "text/html": [
              "\n",
              "  <div id=\"df-2e7a6895-83e9-4366-9149-42e8c1cb8c3c\">\n",
              "    <div class=\"colab-df-container\">\n",
              "      <div>\n",
              "<style scoped>\n",
              "    .dataframe tbody tr th:only-of-type {\n",
              "        vertical-align: middle;\n",
              "    }\n",
              "\n",
              "    .dataframe tbody tr th {\n",
              "        vertical-align: top;\n",
              "    }\n",
              "\n",
              "    .dataframe thead th {\n",
              "        text-align: right;\n",
              "    }\n",
              "</style>\n",
              "<table border=\"1\" class=\"dataframe\">\n",
              "  <thead>\n",
              "    <tr style=\"text-align: right;\">\n",
              "      <th></th>\n",
              "      <th></th>\n",
              "      <th></th>\n",
              "      <th>PassengerId</th>\n",
              "      <th>HomePlanet</th>\n",
              "      <th>CryoSleep</th>\n",
              "      <th>Destination</th>\n",
              "      <th>Age</th>\n",
              "      <th>VIP</th>\n",
              "      <th>RoomService</th>\n",
              "      <th>FoodCourt</th>\n",
              "      <th>ShoppingMall</th>\n",
              "      <th>Spa</th>\n",
              "      <th>VRDeck</th>\n",
              "      <th>Name</th>\n",
              "    </tr>\n",
              "    <tr>\n",
              "      <th>LN</th>\n",
              "      <th>NID</th>\n",
              "      <th>Cabin</th>\n",
              "      <th></th>\n",
              "      <th></th>\n",
              "      <th></th>\n",
              "      <th></th>\n",
              "      <th></th>\n",
              "      <th></th>\n",
              "      <th></th>\n",
              "      <th></th>\n",
              "      <th></th>\n",
              "      <th></th>\n",
              "      <th></th>\n",
              "      <th></th>\n",
              "    </tr>\n",
              "  </thead>\n",
              "  <tbody>\n",
              "    <tr>\n",
              "      <th rowspan=\"4\" valign=\"top\">Acobson</th>\n",
              "      <th>4220</th>\n",
              "      <th>E/263/P</th>\n",
              "      <td>(4220_01,)</td>\n",
              "      <td>(Earth,)</td>\n",
              "      <td>(False,)</td>\n",
              "      <td>(TRAPPIST-1e,)</td>\n",
              "      <td>(31.0,)</td>\n",
              "      <td>(False,)</td>\n",
              "      <td>(553.0,)</td>\n",
              "      <td>(224.0,)</td>\n",
              "      <td>(9.0,)</td>\n",
              "      <td>(1.0,)</td>\n",
              "      <td>(0.0,)</td>\n",
              "      <td>(Tine Acobson,)</td>\n",
              "    </tr>\n",
              "    <tr>\n",
              "      <th>4353</th>\n",
              "      <th>F/817/S</th>\n",
              "      <td>(4353_01,)</td>\n",
              "      <td>(Earth,)</td>\n",
              "      <td>(False,)</td>\n",
              "      <td>(TRAPPIST-1e,)</td>\n",
              "      <td>(18.0,)</td>\n",
              "      <td>(False,)</td>\n",
              "      <td>(736.0,)</td>\n",
              "      <td>(40.0,)</td>\n",
              "      <td>(0.0,)</td>\n",
              "      <td>(0.0,)</td>\n",
              "      <td>(0.0,)</td>\n",
              "      <td>(Naomie Acobson,)</td>\n",
              "    </tr>\n",
              "    <tr>\n",
              "      <th rowspan=\"2\" valign=\"top\">6905</th>\n",
              "      <th>E/460/S</th>\n",
              "      <td>(6905_02,)</td>\n",
              "      <td>(Earth,)</td>\n",
              "      <td>(False,)</td>\n",
              "      <td>(TRAPPIST-1e,)</td>\n",
              "      <td>(15.0,)</td>\n",
              "      <td>(False,)</td>\n",
              "      <td>(0.0,)</td>\n",
              "      <td>(0.0,)</td>\n",
              "      <td>(0.0,)</td>\n",
              "      <td>(938.0,)</td>\n",
              "      <td>(44.0,)</td>\n",
              "      <td>(Lilasa Acobson,)</td>\n",
              "    </tr>\n",
              "    <tr>\n",
              "      <th>F/1322/S</th>\n",
              "      <td>(6905_01, 6905_03)</td>\n",
              "      <td>(Earth,)</td>\n",
              "      <td>(False,)</td>\n",
              "      <td>(TRAPPIST-1e, 55 Cancri e)</td>\n",
              "      <td>(39.0, 16.0)</td>\n",
              "      <td>(False,)</td>\n",
              "      <td>(130.0, 43.0)</td>\n",
              "      <td>(741.0, 3.0)</td>\n",
              "      <td>(0.0, 750.0)</td>\n",
              "      <td>(0.0,)</td>\n",
              "      <td>(0.0,)</td>\n",
              "      <td>(Vana Acobson, Gaylah Acobson)</td>\n",
              "    </tr>\n",
              "    <tr>\n",
              "      <th>Acobsond</th>\n",
              "      <th>0991</th>\n",
              "      <th>G/152/S</th>\n",
              "      <td>(0991_01,)</td>\n",
              "      <td>(Earth,)</td>\n",
              "      <td>(True,)</td>\n",
              "      <td>(TRAPPIST-1e,)</td>\n",
              "      <td>(27.0,)</td>\n",
              "      <td>(nan,)</td>\n",
              "      <td>(0.0,)</td>\n",
              "      <td>(0.0,)</td>\n",
              "      <td>(0.0,)</td>\n",
              "      <td>(0.0,)</td>\n",
              "      <td>(0.0,)</td>\n",
              "      <td>(Bethew Acobsond,)</td>\n",
              "    </tr>\n",
              "    <tr>\n",
              "      <th>...</th>\n",
              "      <th>...</th>\n",
              "      <th>...</th>\n",
              "      <td>...</td>\n",
              "      <td>...</td>\n",
              "      <td>...</td>\n",
              "      <td>...</td>\n",
              "      <td>...</td>\n",
              "      <td>...</td>\n",
              "      <td>...</td>\n",
              "      <td>...</td>\n",
              "      <td>...</td>\n",
              "      <td>...</td>\n",
              "      <td>...</td>\n",
              "      <td>...</td>\n",
              "    </tr>\n",
              "    <tr>\n",
              "      <th rowspan=\"5\" valign=\"top\">__</th>\n",
              "      <th>9205</th>\n",
              "      <th>B/300/P</th>\n",
              "      <td>(9205_02,)</td>\n",
              "      <td>(Europa,)</td>\n",
              "      <td>(True,)</td>\n",
              "      <td>(TRAPPIST-1e,)</td>\n",
              "      <td>(15.0,)</td>\n",
              "      <td>(False,)</td>\n",
              "      <td>(0.0,)</td>\n",
              "      <td>(0.0,)</td>\n",
              "      <td>(0.0,)</td>\n",
              "      <td>(0.0,)</td>\n",
              "      <td>(0.0,)</td>\n",
              "      <td>(nan,)</td>\n",
              "    </tr>\n",
              "    <tr>\n",
              "      <th>9208</th>\n",
              "      <th>G/1485/S</th>\n",
              "      <td>(9208_01,)</td>\n",
              "      <td>(Earth,)</td>\n",
              "      <td>(True,)</td>\n",
              "      <td>(TRAPPIST-1e,)</td>\n",
              "      <td>(35.0,)</td>\n",
              "      <td>(False,)</td>\n",
              "      <td>(0.0,)</td>\n",
              "      <td>(0.0,)</td>\n",
              "      <td>(0.0,)</td>\n",
              "      <td>(0.0,)</td>\n",
              "      <td>(0.0,)</td>\n",
              "      <td>(nan,)</td>\n",
              "    </tr>\n",
              "    <tr>\n",
              "      <th>9218</th>\n",
              "      <th>B/353/S</th>\n",
              "      <td>(9218_01,)</td>\n",
              "      <td>(Europa,)</td>\n",
              "      <td>(True,)</td>\n",
              "      <td>(55 Cancri e,)</td>\n",
              "      <td>(43.0,)</td>\n",
              "      <td>(False,)</td>\n",
              "      <td>(0.0,)</td>\n",
              "      <td>(0.0,)</td>\n",
              "      <td>(0.0,)</td>\n",
              "      <td>(0.0,)</td>\n",
              "      <td>(0.0,)</td>\n",
              "      <td>(nan,)</td>\n",
              "    </tr>\n",
              "    <tr>\n",
              "      <th>9230</th>\n",
              "      <th>C/342/S</th>\n",
              "      <td>(9230_01,)</td>\n",
              "      <td>(Europa,)</td>\n",
              "      <td>(False,)</td>\n",
              "      <td>(TRAPPIST-1e,)</td>\n",
              "      <td>(36.0,)</td>\n",
              "      <td>(True,)</td>\n",
              "      <td>(0.0,)</td>\n",
              "      <td>(5600.0,)</td>\n",
              "      <td>(715.0,)</td>\n",
              "      <td>(2868.0,)</td>\n",
              "      <td>(971.0,)</td>\n",
              "      <td>(nan,)</td>\n",
              "    </tr>\n",
              "    <tr>\n",
              "      <th>9246</th>\n",
              "      <th>G/1490/S</th>\n",
              "      <td>(9246_01,)</td>\n",
              "      <td>(Earth,)</td>\n",
              "      <td>(nan,)</td>\n",
              "      <td>(TRAPPIST-1e,)</td>\n",
              "      <td>(32.0,)</td>\n",
              "      <td>(False,)</td>\n",
              "      <td>(0.0,)</td>\n",
              "      <td>(0.0,)</td>\n",
              "      <td>(0.0,)</td>\n",
              "      <td>(0.0,)</td>\n",
              "      <td>(0.0,)</td>\n",
              "      <td>(nan,)</td>\n",
              "    </tr>\n",
              "  </tbody>\n",
              "</table>\n",
              "<p>10587 rows × 12 columns</p>\n",
              "</div>\n",
              "      <button class=\"colab-df-convert\" onclick=\"convertToInteractive('df-2e7a6895-83e9-4366-9149-42e8c1cb8c3c')\"\n",
              "              title=\"Convert this dataframe to an interactive table.\"\n",
              "              style=\"display:none;\">\n",
              "        \n",
              "  <svg xmlns=\"http://www.w3.org/2000/svg\" height=\"24px\"viewBox=\"0 0 24 24\"\n",
              "       width=\"24px\">\n",
              "    <path d=\"M0 0h24v24H0V0z\" fill=\"none\"/>\n",
              "    <path d=\"M18.56 5.44l.94 2.06.94-2.06 2.06-.94-2.06-.94-.94-2.06-.94 2.06-2.06.94zm-11 1L8.5 8.5l.94-2.06 2.06-.94-2.06-.94L8.5 2.5l-.94 2.06-2.06.94zm10 10l.94 2.06.94-2.06 2.06-.94-2.06-.94-.94-2.06-.94 2.06-2.06.94z\"/><path d=\"M17.41 7.96l-1.37-1.37c-.4-.4-.92-.59-1.43-.59-.52 0-1.04.2-1.43.59L10.3 9.45l-7.72 7.72c-.78.78-.78 2.05 0 2.83L4 21.41c.39.39.9.59 1.41.59.51 0 1.02-.2 1.41-.59l7.78-7.78 2.81-2.81c.8-.78.8-2.07 0-2.86zM5.41 20L4 18.59l7.72-7.72 1.47 1.35L5.41 20z\"/>\n",
              "  </svg>\n",
              "      </button>\n",
              "      \n",
              "  <style>\n",
              "    .colab-df-container {\n",
              "      display:flex;\n",
              "      flex-wrap:wrap;\n",
              "      gap: 12px;\n",
              "    }\n",
              "\n",
              "    .colab-df-convert {\n",
              "      background-color: #E8F0FE;\n",
              "      border: none;\n",
              "      border-radius: 50%;\n",
              "      cursor: pointer;\n",
              "      display: none;\n",
              "      fill: #1967D2;\n",
              "      height: 32px;\n",
              "      padding: 0 0 0 0;\n",
              "      width: 32px;\n",
              "    }\n",
              "\n",
              "    .colab-df-convert:hover {\n",
              "      background-color: #E2EBFA;\n",
              "      box-shadow: 0px 1px 2px rgba(60, 64, 67, 0.3), 0px 1px 3px 1px rgba(60, 64, 67, 0.15);\n",
              "      fill: #174EA6;\n",
              "    }\n",
              "\n",
              "    [theme=dark] .colab-df-convert {\n",
              "      background-color: #3B4455;\n",
              "      fill: #D2E3FC;\n",
              "    }\n",
              "\n",
              "    [theme=dark] .colab-df-convert:hover {\n",
              "      background-color: #434B5C;\n",
              "      box-shadow: 0px 1px 3px 1px rgba(0, 0, 0, 0.15);\n",
              "      filter: drop-shadow(0px 1px 2px rgba(0, 0, 0, 0.3));\n",
              "      fill: #FFFFFF;\n",
              "    }\n",
              "  </style>\n",
              "\n",
              "      <script>\n",
              "        const buttonEl =\n",
              "          document.querySelector('#df-2e7a6895-83e9-4366-9149-42e8c1cb8c3c button.colab-df-convert');\n",
              "        buttonEl.style.display =\n",
              "          google.colab.kernel.accessAllowed ? 'block' : 'none';\n",
              "\n",
              "        async function convertToInteractive(key) {\n",
              "          const element = document.querySelector('#df-2e7a6895-83e9-4366-9149-42e8c1cb8c3c');\n",
              "          const dataTable =\n",
              "            await google.colab.kernel.invokeFunction('convertToInteractive',\n",
              "                                                     [key], {});\n",
              "          if (!dataTable) return;\n",
              "\n",
              "          const docLinkHtml = 'Like what you see? Visit the ' +\n",
              "            '<a target=\"_blank\" href=https://colab.research.google.com/notebooks/data_table.ipynb>data table notebook</a>'\n",
              "            + ' to learn more about interactive tables.';\n",
              "          element.innerHTML = '';\n",
              "          dataTable['output_type'] = 'display_data';\n",
              "          await google.colab.output.renderOutput(dataTable, element);\n",
              "          const docLink = document.createElement('div');\n",
              "          docLink.innerHTML = docLinkHtml;\n",
              "          element.appendChild(docLink);\n",
              "        }\n",
              "      </script>\n",
              "    </div>\n",
              "  </div>\n",
              "  "
            ]
          },
          "metadata": {},
          "execution_count": 48
        }
      ]
    },
    {
      "cell_type": "code",
      "source": [
        "dff.groupby(['LN' , 'NID']).aggregate (lambda x : tuple (x.unique()))['Cabin'][dff.groupby(['LN' , 'NID']).aggregate (lambda x : tuple (x.unique()))['Cabin'].apply ( lambda x : len(x) > 2)]"
      ],
      "metadata": {
        "colab": {
          "base_uri": "https://localhost:8080/"
        },
        "id": "AfYoNKqyl9fF",
        "outputId": "f531ba6c-739a-45a2-eb47-7f226ce1321e"
      },
      "execution_count": null,
      "outputs": [
        {
          "output_type": "execute_result",
          "data": {
            "text/plain": [
              "LN           NID \n",
              "Blacks       3712               (__, G/606/S, F/701/S)\n",
              "Bushafford   2815          (E/172/P, G/456/P, F/583/P)\n",
              "Carlsonney   3287               (G/522/S, __, F/621/S)\n",
              "Casonston    8129    (__, G/1313/P, F/1683/P, E/522/P)\n",
              "Chman        3060           (F/581/S, D/98/S, E/201/S)\n",
              "Clemondsey   9081             (G/1476/P, F/1858/P, __)\n",
              "Crayeson     5787         (E/365/P, G/929/P, F/1202/P)\n",
              "Crité        6468         (F/1339/P, E/411/P, D/204/P)\n",
              "Dillestron   6752        (E/447/S, G/1099/S, F/1291/S)\n",
              "Emenez       9238             (G/1501/P, __, F/1890/P)\n",
              "Fulloydez    8728             (F/1798/P, G/1416/P, __)\n",
              "Gouldensen   6363              (__, G/1026/P, E/405/P)\n",
              "Hebernandry  0632            (F/134/P, E/37/P, G/97/P)\n",
              "Jenson       6334        (G/1028/S, E/421/S, F/1210/S)\n",
              "Kellyons     5098               (F/976/S, __, G/832/S)\n",
              "Mayods       1384          (E/105/S, G/210/S, F/269/S)\n",
              "Mclardson    5329               (E/331/P, G/861/P, __)\n",
              "Minen        1709       (F/326/S, D/61/S, __, E/127/S)\n",
              "Nan          6744         (F/1399/P, D/212/P, E/431/P)\n",
              "Philloway    6611        (E/421/P, G/1069/P, F/1375/P)\n",
              "Rapie        8668         (F/1783/P, D/269/P, E/556/P)\n",
              "Rossey       4455          (F/915/P, E/280/P, G/731/P)\n",
              "Solinez      0938           (F/172/S, E/68/S, G/143/S)\n",
              "Spare        6936         (D/218/P, E/444/P, F/1438/P)\n",
              "Stpie        2092                (E/153/S, __, D/70/S)\n",
              "Toddleton    6405             (F/1224/S, __, G/1039/S)\n",
              "Torrez       5282         (E/337/S, F/1016/S, G/860/S)\n",
              "Tranklinay   2425               (G/396/P, F/495/P, __)\n",
              "Vandan       5601              (G/904/S, __, F/1069/S)\n",
              "Webstenson   1688               (E/124/S, __, G/262/S)\n",
              "Wilsoney     0220             (G/37/P, E/10/P, F/48/P)\n",
              "Wolferton    6850        (F/1424/P, G/1113/P, E/436/P)\n",
              "Wolffy       8606        (G/1386/S, F/1658/S, E/563/S)\n",
              "Woody        3236          (G/524/P, F/676/P, E/200/P)\n",
              "Yorkland     0461             (E/27/S, F/85/S, G/66/S)\n",
              "Name: Cabin, dtype: object"
            ]
          },
          "metadata": {},
          "execution_count": 49
        }
      ]
    },
    {
      "cell_type": "code",
      "source": [
        "mdf =dff.pivot_table (values=[ 'CryoSleep', 'Destination', 'Spa', 'VRDeck' ,  'FoodCourt' ], index=['LN' , 'NID', 'Cabin'],  aggfunc=(lambda x : tuple (x.unique()) ) )"
      ],
      "metadata": {
        "id": "fiyMgEvrPO-9"
      },
      "execution_count": null,
      "outputs": []
    },
    {
      "cell_type": "code",
      "source": [
        "Cab_Deck = df['Cabin'].str.split('/').str.get(0) # сплит Cabin \n",
        "Cab_Num = df['Cabin'].str.split('/').str.get(1) \n",
        "Cab_Type = df['Cabin'].str.split('/').str.get(2)\n",
        "df = df.join ( Cab_Deck , rsuffix='Deck', )\n",
        "df = df.join ( Cab_Num , rsuffix='Num', )\n",
        "df = df.join ( Cab_Type , rsuffix='Type')\n",
        "#dff['CabinType'] = dff['CabinType'].fillna ('__')"
      ],
      "metadata": {
        "id": "q4CrZYC9owIW"
      },
      "execution_count": null,
      "outputs": []
    },
    {
      "cell_type": "code",
      "source": [
        "df[df['Cabin']=='__']"
      ],
      "metadata": {
        "id": "cC9s69ajpw1F"
      },
      "execution_count": null,
      "outputs": []
    },
    {
      "cell_type": "code",
      "source": [
        "df.groupby ('CabinDeck').mean()['Transported']"
      ],
      "metadata": {
        "colab": {
          "base_uri": "https://localhost:8080/"
        },
        "id": "5XnMaGXMo92C",
        "outputId": "adf15a5a-8d03-4f81-f617-411225b21f1c"
      },
      "execution_count": null,
      "outputs": [
        {
          "output_type": "execute_result",
          "data": {
            "text/plain": [
              "CabinDeck\n",
              "A     0.496094\n",
              "B     0.734275\n",
              "C     0.680054\n",
              "D     0.433054\n",
              "E     0.357306\n",
              "F     0.439871\n",
              "G     0.516217\n",
              "T     0.200000\n",
              "__    0.502513\n",
              "Name: Transported, dtype: float64"
            ]
          },
          "metadata": {},
          "execution_count": 53
        }
      ]
    },
    {
      "cell_type": "code",
      "source": [
        "X_train.groupby ('CabinDeck').mean()['Transported']"
      ],
      "metadata": {
        "id": "-w1qJCiqnLkB"
      },
      "execution_count": null,
      "outputs": []
    },
    {
      "cell_type": "code",
      "source": [
        "mdf['Spa'][mdf['Spa'].apply (lambda x : len (x) >1 )].value_counts().filter (regex = '0&*').iloc[10:50] # восстановить Spa по комбо LN NId Cabin не получится (надо заменить на int см блок вначале )"
      ],
      "metadata": {
        "id": "tLYMh_fxiW1f"
      },
      "execution_count": null,
      "outputs": []
    },
    {
      "cell_type": "code",
      "source": [
        "mdf['CryoSleep'].value_counts() # в основном, спят каютами, поэтому можно попробовать CRyo восстановить"
      ],
      "metadata": {
        "colab": {
          "base_uri": "https://localhost:8080/"
        },
        "id": "r5piIHB1RK-o",
        "outputId": "21982362-937e-4339-c353-1492ff41eead"
      },
      "execution_count": null,
      "outputs": [
        {
          "output_type": "execute_result",
          "data": {
            "text/plain": [
              "(False,)              6408\n",
              "(True,)               3057\n",
              "(False, True)          424\n",
              "(True, False)          389\n",
              "(nan,)                 206\n",
              "(False, nan)            23\n",
              "(True, nan)             20\n",
              "(nan, False)            14\n",
              "(nan, True)             13\n",
              "(True, False, nan)      10\n",
              "(True, nan, False)       8\n",
              "(False, True, nan)       5\n",
              "(nan, True, False)       4\n",
              "(False, nan, True)       4\n",
              "(nan, False, True)       2\n",
              "Name: CryoSleep, dtype: int64"
            ]
          },
          "metadata": {},
          "execution_count": 55
        }
      ]
    },
    {
      "cell_type": "code",
      "source": [
        "mdf['Destination'].value_counts() #Dest не восстановсть"
      ],
      "metadata": {
        "colab": {
          "base_uri": "https://localhost:8080/"
        },
        "id": "6XCppDwbQ7d3",
        "outputId": "fe61d55a-2061-4277-a2c5-f2dec86e5cc0"
      },
      "execution_count": null,
      "outputs": [
        {
          "output_type": "execute_result",
          "data": {
            "text/plain": [
              "(TRAPPIST-1e,)                                    6883\n",
              "(55 Cancri e,)                                    1694\n",
              "(PSO J318.5-22,)                                   954\n",
              "(TRAPPIST-1e, 55 Cancri e)                         310\n",
              "(55 Cancri e, TRAPPIST-1e)                         279\n",
              "(nan,)                                             199\n",
              "(PSO J318.5-22, TRAPPIST-1e)                        66\n",
              "(TRAPPIST-1e, PSO J318.5-22)                        61\n",
              "(TRAPPIST-1e, nan)                                  25\n",
              "(55 Cancri e, PSO J318.5-22)                        23\n",
              "(nan, TRAPPIST-1e)                                  18\n",
              "(PSO J318.5-22, 55 Cancri e)                        14\n",
              "(TRAPPIST-1e, PSO J318.5-22, 55 Cancri e)           12\n",
              "(TRAPPIST-1e, 55 Cancri e, nan)                      7\n",
              "(55 Cancri e, nan)                                   5\n",
              "(PSO J318.5-22, TRAPPIST-1e, 55 Cancri e)            4\n",
              "(55 Cancri e, PSO J318.5-22, TRAPPIST-1e)            4\n",
              "(TRAPPIST-1e, PSO J318.5-22, nan)                    4\n",
              "(nan, 55 Cancri e)                                   3\n",
              "(TRAPPIST-1e, nan, 55 Cancri e)                      3\n",
              "(55 Cancri e, TRAPPIST-1e, nan)                      3\n",
              "(TRAPPIST-1e, 55 Cancri e, PSO J318.5-22)            3\n",
              "(55 Cancri e, TRAPPIST-1e, PSO J318.5-22)            3\n",
              "(PSO J318.5-22, 55 Cancri e, TRAPPIST-1e)            3\n",
              "(55 Cancri e, nan, TRAPPIST-1e)                      2\n",
              "(PSO J318.5-22, nan)                                 1\n",
              "(nan, PSO J318.5-22, TRAPPIST-1e)                    1\n",
              "(nan, TRAPPIST-1e, PSO J318.5-22)                    1\n",
              "(PSO J318.5-22, TRAPPIST-1e, nan, 55 Cancri e)       1\n",
              "(nan, PSO J318.5-22)                                 1\n",
              "Name: Destination, dtype: int64"
            ]
          },
          "metadata": {},
          "execution_count": 29
        }
      ]
    },
    {
      "cell_type": "code",
      "source": [
        "mdf['VRDeck'][mdf['VRDeck'].apply (lambda x : len (x) >1 )].value_counts() #  восстановить VRDeck по комбо LN NId Cabin не получится"
      ],
      "metadata": {
        "colab": {
          "base_uri": "https://localhost:8080/"
        },
        "id": "VxbOYhusckOQ",
        "outputId": "5f74540b-cef7-49ba-f834-5c530e97ddcd"
      },
      "execution_count": null,
      "outputs": [
        {
          "output_type": "execute_result",
          "data": {
            "text/plain": [
              "(0.0, 1.0)              13\n",
              "(0.0, 10.0)              6\n",
              "(1.0, 0.0)               6\n",
              "(4.0, 0.0)               5\n",
              "(0.0, 2.0)               5\n",
              "                        ..\n",
              "(5815.0, 34.0)           1\n",
              "(2355.0, 0.0)            1\n",
              "(191.0, 755.0, 20.0)     1\n",
              "(1.0, 1367.0, 0.0)       1\n",
              "(0.0, 102.0)             1\n",
              "Name: VRDeck, Length: 780, dtype: int64"
            ]
          },
          "metadata": {},
          "execution_count": 57
        }
      ]
    },
    {
      "cell_type": "code",
      "source": [
        "dff.groupby ('CryoSleep').aggregate (lambda x : tuple (x.unique())) # CryoSpeep == True дает нули во всех затраных статьях (что очевидно, конечно, если подумать про смысл признака)"
      ],
      "metadata": {
        "colab": {
          "base_uri": "https://localhost:8080/",
          "height": 430
        },
        "id": "cD4QrXAzHgpo",
        "outputId": "ed807a77-9de3-48c9-df18-d7046cbe5b35"
      },
      "execution_count": null,
      "outputs": [
        {
          "output_type": "execute_result",
          "data": {
            "text/plain": [
              "                                                 PassengerId  \\\n",
              "CryoSleep                                                      \n",
              "False      (0001_01, 0002_01, 0003_01, 0003_02, 0004_01, ...   \n",
              "True       (0006_02, 0008_01, 0008_02, 0016_01, 0020_01, ...   \n",
              "\n",
              "                          HomePlanet  \\\n",
              "CryoSleep                              \n",
              "False      (Europa, Earth, Mars, __)   \n",
              "True       (Earth, Europa, Mars, __)   \n",
              "\n",
              "                                                       Cabin  \\\n",
              "CryoSleep                                                      \n",
              "False      (B/0/P, F/0/S, A/0/S, F/1/S, F/0/P, F/2/S, F/3...   \n",
              "True       (G/0/S, B/1/P, F/5/P, E/0/S, C/2/S, D/1/S, G/1...   \n",
              "\n",
              "                                              Destination  \\\n",
              "CryoSleep                                                   \n",
              "False      (TRAPPIST-1e, PSO J318.5-22, 55 Cancri e, nan)   \n",
              "True       (TRAPPIST-1e, 55 Cancri e, PSO J318.5-22, nan)   \n",
              "\n",
              "                                                         Age  \\\n",
              "CryoSleep                                                      \n",
              "False      (39.0, 24.0, 58.0, 33.0, 16.0, 44.0, 26.0, 35....   \n",
              "True       (28.0, 14.0, 34.0, 45.0, 1.0, 49.0, 29.0, 62.0...   \n",
              "\n",
              "                          VIP  \\\n",
              "CryoSleep                       \n",
              "False      (False, True, nan)   \n",
              "True       (False, nan, True)   \n",
              "\n",
              "                                                 RoomService  \\\n",
              "CryoSleep                                                      \n",
              "False      (0.0, 109.0, 43.0, 303.0, 42.0, 39.0, 73.0, 71...   \n",
              "True                                              (0.0, nan)   \n",
              "\n",
              "                                                   FoodCourt  \\\n",
              "CryoSleep                                                      \n",
              "False      (0.0, 9.0, 3576.0, 1283.0, 70.0, 483.0, 1539.0...   \n",
              "True                                              (0.0, nan)   \n",
              "\n",
              "                                                ShoppingMall  \\\n",
              "CryoSleep                                                      \n",
              "False      (0.0, 25.0, 371.0, 151.0, 3.0, 17.0, 589.0, 11...   \n",
              "True                                              (0.0, nan)   \n",
              "\n",
              "                                                         Spa  \\\n",
              "CryoSleep                                                      \n",
              "False      (0, 549, 6715, 3329, 565, 291, 216, 110, 2, 99...   \n",
              "True                                                 (0, __)   \n",
              "\n",
              "                                                      VRDeck  \\\n",
              "CryoSleep                                                      \n",
              "False      (0.0, 44.0, 49.0, 193.0, 2.0, 124.0, 113.0, 24...   \n",
              "True                                               (__, 0.0)   \n",
              "\n",
              "                                                        Name  \\\n",
              "CryoSleep                                                      \n",
              "False      (Maham Ofracculy, Juanna Vines, Altark Susent,...   \n",
              "True       (Candra Jacostaffey, Erraiam Flatic, Altardr F...   \n",
              "\n",
              "                                                         NID  \\\n",
              "CryoSleep                                                      \n",
              "False      (0001, 0002, 0003, 0004, 0005, 0006, 0007, 000...   \n",
              "True       (0006, 0008, 0016, 0020, 0024, 0034, 0039, 004...   \n",
              "\n",
              "                                                          LN  \n",
              "CryoSleep                                                     \n",
              "False      (Ofracculy, Vines, Susent, Santantines, Hinett...  \n",
              "True       (Jacostaffey, Flatic, Upead, Brantuarez, Mcfad...  "
            ],
            "text/html": [
              "\n",
              "  <div id=\"df-2b9b46bc-6d12-4dc1-95b9-47e73ddfe4d2\">\n",
              "    <div class=\"colab-df-container\">\n",
              "      <div>\n",
              "<style scoped>\n",
              "    .dataframe tbody tr th:only-of-type {\n",
              "        vertical-align: middle;\n",
              "    }\n",
              "\n",
              "    .dataframe tbody tr th {\n",
              "        vertical-align: top;\n",
              "    }\n",
              "\n",
              "    .dataframe thead th {\n",
              "        text-align: right;\n",
              "    }\n",
              "</style>\n",
              "<table border=\"1\" class=\"dataframe\">\n",
              "  <thead>\n",
              "    <tr style=\"text-align: right;\">\n",
              "      <th></th>\n",
              "      <th>PassengerId</th>\n",
              "      <th>HomePlanet</th>\n",
              "      <th>Cabin</th>\n",
              "      <th>Destination</th>\n",
              "      <th>Age</th>\n",
              "      <th>VIP</th>\n",
              "      <th>RoomService</th>\n",
              "      <th>FoodCourt</th>\n",
              "      <th>ShoppingMall</th>\n",
              "      <th>Spa</th>\n",
              "      <th>VRDeck</th>\n",
              "      <th>Name</th>\n",
              "      <th>NID</th>\n",
              "      <th>LN</th>\n",
              "    </tr>\n",
              "    <tr>\n",
              "      <th>CryoSleep</th>\n",
              "      <th></th>\n",
              "      <th></th>\n",
              "      <th></th>\n",
              "      <th></th>\n",
              "      <th></th>\n",
              "      <th></th>\n",
              "      <th></th>\n",
              "      <th></th>\n",
              "      <th></th>\n",
              "      <th></th>\n",
              "      <th></th>\n",
              "      <th></th>\n",
              "      <th></th>\n",
              "      <th></th>\n",
              "    </tr>\n",
              "  </thead>\n",
              "  <tbody>\n",
              "    <tr>\n",
              "      <th>False</th>\n",
              "      <td>(0001_01, 0002_01, 0003_01, 0003_02, 0004_01, ...</td>\n",
              "      <td>(Europa, Earth, Mars, __)</td>\n",
              "      <td>(B/0/P, F/0/S, A/0/S, F/1/S, F/0/P, F/2/S, F/3...</td>\n",
              "      <td>(TRAPPIST-1e, PSO J318.5-22, 55 Cancri e, nan)</td>\n",
              "      <td>(39.0, 24.0, 58.0, 33.0, 16.0, 44.0, 26.0, 35....</td>\n",
              "      <td>(False, True, nan)</td>\n",
              "      <td>(0.0, 109.0, 43.0, 303.0, 42.0, 39.0, 73.0, 71...</td>\n",
              "      <td>(0.0, 9.0, 3576.0, 1283.0, 70.0, 483.0, 1539.0...</td>\n",
              "      <td>(0.0, 25.0, 371.0, 151.0, 3.0, 17.0, 589.0, 11...</td>\n",
              "      <td>(0, 549, 6715, 3329, 565, 291, 216, 110, 2, 99...</td>\n",
              "      <td>(0.0, 44.0, 49.0, 193.0, 2.0, 124.0, 113.0, 24...</td>\n",
              "      <td>(Maham Ofracculy, Juanna Vines, Altark Susent,...</td>\n",
              "      <td>(0001, 0002, 0003, 0004, 0005, 0006, 0007, 000...</td>\n",
              "      <td>(Ofracculy, Vines, Susent, Santantines, Hinett...</td>\n",
              "    </tr>\n",
              "    <tr>\n",
              "      <th>True</th>\n",
              "      <td>(0006_02, 0008_01, 0008_02, 0016_01, 0020_01, ...</td>\n",
              "      <td>(Earth, Europa, Mars, __)</td>\n",
              "      <td>(G/0/S, B/1/P, F/5/P, E/0/S, C/2/S, D/1/S, G/1...</td>\n",
              "      <td>(TRAPPIST-1e, 55 Cancri e, PSO J318.5-22, nan)</td>\n",
              "      <td>(28.0, 14.0, 34.0, 45.0, 1.0, 49.0, 29.0, 62.0...</td>\n",
              "      <td>(False, nan, True)</td>\n",
              "      <td>(0.0, nan)</td>\n",
              "      <td>(0.0, nan)</td>\n",
              "      <td>(0.0, nan)</td>\n",
              "      <td>(0, __)</td>\n",
              "      <td>(__, 0.0)</td>\n",
              "      <td>(Candra Jacostaffey, Erraiam Flatic, Altardr F...</td>\n",
              "      <td>(0006, 0008, 0016, 0020, 0024, 0034, 0039, 004...</td>\n",
              "      <td>(Jacostaffey, Flatic, Upead, Brantuarez, Mcfad...</td>\n",
              "    </tr>\n",
              "  </tbody>\n",
              "</table>\n",
              "</div>\n",
              "      <button class=\"colab-df-convert\" onclick=\"convertToInteractive('df-2b9b46bc-6d12-4dc1-95b9-47e73ddfe4d2')\"\n",
              "              title=\"Convert this dataframe to an interactive table.\"\n",
              "              style=\"display:none;\">\n",
              "        \n",
              "  <svg xmlns=\"http://www.w3.org/2000/svg\" height=\"24px\"viewBox=\"0 0 24 24\"\n",
              "       width=\"24px\">\n",
              "    <path d=\"M0 0h24v24H0V0z\" fill=\"none\"/>\n",
              "    <path d=\"M18.56 5.44l.94 2.06.94-2.06 2.06-.94-2.06-.94-.94-2.06-.94 2.06-2.06.94zm-11 1L8.5 8.5l.94-2.06 2.06-.94-2.06-.94L8.5 2.5l-.94 2.06-2.06.94zm10 10l.94 2.06.94-2.06 2.06-.94-2.06-.94-.94-2.06-.94 2.06-2.06.94z\"/><path d=\"M17.41 7.96l-1.37-1.37c-.4-.4-.92-.59-1.43-.59-.52 0-1.04.2-1.43.59L10.3 9.45l-7.72 7.72c-.78.78-.78 2.05 0 2.83L4 21.41c.39.39.9.59 1.41.59.51 0 1.02-.2 1.41-.59l7.78-7.78 2.81-2.81c.8-.78.8-2.07 0-2.86zM5.41 20L4 18.59l7.72-7.72 1.47 1.35L5.41 20z\"/>\n",
              "  </svg>\n",
              "      </button>\n",
              "      \n",
              "  <style>\n",
              "    .colab-df-container {\n",
              "      display:flex;\n",
              "      flex-wrap:wrap;\n",
              "      gap: 12px;\n",
              "    }\n",
              "\n",
              "    .colab-df-convert {\n",
              "      background-color: #E8F0FE;\n",
              "      border: none;\n",
              "      border-radius: 50%;\n",
              "      cursor: pointer;\n",
              "      display: none;\n",
              "      fill: #1967D2;\n",
              "      height: 32px;\n",
              "      padding: 0 0 0 0;\n",
              "      width: 32px;\n",
              "    }\n",
              "\n",
              "    .colab-df-convert:hover {\n",
              "      background-color: #E2EBFA;\n",
              "      box-shadow: 0px 1px 2px rgba(60, 64, 67, 0.3), 0px 1px 3px 1px rgba(60, 64, 67, 0.15);\n",
              "      fill: #174EA6;\n",
              "    }\n",
              "\n",
              "    [theme=dark] .colab-df-convert {\n",
              "      background-color: #3B4455;\n",
              "      fill: #D2E3FC;\n",
              "    }\n",
              "\n",
              "    [theme=dark] .colab-df-convert:hover {\n",
              "      background-color: #434B5C;\n",
              "      box-shadow: 0px 1px 3px 1px rgba(0, 0, 0, 0.15);\n",
              "      filter: drop-shadow(0px 1px 2px rgba(0, 0, 0, 0.3));\n",
              "      fill: #FFFFFF;\n",
              "    }\n",
              "  </style>\n",
              "\n",
              "      <script>\n",
              "        const buttonEl =\n",
              "          document.querySelector('#df-2b9b46bc-6d12-4dc1-95b9-47e73ddfe4d2 button.colab-df-convert');\n",
              "        buttonEl.style.display =\n",
              "          google.colab.kernel.accessAllowed ? 'block' : 'none';\n",
              "\n",
              "        async function convertToInteractive(key) {\n",
              "          const element = document.querySelector('#df-2b9b46bc-6d12-4dc1-95b9-47e73ddfe4d2');\n",
              "          const dataTable =\n",
              "            await google.colab.kernel.invokeFunction('convertToInteractive',\n",
              "                                                     [key], {});\n",
              "          if (!dataTable) return;\n",
              "\n",
              "          const docLinkHtml = 'Like what you see? Visit the ' +\n",
              "            '<a target=\"_blank\" href=https://colab.research.google.com/notebooks/data_table.ipynb>data table notebook</a>'\n",
              "            + ' to learn more about interactive tables.';\n",
              "          element.innerHTML = '';\n",
              "          dataTable['output_type'] = 'display_data';\n",
              "          await google.colab.output.renderOutput(dataTable, element);\n",
              "          const docLink = document.createElement('div');\n",
              "          docLink.innerHTML = docLinkHtml;\n",
              "          element.appendChild(docLink);\n",
              "        }\n",
              "      </script>\n",
              "    </div>\n",
              "  </div>\n",
              "  "
            ]
          },
          "metadata": {},
          "execution_count": 411
        }
      ]
    },
    {
      "cell_type": "code",
      "source": [
        "dff[dff['Spa'] != 0].pivot_table (values=[ 'CryoSleep', 'Destination',  'VRDeck' ,  'FoodCourt' ], index=['Spa'],  aggfunc=(lambda x : tuple (x.unique()) ) )['CryoSleep'].value_counts ()"
      ],
      "metadata": {
        "colab": {
          "base_uri": "https://localhost:8080/"
        },
        "id": "aGILvRP1gIOw",
        "outputId": "51189e8f-214f-4442-d90a-f8f8e047a3cf"
      },
      "execution_count": null,
      "outputs": [
        {
          "output_type": "execute_result",
          "data": {
            "text/plain": [
              "(False,)              1581\n",
              "(False, nan)            65\n",
              "(nan,)                  20\n",
              "(nan, False)            12\n",
              "(False, True, nan)       1\n",
              "Name: CryoSleep, dtype: int64"
            ]
          },
          "metadata": {},
          "execution_count": 409
        }
      ]
    },
    {
      "cell_type": "code",
      "source": [
        "dff.groupby ('Spa').aggregate (lambda x : tuple (x.unique()))['CryoSleep'].value_counts ()# очевидно что Cryo и Spa несовместимы: всем Spa > 0 выставить Cryo False"
      ],
      "metadata": {
        "colab": {
          "base_uri": "https://localhost:8080/"
        },
        "id": "KCX3Ej2vGdxX",
        "outputId": "52151cd3-b60e-4282-e9e7-b461f1410b3d"
      },
      "execution_count": null,
      "outputs": [
        {
          "output_type": "execute_result",
          "data": {
            "text/plain": [
              "(False,)              1581\n",
              "(False, nan)            65\n",
              "(nan,)                  20\n",
              "(nan, False)            12\n",
              "(False, True, nan)       2\n",
              "Name: CryoSleep, dtype: int64"
            ]
          },
          "metadata": {},
          "execution_count": 408
        }
      ]
    },
    {
      "cell_type": "code",
      "source": [
        "dfins = dff[dff['CryoSleep']==False] # массив неспящих\n",
        "dfins['sum_pc'] = dfins['FoodCourt'] + dfins['RoomService'] + dfins['ShoppingMall'] + dfins['Spa'] + dfins['VRDeck']"
      ],
      "metadata": {
        "id": "GIZny7nCJ9uA"
      },
      "execution_count": null,
      "outputs": []
    },
    {
      "cell_type": "code",
      "source": [
        "dfins[(dfins['sum_pc']==0) & (dfins['Age'] > 21) ]"
      ],
      "metadata": {
        "colab": {
          "base_uri": "https://localhost:8080/",
          "height": 424
        },
        "id": "uoDnT8Pj0CRa",
        "outputId": "c7020e05-351d-4753-8cbe-87b13a99491e"
      },
      "execution_count": null,
      "outputs": [
        {
          "output_type": "execute_result",
          "data": {
            "text/plain": [
              "      PassengerId HomePlanet CryoSleep    Cabin  Destination   Age    VIP  \\\n",
              "0         0001_01     Europa     False    B/0/P  TRAPPIST-1e  39.0  False   \n",
              "134       0146_01      Earth     False   G/25/S  TRAPPIST-1e  56.0  False   \n",
              "473       0507_01      Earth     False   G/74/S  TRAPPIST-1e  39.0  False   \n",
              "579       0602_02       Mars     False   E/36/P  TRAPPIST-1e  25.0  False   \n",
              "779       0818_01     Europa     False   B/29/S  TRAPPIST-1e  71.0   True   \n",
              "...           ...        ...       ...      ...          ...   ...    ...   \n",
              "12169     7570_01     Europa     False  B/248/P  TRAPPIST-1e  30.0  False   \n",
              "12304     7876_01       Mars     False  E/511/P  TRAPPIST-1e  26.0  False   \n",
              "12528     8391_01       Mars     False  E/552/S  TRAPPIST-1e  51.0  False   \n",
              "12766     8873_01     Europa     False   A/93/P  TRAPPIST-1e  25.0  False   \n",
              "12805     8933_01       Mars     False  E/572/P  TRAPPIST-1e  22.0  False   \n",
              "\n",
              "       RoomService  FoodCourt  ShoppingMall  Spa  VRDeck               Name  \\\n",
              "0              0.0        0.0           0.0  0.0     0.0    Maham Ofracculy   \n",
              "134            0.0        0.0           0.0  0.0     0.0  Verly Wolferguson   \n",
              "473            0.0        0.0           0.0  0.0     0.0      Kylen Mccarry   \n",
              "579            0.0        0.0           0.0  0.0     0.0         Oats Brine   \n",
              "779            0.0        0.0           0.0  0.0     0.0    Ksorab Couseced   \n",
              "...            ...        ...           ...  ...     ...                ...   \n",
              "12169          0.0        0.0           0.0  0.0     0.0       Aton Filerst   \n",
              "12304          0.0        0.0           0.0  0.0     0.0       Graisp Sacre   \n",
              "12528          0.0        0.0           0.0  0.0     0.0          Ton Apity   \n",
              "12766          0.0        0.0           0.0  0.0     0.0      Altar Unregul   \n",
              "12805          0.0        0.0           0.0  0.0     0.0        Terek Brazo   \n",
              "\n",
              "        NID           LN  sum_pc  \n",
              "0      0001    Ofracculy     0.0  \n",
              "134    0146  Wolferguson     0.0  \n",
              "473    0507      Mccarry     0.0  \n",
              "579    0602        Brine     0.0  \n",
              "779    0818     Couseced     0.0  \n",
              "...     ...          ...     ...  \n",
              "12169  7570      Filerst     0.0  \n",
              "12304  7876        Sacre     0.0  \n",
              "12528  8391        Apity     0.0  \n",
              "12766  8873      Unregul     0.0  \n",
              "12805  8933        Brazo     0.0  \n",
              "\n",
              "[101 rows x 16 columns]"
            ],
            "text/html": [
              "\n",
              "  <div id=\"df-21dc37bb-b78a-4e2b-980e-fae84dfd8fda\">\n",
              "    <div class=\"colab-df-container\">\n",
              "      <div>\n",
              "<style scoped>\n",
              "    .dataframe tbody tr th:only-of-type {\n",
              "        vertical-align: middle;\n",
              "    }\n",
              "\n",
              "    .dataframe tbody tr th {\n",
              "        vertical-align: top;\n",
              "    }\n",
              "\n",
              "    .dataframe thead th {\n",
              "        text-align: right;\n",
              "    }\n",
              "</style>\n",
              "<table border=\"1\" class=\"dataframe\">\n",
              "  <thead>\n",
              "    <tr style=\"text-align: right;\">\n",
              "      <th></th>\n",
              "      <th>PassengerId</th>\n",
              "      <th>HomePlanet</th>\n",
              "      <th>CryoSleep</th>\n",
              "      <th>Cabin</th>\n",
              "      <th>Destination</th>\n",
              "      <th>Age</th>\n",
              "      <th>VIP</th>\n",
              "      <th>RoomService</th>\n",
              "      <th>FoodCourt</th>\n",
              "      <th>ShoppingMall</th>\n",
              "      <th>Spa</th>\n",
              "      <th>VRDeck</th>\n",
              "      <th>Name</th>\n",
              "      <th>NID</th>\n",
              "      <th>LN</th>\n",
              "      <th>sum_pc</th>\n",
              "    </tr>\n",
              "  </thead>\n",
              "  <tbody>\n",
              "    <tr>\n",
              "      <th>0</th>\n",
              "      <td>0001_01</td>\n",
              "      <td>Europa</td>\n",
              "      <td>False</td>\n",
              "      <td>B/0/P</td>\n",
              "      <td>TRAPPIST-1e</td>\n",
              "      <td>39.0</td>\n",
              "      <td>False</td>\n",
              "      <td>0.0</td>\n",
              "      <td>0.0</td>\n",
              "      <td>0.0</td>\n",
              "      <td>0.0</td>\n",
              "      <td>0.0</td>\n",
              "      <td>Maham Ofracculy</td>\n",
              "      <td>0001</td>\n",
              "      <td>Ofracculy</td>\n",
              "      <td>0.0</td>\n",
              "    </tr>\n",
              "    <tr>\n",
              "      <th>134</th>\n",
              "      <td>0146_01</td>\n",
              "      <td>Earth</td>\n",
              "      <td>False</td>\n",
              "      <td>G/25/S</td>\n",
              "      <td>TRAPPIST-1e</td>\n",
              "      <td>56.0</td>\n",
              "      <td>False</td>\n",
              "      <td>0.0</td>\n",
              "      <td>0.0</td>\n",
              "      <td>0.0</td>\n",
              "      <td>0.0</td>\n",
              "      <td>0.0</td>\n",
              "      <td>Verly Wolferguson</td>\n",
              "      <td>0146</td>\n",
              "      <td>Wolferguson</td>\n",
              "      <td>0.0</td>\n",
              "    </tr>\n",
              "    <tr>\n",
              "      <th>473</th>\n",
              "      <td>0507_01</td>\n",
              "      <td>Earth</td>\n",
              "      <td>False</td>\n",
              "      <td>G/74/S</td>\n",
              "      <td>TRAPPIST-1e</td>\n",
              "      <td>39.0</td>\n",
              "      <td>False</td>\n",
              "      <td>0.0</td>\n",
              "      <td>0.0</td>\n",
              "      <td>0.0</td>\n",
              "      <td>0.0</td>\n",
              "      <td>0.0</td>\n",
              "      <td>Kylen Mccarry</td>\n",
              "      <td>0507</td>\n",
              "      <td>Mccarry</td>\n",
              "      <td>0.0</td>\n",
              "    </tr>\n",
              "    <tr>\n",
              "      <th>579</th>\n",
              "      <td>0602_02</td>\n",
              "      <td>Mars</td>\n",
              "      <td>False</td>\n",
              "      <td>E/36/P</td>\n",
              "      <td>TRAPPIST-1e</td>\n",
              "      <td>25.0</td>\n",
              "      <td>False</td>\n",
              "      <td>0.0</td>\n",
              "      <td>0.0</td>\n",
              "      <td>0.0</td>\n",
              "      <td>0.0</td>\n",
              "      <td>0.0</td>\n",
              "      <td>Oats Brine</td>\n",
              "      <td>0602</td>\n",
              "      <td>Brine</td>\n",
              "      <td>0.0</td>\n",
              "    </tr>\n",
              "    <tr>\n",
              "      <th>779</th>\n",
              "      <td>0818_01</td>\n",
              "      <td>Europa</td>\n",
              "      <td>False</td>\n",
              "      <td>B/29/S</td>\n",
              "      <td>TRAPPIST-1e</td>\n",
              "      <td>71.0</td>\n",
              "      <td>True</td>\n",
              "      <td>0.0</td>\n",
              "      <td>0.0</td>\n",
              "      <td>0.0</td>\n",
              "      <td>0.0</td>\n",
              "      <td>0.0</td>\n",
              "      <td>Ksorab Couseced</td>\n",
              "      <td>0818</td>\n",
              "      <td>Couseced</td>\n",
              "      <td>0.0</td>\n",
              "    </tr>\n",
              "    <tr>\n",
              "      <th>...</th>\n",
              "      <td>...</td>\n",
              "      <td>...</td>\n",
              "      <td>...</td>\n",
              "      <td>...</td>\n",
              "      <td>...</td>\n",
              "      <td>...</td>\n",
              "      <td>...</td>\n",
              "      <td>...</td>\n",
              "      <td>...</td>\n",
              "      <td>...</td>\n",
              "      <td>...</td>\n",
              "      <td>...</td>\n",
              "      <td>...</td>\n",
              "      <td>...</td>\n",
              "      <td>...</td>\n",
              "      <td>...</td>\n",
              "    </tr>\n",
              "    <tr>\n",
              "      <th>12169</th>\n",
              "      <td>7570_01</td>\n",
              "      <td>Europa</td>\n",
              "      <td>False</td>\n",
              "      <td>B/248/P</td>\n",
              "      <td>TRAPPIST-1e</td>\n",
              "      <td>30.0</td>\n",
              "      <td>False</td>\n",
              "      <td>0.0</td>\n",
              "      <td>0.0</td>\n",
              "      <td>0.0</td>\n",
              "      <td>0.0</td>\n",
              "      <td>0.0</td>\n",
              "      <td>Aton Filerst</td>\n",
              "      <td>7570</td>\n",
              "      <td>Filerst</td>\n",
              "      <td>0.0</td>\n",
              "    </tr>\n",
              "    <tr>\n",
              "      <th>12304</th>\n",
              "      <td>7876_01</td>\n",
              "      <td>Mars</td>\n",
              "      <td>False</td>\n",
              "      <td>E/511/P</td>\n",
              "      <td>TRAPPIST-1e</td>\n",
              "      <td>26.0</td>\n",
              "      <td>False</td>\n",
              "      <td>0.0</td>\n",
              "      <td>0.0</td>\n",
              "      <td>0.0</td>\n",
              "      <td>0.0</td>\n",
              "      <td>0.0</td>\n",
              "      <td>Graisp Sacre</td>\n",
              "      <td>7876</td>\n",
              "      <td>Sacre</td>\n",
              "      <td>0.0</td>\n",
              "    </tr>\n",
              "    <tr>\n",
              "      <th>12528</th>\n",
              "      <td>8391_01</td>\n",
              "      <td>Mars</td>\n",
              "      <td>False</td>\n",
              "      <td>E/552/S</td>\n",
              "      <td>TRAPPIST-1e</td>\n",
              "      <td>51.0</td>\n",
              "      <td>False</td>\n",
              "      <td>0.0</td>\n",
              "      <td>0.0</td>\n",
              "      <td>0.0</td>\n",
              "      <td>0.0</td>\n",
              "      <td>0.0</td>\n",
              "      <td>Ton Apity</td>\n",
              "      <td>8391</td>\n",
              "      <td>Apity</td>\n",
              "      <td>0.0</td>\n",
              "    </tr>\n",
              "    <tr>\n",
              "      <th>12766</th>\n",
              "      <td>8873_01</td>\n",
              "      <td>Europa</td>\n",
              "      <td>False</td>\n",
              "      <td>A/93/P</td>\n",
              "      <td>TRAPPIST-1e</td>\n",
              "      <td>25.0</td>\n",
              "      <td>False</td>\n",
              "      <td>0.0</td>\n",
              "      <td>0.0</td>\n",
              "      <td>0.0</td>\n",
              "      <td>0.0</td>\n",
              "      <td>0.0</td>\n",
              "      <td>Altar Unregul</td>\n",
              "      <td>8873</td>\n",
              "      <td>Unregul</td>\n",
              "      <td>0.0</td>\n",
              "    </tr>\n",
              "    <tr>\n",
              "      <th>12805</th>\n",
              "      <td>8933_01</td>\n",
              "      <td>Mars</td>\n",
              "      <td>False</td>\n",
              "      <td>E/572/P</td>\n",
              "      <td>TRAPPIST-1e</td>\n",
              "      <td>22.0</td>\n",
              "      <td>False</td>\n",
              "      <td>0.0</td>\n",
              "      <td>0.0</td>\n",
              "      <td>0.0</td>\n",
              "      <td>0.0</td>\n",
              "      <td>0.0</td>\n",
              "      <td>Terek Brazo</td>\n",
              "      <td>8933</td>\n",
              "      <td>Brazo</td>\n",
              "      <td>0.0</td>\n",
              "    </tr>\n",
              "  </tbody>\n",
              "</table>\n",
              "<p>101 rows × 16 columns</p>\n",
              "</div>\n",
              "      <button class=\"colab-df-convert\" onclick=\"convertToInteractive('df-21dc37bb-b78a-4e2b-980e-fae84dfd8fda')\"\n",
              "              title=\"Convert this dataframe to an interactive table.\"\n",
              "              style=\"display:none;\">\n",
              "        \n",
              "  <svg xmlns=\"http://www.w3.org/2000/svg\" height=\"24px\"viewBox=\"0 0 24 24\"\n",
              "       width=\"24px\">\n",
              "    <path d=\"M0 0h24v24H0V0z\" fill=\"none\"/>\n",
              "    <path d=\"M18.56 5.44l.94 2.06.94-2.06 2.06-.94-2.06-.94-.94-2.06-.94 2.06-2.06.94zm-11 1L8.5 8.5l.94-2.06 2.06-.94-2.06-.94L8.5 2.5l-.94 2.06-2.06.94zm10 10l.94 2.06.94-2.06 2.06-.94-2.06-.94-.94-2.06-.94 2.06-2.06.94z\"/><path d=\"M17.41 7.96l-1.37-1.37c-.4-.4-.92-.59-1.43-.59-.52 0-1.04.2-1.43.59L10.3 9.45l-7.72 7.72c-.78.78-.78 2.05 0 2.83L4 21.41c.39.39.9.59 1.41.59.51 0 1.02-.2 1.41-.59l7.78-7.78 2.81-2.81c.8-.78.8-2.07 0-2.86zM5.41 20L4 18.59l7.72-7.72 1.47 1.35L5.41 20z\"/>\n",
              "  </svg>\n",
              "      </button>\n",
              "      \n",
              "  <style>\n",
              "    .colab-df-container {\n",
              "      display:flex;\n",
              "      flex-wrap:wrap;\n",
              "      gap: 12px;\n",
              "    }\n",
              "\n",
              "    .colab-df-convert {\n",
              "      background-color: #E8F0FE;\n",
              "      border: none;\n",
              "      border-radius: 50%;\n",
              "      cursor: pointer;\n",
              "      display: none;\n",
              "      fill: #1967D2;\n",
              "      height: 32px;\n",
              "      padding: 0 0 0 0;\n",
              "      width: 32px;\n",
              "    }\n",
              "\n",
              "    .colab-df-convert:hover {\n",
              "      background-color: #E2EBFA;\n",
              "      box-shadow: 0px 1px 2px rgba(60, 64, 67, 0.3), 0px 1px 3px 1px rgba(60, 64, 67, 0.15);\n",
              "      fill: #174EA6;\n",
              "    }\n",
              "\n",
              "    [theme=dark] .colab-df-convert {\n",
              "      background-color: #3B4455;\n",
              "      fill: #D2E3FC;\n",
              "    }\n",
              "\n",
              "    [theme=dark] .colab-df-convert:hover {\n",
              "      background-color: #434B5C;\n",
              "      box-shadow: 0px 1px 3px 1px rgba(0, 0, 0, 0.15);\n",
              "      filter: drop-shadow(0px 1px 2px rgba(0, 0, 0, 0.3));\n",
              "      fill: #FFFFFF;\n",
              "    }\n",
              "  </style>\n",
              "\n",
              "      <script>\n",
              "        const buttonEl =\n",
              "          document.querySelector('#df-21dc37bb-b78a-4e2b-980e-fae84dfd8fda button.colab-df-convert');\n",
              "        buttonEl.style.display =\n",
              "          google.colab.kernel.accessAllowed ? 'block' : 'none';\n",
              "\n",
              "        async function convertToInteractive(key) {\n",
              "          const element = document.querySelector('#df-21dc37bb-b78a-4e2b-980e-fae84dfd8fda');\n",
              "          const dataTable =\n",
              "            await google.colab.kernel.invokeFunction('convertToInteractive',\n",
              "                                                     [key], {});\n",
              "          if (!dataTable) return;\n",
              "\n",
              "          const docLinkHtml = 'Like what you see? Visit the ' +\n",
              "            '<a target=\"_blank\" href=https://colab.research.google.com/notebooks/data_table.ipynb>data table notebook</a>'\n",
              "            + ' to learn more about interactive tables.';\n",
              "          element.innerHTML = '';\n",
              "          dataTable['output_type'] = 'display_data';\n",
              "          await google.colab.output.renderOutput(dataTable, element);\n",
              "          const docLink = document.createElement('div');\n",
              "          docLink.innerHTML = docLinkHtml;\n",
              "          element.appendChild(docLink);\n",
              "        }\n",
              "      </script>\n",
              "    </div>\n",
              "  </div>\n",
              "  "
            ]
          },
          "metadata": {},
          "execution_count": 59
        }
      ]
    },
    {
      "cell_type": "code",
      "source": [
        "dfins_21 = dfins[dfins['Age']> 21]\n",
        "dfsum_21 = dfins_21['FoodCourt'] + dfins_21['RoomService'] + dfins_21['ShoppingMall'] + dfins_21['Spa'] + dfins_21['VRDeck']"
      ],
      "metadata": {
        "id": "ycFECDIbK9KZ"
      },
      "execution_count": null,
      "outputs": []
    },
    {
      "cell_type": "code",
      "source": [
        "dfsum_21[dfsum_21 ==0] # примерно 98% неспящих старше 21 года где-то да тратило деньги, можно попробовать заполнить пропущенные значения средними (либо 1)"
      ],
      "metadata": {
        "colab": {
          "base_uri": "https://localhost:8080/"
        },
        "id": "sT-2PU6LNZQM",
        "outputId": "765ce80b-da64-466c-9d91-4359b3e56ceb"
      },
      "execution_count": null,
      "outputs": [
        {
          "output_type": "execute_result",
          "data": {
            "text/plain": [
              "0        0.0\n",
              "134      0.0\n",
              "473      0.0\n",
              "579      0.0\n",
              "779      0.0\n",
              "        ... \n",
              "12169    0.0\n",
              "12304    0.0\n",
              "12528    0.0\n",
              "12766    0.0\n",
              "12805    0.0\n",
              "Length: 101, dtype: float64"
            ]
          },
          "metadata": {},
          "execution_count": 61
        }
      ]
    },
    {
      "cell_type": "code",
      "source": [
        "dfins['sum_pc'].mean()"
      ],
      "metadata": {
        "colab": {
          "base_uri": "https://localhost:8080/"
        },
        "id": "X6FP6raPLtTQ",
        "outputId": "a5daff57-b15a-4fd6-bbc2-ce485bc871dd"
      },
      "execution_count": null,
      "outputs": [
        {
          "output_type": "execute_result",
          "data": {
            "text/plain": [
              "2297.552279928365"
            ]
          },
          "metadata": {},
          "execution_count": 65
        }
      ]
    },
    {
      "cell_type": "code",
      "source": [
        "df['sum_pch'] = df['FoodCourt']  + df['RoomService'] + df['ShoppingMall'] + df['Spa'] + df['VRDeck']"
      ],
      "metadata": {
        "id": "a6x2oRJaOgYG"
      },
      "execution_count": null,
      "outputs": []
    },
    {
      "cell_type": "code",
      "source": [
        "df[df['sum_pch']>0]['Transported'].mean() # выживаемость среди тратящих ниже среднего"
      ],
      "metadata": {
        "colab": {
          "base_uri": "https://localhost:8080/"
        },
        "id": "reFNoSIgOD58",
        "outputId": "35573e15-6c0e-4117-d68b-4853ee3b247a"
      },
      "execution_count": null,
      "outputs": [
        {
          "output_type": "execute_result",
          "data": {
            "text/plain": [
              "0.3012340237990304"
            ]
          },
          "metadata": {},
          "execution_count": 67
        }
      ]
    },
    {
      "cell_type": "code",
      "source": [
        "df['sum_pch'].nunique()"
      ],
      "metadata": {
        "colab": {
          "base_uri": "https://localhost:8080/"
        },
        "id": "TpJekm5oPwfu",
        "outputId": "73434627-8fc4-46c4-e831-c3e14ca4c8e0"
      },
      "execution_count": null,
      "outputs": [
        {
          "output_type": "execute_result",
          "data": {
            "text/plain": [
              "2116"
            ]
          },
          "metadata": {},
          "execution_count": 491
        }
      ]
    },
    {
      "cell_type": "code",
      "source": [
        "df_pch = df[df['sum_pch']>0] # люди с ненулевыми тратами"
      ],
      "metadata": {
        "id": "DHdyFkmKP2-q"
      },
      "execution_count": null,
      "outputs": []
    },
    {
      "cell_type": "code",
      "source": [
        "df[(df['CryoSleep']==False) & (df['Transported'] == True)]['sum_pch'].value_counts() # 287 /1789 (16%) "
      ],
      "metadata": {
        "colab": {
          "base_uri": "https://localhost:8080/"
        },
        "id": "rrfU5EEwSu9L",
        "outputId": "f42eceac-df62-46f5-92ae-94c0c36fafb7"
      },
      "execution_count": null,
      "outputs": [
        {
          "output_type": "execute_result",
          "data": {
            "text/plain": [
              "0.0        287\n",
              "809.0       11\n",
              "808.0        9\n",
              "791.0        8\n",
              "803.0        8\n",
              "          ... \n",
              "2395.0       1\n",
              "19775.0      1\n",
              "1112.0       1\n",
              "4197.0       1\n",
              "1873.0       1\n",
              "Name: sum_pch, Length: 941, dtype: int64"
            ]
          },
          "metadata": {},
          "execution_count": 69
        }
      ]
    },
    {
      "cell_type": "code",
      "source": [
        "df[(df['CryoSleep']==False) & (df['Transported'] == False)]['sum_pch'].value_counts() #  183/3279 (5%)"
      ],
      "metadata": {
        "colab": {
          "base_uri": "https://localhost:8080/"
        },
        "id": "Jsrk71GBTs6_",
        "outputId": "e4f4c542-9d4b-4b9f-ca1f-05144ea91358"
      },
      "execution_count": null,
      "outputs": [
        {
          "output_type": "execute_result",
          "data": {
            "text/plain": [
              "0.0       183\n",
              "809.0      39\n",
              "788.0      31\n",
              "804.0      30\n",
              "908.0      26\n",
              "         ... \n",
              "1026.0      1\n",
              "892.0       1\n",
              "2742.0      1\n",
              "813.0       1\n",
              "4637.0      1\n",
              "Name: sum_pch, Length: 1558, dtype: int64"
            ]
          },
          "metadata": {},
          "execution_count": 80
        }
      ]
    },
    {
      "cell_type": "code",
      "source": [
        "df[(df['CryoSleep']==False) & (df['Transported'] == True)]['sum_pch'].value_counts() # 287/1623 (17%)"
      ],
      "metadata": {
        "colab": {
          "base_uri": "https://localhost:8080/"
        },
        "id": "b4gdT8O9lcC2",
        "outputId": "743f81ab-dd11-4028-e7ae-945413593c88"
      },
      "execution_count": null,
      "outputs": [
        {
          "output_type": "execute_result",
          "data": {
            "text/plain": [
              "0.0        287\n",
              "809.0       11\n",
              "808.0        9\n",
              "791.0        8\n",
              "803.0        8\n",
              "          ... \n",
              "2395.0       1\n",
              "19775.0      1\n",
              "1112.0       1\n",
              "4197.0       1\n",
              "1873.0       1\n",
              "Name: sum_pch, Length: 941, dtype: int64"
            ]
          },
          "metadata": {},
          "execution_count": 78
        }
      ]
    },
    {
      "cell_type": "code",
      "source": [
        "df[(df['CryoSleep']==False) & (df['sum_pch'] != 0)]['Transported'].mean() , df[(df['CryoSleep']==False) & (df['sum_pch'] == 0)]['Transported'].mean() # траты важны для выживаемости"
      ],
      "metadata": {
        "colab": {
          "base_uri": "https://localhost:8080/"
        },
        "id": "PsPVmMV_ooAG",
        "outputId": "eaa233fc-821b-486b-f731-a7ed685cf558"
      },
      "execution_count": null,
      "outputs": [
        {
          "output_type": "execute_result",
          "data": {
            "text/plain": [
              "(0.30227409941638156, 0.6106382978723405)"
            ]
          },
          "metadata": {},
          "execution_count": 84
        }
      ]
    },
    {
      "cell_type": "code",
      "source": [
        "icr = df[(df['CryoSleep']==False) & (df['Transported'] == True)].index"
      ],
      "metadata": {
        "id": "aRUyCyMLT4ys"
      },
      "execution_count": null,
      "outputs": []
    },
    {
      "cell_type": "code",
      "source": [
        "i_pch = df[(df['sum_pch']>0) & (df['Transported'] == True)].index"
      ],
      "metadata": {
        "id": "-wJOO4oTUE1u"
      },
      "execution_count": null,
      "outputs": []
    },
    {
      "cell_type": "code",
      "source": [
        "len (set (icr).difference(set (i_pch))) # похоже что Cryo и sum_pc дополняют друг друга, а не заменяют"
      ],
      "metadata": {
        "colab": {
          "base_uri": "https://localhost:8080/"
        },
        "id": "t125OLXkUZ5s",
        "outputId": "036b2648-6572-4b88-d31e-eb4db4ad5f73"
      },
      "execution_count": null,
      "outputs": [
        {
          "output_type": "execute_result",
          "data": {
            "text/plain": [
              "453"
            ]
          },
          "metadata": {},
          "execution_count": 91
        }
      ]
    },
    {
      "cell_type": "code",
      "source": [
        "len (set (icr) )"
      ],
      "metadata": {
        "colab": {
          "base_uri": "https://localhost:8080/"
        },
        "id": "M_r82y7AUkHE",
        "outputId": "6e0ccc1c-234f-4960-8434-7933906bc14d"
      },
      "execution_count": null,
      "outputs": [
        {
          "output_type": "execute_result",
          "data": {
            "text/plain": [
              "1789"
            ]
          },
          "metadata": {},
          "execution_count": 92
        }
      ]
    },
    {
      "cell_type": "code",
      "source": [
        "df_pch['pch_cat']  = pd.cut (df_pch['sum_pch'], 30)"
      ],
      "metadata": {
        "id": "eacUSY4LPTFq"
      },
      "execution_count": null,
      "outputs": []
    },
    {
      "cell_type": "code",
      "source": [
        "df_pch.groupby ('pch_cat').mean()['Transported'] # похоже общая сумма трат не особо влияет на выживаемость, главное что тратят"
      ],
      "metadata": {
        "colab": {
          "base_uri": "https://localhost:8080/"
        },
        "id": "Tpt1ute6RrjL",
        "outputId": "ffe71438-ff9b-4132-fd28-68e43cc4044f"
      },
      "execution_count": null,
      "outputs": [
        {
          "output_type": "execute_result",
          "data": {
            "text/plain": [
              "pch_cat\n",
              "(300.349, 1524.367]       0.293736\n",
              "(1524.367, 2712.733]      0.273990\n",
              "(2712.733, 3901.1]        0.333333\n",
              "(3901.1, 5089.467]        0.394366\n",
              "(5089.467, 6277.833]      0.356164\n",
              "(6277.833, 7466.2]        0.321429\n",
              "(7466.2, 8654.567]        0.287356\n",
              "(8654.567, 9842.933]      0.288462\n",
              "(9842.933, 11031.3]       0.352941\n",
              "(11031.3, 12219.667]      0.366667\n",
              "(12219.667, 13408.033]    0.217391\n",
              "(13408.033, 14596.4]      0.300000\n",
              "(14596.4, 15784.767]      0.600000\n",
              "(15784.767, 16973.133]    0.222222\n",
              "(16973.133, 18161.5]      0.333333\n",
              "(18161.5, 19349.867]      0.250000\n",
              "(19349.867, 20538.233]    0.200000\n",
              "(20538.233, 21726.6]      0.000000\n",
              "(21726.6, 22914.967]      0.166667\n",
              "(22914.967, 24103.333]    0.000000\n",
              "(24103.333, 25291.7]      1.000000\n",
              "(25291.7, 26480.067]      0.000000\n",
              "(26480.067, 27668.433]    0.666667\n",
              "(27668.433, 28856.8]      0.000000\n",
              "(28856.8, 30045.167]      0.000000\n",
              "(30045.167, 31233.533]    0.666667\n",
              "(31233.533, 32421.9]           NaN\n",
              "(32421.9, 33610.267]           NaN\n",
              "(33610.267, 34798.633]         NaN\n",
              "(34798.633, 35987.0]      0.000000\n",
              "Name: Transported, dtype: float64"
            ]
          },
          "metadata": {},
          "execution_count": 515
        }
      ]
    },
    {
      "cell_type": "code",
      "source": [
        "sns.boxplot (df[df['sum_pch']>0]['sum_pch'])"
      ],
      "metadata": {
        "colab": {
          "base_uri": "https://localhost:8080/",
          "height": 297
        },
        "id": "4uQvAMzWQua0",
        "outputId": "76acaeec-e0b8-419c-b218-893d17f46fc7"
      },
      "execution_count": null,
      "outputs": [
        {
          "output_type": "execute_result",
          "data": {
            "text/plain": [
              "<matplotlib.axes._subplots.AxesSubplot at 0x7f636eb73990>"
            ]
          },
          "metadata": {},
          "execution_count": 508
        },
        {
          "output_type": "display_data",
          "data": {
            "text/plain": [
              "<Figure size 432x288 with 1 Axes>"
            ],
            "image/png": "[encoded data removed]"
          },
          "metadata": {
            "needs_background": "light"
          }
        }
      ]
    },
    {
      "cell_type": "code",
      "source": [
        "df[df['sum_pch'] >0].groupby('sum_pch').mean()"
      ],
      "metadata": {
        "colab": {
          "base_uri": "https://localhost:8080/",
          "height": 455
        },
        "id": "k9xKfLhqO0gV",
        "outputId": "2e6302f6-65c8-401e-f1be-3c088450c094"
      },
      "execution_count": null,
      "outputs": [
        {
          "output_type": "execute_result",
          "data": {
            "text/plain": [
              "          Age  RoomService  FoodCourt  ShoppingMall      Spa   VRDeck  \\\n",
              "sum_pch                                                                 \n",
              "336.0    18.0          0.0        0.0           0.0      1.0    335.0   \n",
              "394.0    27.0        114.0        0.0          76.5    157.0     46.5   \n",
              "395.0    31.0          1.0        0.0           7.0      0.0    387.0   \n",
              "397.0    22.0          0.0      269.0           0.0    100.0     28.0   \n",
              "399.0    26.0          0.0        0.0           1.0      0.0    398.0   \n",
              "...       ...          ...        ...           ...      ...      ...   \n",
              "29608.0  36.0         29.0    12180.0           0.0     93.0  17306.0   \n",
              "30478.0  18.0          0.0     1878.0           0.0  18572.0  10028.0   \n",
              "31074.0  31.0          0.0    27723.0           3.0    202.0   3146.0   \n",
              "31076.0  41.0          0.0    29813.0           0.0   1257.0      6.0   \n",
              "35987.0  68.0        125.0    13437.0           0.0  22408.0     17.0   \n",
              "\n",
              "         Transported  \n",
              "sum_pch               \n",
              "336.0            0.0  \n",
              "394.0            0.0  \n",
              "395.0            1.0  \n",
              "397.0            0.0  \n",
              "399.0            1.0  \n",
              "...              ...  \n",
              "29608.0          0.0  \n",
              "30478.0          0.0  \n",
              "31074.0          1.0  \n",
              "31076.0          1.0  \n",
              "35987.0          0.0  \n",
              "\n",
              "[2115 rows x 7 columns]"
            ],
            "text/html": [
              "\n",
              "  <div id=\"df-6c8c277c-b879-4bbb-8309-2a7961a0ffc7\">\n",
              "    <div class=\"colab-df-container\">\n",
              "      <div>\n",
              "<style scoped>\n",
              "    .dataframe tbody tr th:only-of-type {\n",
              "        vertical-align: middle;\n",
              "    }\n",
              "\n",
              "    .dataframe tbody tr th {\n",
              "        vertical-align: top;\n",
              "    }\n",
              "\n",
              "    .dataframe thead th {\n",
              "        text-align: right;\n",
              "    }\n",
              "</style>\n",
              "<table border=\"1\" class=\"dataframe\">\n",
              "  <thead>\n",
              "    <tr style=\"text-align: right;\">\n",
              "      <th></th>\n",
              "      <th>Age</th>\n",
              "      <th>RoomService</th>\n",
              "      <th>FoodCourt</th>\n",
              "      <th>ShoppingMall</th>\n",
              "      <th>Spa</th>\n",
              "      <th>VRDeck</th>\n",
              "      <th>Transported</th>\n",
              "    </tr>\n",
              "    <tr>\n",
              "      <th>sum_pch</th>\n",
              "      <th></th>\n",
              "      <th></th>\n",
              "      <th></th>\n",
              "      <th></th>\n",
              "      <th></th>\n",
              "      <th></th>\n",
              "      <th></th>\n",
              "    </tr>\n",
              "  </thead>\n",
              "  <tbody>\n",
              "    <tr>\n",
              "      <th>336.0</th>\n",
              "      <td>18.0</td>\n",
              "      <td>0.0</td>\n",
              "      <td>0.0</td>\n",
              "      <td>0.0</td>\n",
              "      <td>1.0</td>\n",
              "      <td>335.0</td>\n",
              "      <td>0.0</td>\n",
              "    </tr>\n",
              "    <tr>\n",
              "      <th>394.0</th>\n",
              "      <td>27.0</td>\n",
              "      <td>114.0</td>\n",
              "      <td>0.0</td>\n",
              "      <td>76.5</td>\n",
              "      <td>157.0</td>\n",
              "      <td>46.5</td>\n",
              "      <td>0.0</td>\n",
              "    </tr>\n",
              "    <tr>\n",
              "      <th>395.0</th>\n",
              "      <td>31.0</td>\n",
              "      <td>1.0</td>\n",
              "      <td>0.0</td>\n",
              "      <td>7.0</td>\n",
              "      <td>0.0</td>\n",
              "      <td>387.0</td>\n",
              "      <td>1.0</td>\n",
              "    </tr>\n",
              "    <tr>\n",
              "      <th>397.0</th>\n",
              "      <td>22.0</td>\n",
              "      <td>0.0</td>\n",
              "      <td>269.0</td>\n",
              "      <td>0.0</td>\n",
              "      <td>100.0</td>\n",
              "      <td>28.0</td>\n",
              "      <td>0.0</td>\n",
              "    </tr>\n",
              "    <tr>\n",
              "      <th>399.0</th>\n",
              "      <td>26.0</td>\n",
              "      <td>0.0</td>\n",
              "      <td>0.0</td>\n",
              "      <td>1.0</td>\n",
              "      <td>0.0</td>\n",
              "      <td>398.0</td>\n",
              "      <td>1.0</td>\n",
              "    </tr>\n",
              "    <tr>\n",
              "      <th>...</th>\n",
              "      <td>...</td>\n",
              "      <td>...</td>\n",
              "      <td>...</td>\n",
              "      <td>...</td>\n",
              "      <td>...</td>\n",
              "      <td>...</td>\n",
              "      <td>...</td>\n",
              "    </tr>\n",
              "    <tr>\n",
              "      <th>29608.0</th>\n",
              "      <td>36.0</td>\n",
              "      <td>29.0</td>\n",
              "      <td>12180.0</td>\n",
              "      <td>0.0</td>\n",
              "      <td>93.0</td>\n",
              "      <td>17306.0</td>\n",
              "      <td>0.0</td>\n",
              "    </tr>\n",
              "    <tr>\n",
              "      <th>30478.0</th>\n",
              "      <td>18.0</td>\n",
              "      <td>0.0</td>\n",
              "      <td>1878.0</td>\n",
              "      <td>0.0</td>\n",
              "      <td>18572.0</td>\n",
              "      <td>10028.0</td>\n",
              "      <td>0.0</td>\n",
              "    </tr>\n",
              "    <tr>\n",
              "      <th>31074.0</th>\n",
              "      <td>31.0</td>\n",
              "      <td>0.0</td>\n",
              "      <td>27723.0</td>\n",
              "      <td>3.0</td>\n",
              "      <td>202.0</td>\n",
              "      <td>3146.0</td>\n",
              "      <td>1.0</td>\n",
              "    </tr>\n",
              "    <tr>\n",
              "      <th>31076.0</th>\n",
              "      <td>41.0</td>\n",
              "      <td>0.0</td>\n",
              "      <td>29813.0</td>\n",
              "      <td>0.0</td>\n",
              "      <td>1257.0</td>\n",
              "      <td>6.0</td>\n",
              "      <td>1.0</td>\n",
              "    </tr>\n",
              "    <tr>\n",
              "      <th>35987.0</th>\n",
              "      <td>68.0</td>\n",
              "      <td>125.0</td>\n",
              "      <td>13437.0</td>\n",
              "      <td>0.0</td>\n",
              "      <td>22408.0</td>\n",
              "      <td>17.0</td>\n",
              "      <td>0.0</td>\n",
              "    </tr>\n",
              "  </tbody>\n",
              "</table>\n",
              "<p>2115 rows × 7 columns</p>\n",
              "</div>\n",
              "      <button class=\"colab-df-convert\" onclick=\"convertToInteractive('df-6c8c277c-b879-4bbb-8309-2a7961a0ffc7')\"\n",
              "              title=\"Convert this dataframe to an interactive table.\"\n",
              "              style=\"display:none;\">\n",
              "        \n",
              "  <svg xmlns=\"http://www.w3.org/2000/svg\" height=\"24px\"viewBox=\"0 0 24 24\"\n",
              "       width=\"24px\">\n",
              "    <path d=\"M0 0h24v24H0V0z\" fill=\"none\"/>\n",
              "    <path d=\"M18.56 5.44l.94 2.06.94-2.06 2.06-.94-2.06-.94-.94-2.06-.94 2.06-2.06.94zm-11 1L8.5 8.5l.94-2.06 2.06-.94-2.06-.94L8.5 2.5l-.94 2.06-2.06.94zm10 10l.94 2.06.94-2.06 2.06-.94-2.06-.94-.94-2.06-.94 2.06-2.06.94z\"/><path d=\"M17.41 7.96l-1.37-1.37c-.4-.4-.92-.59-1.43-.59-.52 0-1.04.2-1.43.59L10.3 9.45l-7.72 7.72c-.78.78-.78 2.05 0 2.83L4 21.41c.39.39.9.59 1.41.59.51 0 1.02-.2 1.41-.59l7.78-7.78 2.81-2.81c.8-.78.8-2.07 0-2.86zM5.41 20L4 18.59l7.72-7.72 1.47 1.35L5.41 20z\"/>\n",
              "  </svg>\n",
              "      </button>\n",
              "      \n",
              "  <style>\n",
              "    .colab-df-container {\n",
              "      display:flex;\n",
              "      flex-wrap:wrap;\n",
              "      gap: 12px;\n",
              "    }\n",
              "\n",
              "    .colab-df-convert {\n",
              "      background-color: #E8F0FE;\n",
              "      border: none;\n",
              "      border-radius: 50%;\n",
              "      cursor: pointer;\n",
              "      display: none;\n",
              "      fill: #1967D2;\n",
              "      height: 32px;\n",
              "      padding: 0 0 0 0;\n",
              "      width: 32px;\n",
              "    }\n",
              "\n",
              "    .colab-df-convert:hover {\n",
              "      background-color: #E2EBFA;\n",
              "      box-shadow: 0px 1px 2px rgba(60, 64, 67, 0.3), 0px 1px 3px 1px rgba(60, 64, 67, 0.15);\n",
              "      fill: #174EA6;\n",
              "    }\n",
              "\n",
              "    [theme=dark] .colab-df-convert {\n",
              "      background-color: #3B4455;\n",
              "      fill: #D2E3FC;\n",
              "    }\n",
              "\n",
              "    [theme=dark] .colab-df-convert:hover {\n",
              "      background-color: #434B5C;\n",
              "      box-shadow: 0px 1px 3px 1px rgba(0, 0, 0, 0.15);\n",
              "      filter: drop-shadow(0px 1px 2px rgba(0, 0, 0, 0.3));\n",
              "      fill: #FFFFFF;\n",
              "    }\n",
              "  </style>\n",
              "\n",
              "      <script>\n",
              "        const buttonEl =\n",
              "          document.querySelector('#df-6c8c277c-b879-4bbb-8309-2a7961a0ffc7 button.colab-df-convert');\n",
              "        buttonEl.style.display =\n",
              "          google.colab.kernel.accessAllowed ? 'block' : 'none';\n",
              "\n",
              "        async function convertToInteractive(key) {\n",
              "          const element = document.querySelector('#df-6c8c277c-b879-4bbb-8309-2a7961a0ffc7');\n",
              "          const dataTable =\n",
              "            await google.colab.kernel.invokeFunction('convertToInteractive',\n",
              "                                                     [key], {});\n",
              "          if (!dataTable) return;\n",
              "\n",
              "          const docLinkHtml = 'Like what you see? Visit the ' +\n",
              "            '<a target=\"_blank\" href=https://colab.research.google.com/notebooks/data_table.ipynb>data table notebook</a>'\n",
              "            + ' to learn more about interactive tables.';\n",
              "          element.innerHTML = '';\n",
              "          dataTable['output_type'] = 'display_data';\n",
              "          await google.colab.output.renderOutput(dataTable, element);\n",
              "          const docLink = document.createElement('div');\n",
              "          docLink.innerHTML = docLinkHtml;\n",
              "          element.appendChild(docLink);\n",
              "        }\n",
              "      </script>\n",
              "    </div>\n",
              "  </div>\n",
              "  "
            ]
          },
          "metadata": {},
          "execution_count": 473
        }
      ]
    },
    {
      "cell_type": "code",
      "source": [
        "dfins[dfins['LN']=='Adkinson']"
      ],
      "metadata": {
        "colab": {
          "base_uri": "https://localhost:8080/",
          "height": 143
        },
        "id": "YzPfhEMIMxa8",
        "outputId": "7ce28f8d-2ade-4846-a3a5-955fd95ae2df"
      },
      "execution_count": null,
      "outputs": [
        {
          "output_type": "execute_result",
          "data": {
            "text/plain": [
              "      PassengerId HomePlanet CryoSleep     Cabin  Destination   Age    VIP  \\\n",
              "2762      2970_01      Earth     False       NaN  TRAPPIST-1e   NaN  False   \n",
              "7281      7786_01      Earth     False  F/1616/P  TRAPPIST-1e  38.0  False   \n",
              "12580     8497_01      Earth     False  G/1361/S  TRAPPIST-1e  19.0  False   \n",
              "\n",
              "       RoomService  FoodCourt  ShoppingMall   Spa  VRDeck             Name  \\\n",
              "2762         740.0       82.0           6.0   NaN     1.0    Dwin Adkinson   \n",
              "7281           0.0        0.0           0.0  45.0  3372.0  Stelle Adkinson   \n",
              "12580          0.0        0.0           0.0   0.0     0.0    Bara Adkinson   \n",
              "\n",
              "        NID        LN  \n",
              "2762   2970  Adkinson  \n",
              "7281   7786  Adkinson  \n",
              "12580  8497  Adkinson  "
            ],
            "text/html": [
              "\n",
              "  <div id=\"df-b896d6c0-d990-4bbd-bf60-6b4397861866\">\n",
              "    <div class=\"colab-df-container\">\n",
              "      <div>\n",
              "<style scoped>\n",
              "    .dataframe tbody tr th:only-of-type {\n",
              "        vertical-align: middle;\n",
              "    }\n",
              "\n",
              "    .dataframe tbody tr th {\n",
              "        vertical-align: top;\n",
              "    }\n",
              "\n",
              "    .dataframe thead th {\n",
              "        text-align: right;\n",
              "    }\n",
              "</style>\n",
              "<table border=\"1\" class=\"dataframe\">\n",
              "  <thead>\n",
              "    <tr style=\"text-align: right;\">\n",
              "      <th></th>\n",
              "      <th>PassengerId</th>\n",
              "      <th>HomePlanet</th>\n",
              "      <th>CryoSleep</th>\n",
              "      <th>Cabin</th>\n",
              "      <th>Destination</th>\n",
              "      <th>Age</th>\n",
              "      <th>VIP</th>\n",
              "      <th>RoomService</th>\n",
              "      <th>FoodCourt</th>\n",
              "      <th>ShoppingMall</th>\n",
              "      <th>Spa</th>\n",
              "      <th>VRDeck</th>\n",
              "      <th>Name</th>\n",
              "      <th>NID</th>\n",
              "      <th>LN</th>\n",
              "    </tr>\n",
              "  </thead>\n",
              "  <tbody>\n",
              "    <tr>\n",
              "      <th>2762</th>\n",
              "      <td>2970_01</td>\n",
              "      <td>Earth</td>\n",
              "      <td>False</td>\n",
              "      <td>NaN</td>\n",
              "      <td>TRAPPIST-1e</td>\n",
              "      <td>NaN</td>\n",
              "      <td>False</td>\n",
              "      <td>740.0</td>\n",
              "      <td>82.0</td>\n",
              "      <td>6.0</td>\n",
              "      <td>NaN</td>\n",
              "      <td>1.0</td>\n",
              "      <td>Dwin Adkinson</td>\n",
              "      <td>2970</td>\n",
              "      <td>Adkinson</td>\n",
              "    </tr>\n",
              "    <tr>\n",
              "      <th>7281</th>\n",
              "      <td>7786_01</td>\n",
              "      <td>Earth</td>\n",
              "      <td>False</td>\n",
              "      <td>F/1616/P</td>\n",
              "      <td>TRAPPIST-1e</td>\n",
              "      <td>38.0</td>\n",
              "      <td>False</td>\n",
              "      <td>0.0</td>\n",
              "      <td>0.0</td>\n",
              "      <td>0.0</td>\n",
              "      <td>45.0</td>\n",
              "      <td>3372.0</td>\n",
              "      <td>Stelle Adkinson</td>\n",
              "      <td>7786</td>\n",
              "      <td>Adkinson</td>\n",
              "    </tr>\n",
              "    <tr>\n",
              "      <th>12580</th>\n",
              "      <td>8497_01</td>\n",
              "      <td>Earth</td>\n",
              "      <td>False</td>\n",
              "      <td>G/1361/S</td>\n",
              "      <td>TRAPPIST-1e</td>\n",
              "      <td>19.0</td>\n",
              "      <td>False</td>\n",
              "      <td>0.0</td>\n",
              "      <td>0.0</td>\n",
              "      <td>0.0</td>\n",
              "      <td>0.0</td>\n",
              "      <td>0.0</td>\n",
              "      <td>Bara Adkinson</td>\n",
              "      <td>8497</td>\n",
              "      <td>Adkinson</td>\n",
              "    </tr>\n",
              "  </tbody>\n",
              "</table>\n",
              "</div>\n",
              "      <button class=\"colab-df-convert\" onclick=\"convertToInteractive('df-b896d6c0-d990-4bbd-bf60-6b4397861866')\"\n",
              "              title=\"Convert this dataframe to an interactive table.\"\n",
              "              style=\"display:none;\">\n",
              "        \n",
              "  <svg xmlns=\"http://www.w3.org/2000/svg\" height=\"24px\"viewBox=\"0 0 24 24\"\n",
              "       width=\"24px\">\n",
              "    <path d=\"M0 0h24v24H0V0z\" fill=\"none\"/>\n",
              "    <path d=\"M18.56 5.44l.94 2.06.94-2.06 2.06-.94-2.06-.94-.94-2.06-.94 2.06-2.06.94zm-11 1L8.5 8.5l.94-2.06 2.06-.94-2.06-.94L8.5 2.5l-.94 2.06-2.06.94zm10 10l.94 2.06.94-2.06 2.06-.94-2.06-.94-.94-2.06-.94 2.06-2.06.94z\"/><path d=\"M17.41 7.96l-1.37-1.37c-.4-.4-.92-.59-1.43-.59-.52 0-1.04.2-1.43.59L10.3 9.45l-7.72 7.72c-.78.78-.78 2.05 0 2.83L4 21.41c.39.39.9.59 1.41.59.51 0 1.02-.2 1.41-.59l7.78-7.78 2.81-2.81c.8-.78.8-2.07 0-2.86zM5.41 20L4 18.59l7.72-7.72 1.47 1.35L5.41 20z\"/>\n",
              "  </svg>\n",
              "      </button>\n",
              "      \n",
              "  <style>\n",
              "    .colab-df-container {\n",
              "      display:flex;\n",
              "      flex-wrap:wrap;\n",
              "      gap: 12px;\n",
              "    }\n",
              "\n",
              "    .colab-df-convert {\n",
              "      background-color: #E8F0FE;\n",
              "      border: none;\n",
              "      border-radius: 50%;\n",
              "      cursor: pointer;\n",
              "      display: none;\n",
              "      fill: #1967D2;\n",
              "      height: 32px;\n",
              "      padding: 0 0 0 0;\n",
              "      width: 32px;\n",
              "    }\n",
              "\n",
              "    .colab-df-convert:hover {\n",
              "      background-color: #E2EBFA;\n",
              "      box-shadow: 0px 1px 2px rgba(60, 64, 67, 0.3), 0px 1px 3px 1px rgba(60, 64, 67, 0.15);\n",
              "      fill: #174EA6;\n",
              "    }\n",
              "\n",
              "    [theme=dark] .colab-df-convert {\n",
              "      background-color: #3B4455;\n",
              "      fill: #D2E3FC;\n",
              "    }\n",
              "\n",
              "    [theme=dark] .colab-df-convert:hover {\n",
              "      background-color: #434B5C;\n",
              "      box-shadow: 0px 1px 3px 1px rgba(0, 0, 0, 0.15);\n",
              "      filter: drop-shadow(0px 1px 2px rgba(0, 0, 0, 0.3));\n",
              "      fill: #FFFFFF;\n",
              "    }\n",
              "  </style>\n",
              "\n",
              "      <script>\n",
              "        const buttonEl =\n",
              "          document.querySelector('#df-b896d6c0-d990-4bbd-bf60-6b4397861866 button.colab-df-convert');\n",
              "        buttonEl.style.display =\n",
              "          google.colab.kernel.accessAllowed ? 'block' : 'none';\n",
              "\n",
              "        async function convertToInteractive(key) {\n",
              "          const element = document.querySelector('#df-b896d6c0-d990-4bbd-bf60-6b4397861866');\n",
              "          const dataTable =\n",
              "            await google.colab.kernel.invokeFunction('convertToInteractive',\n",
              "                                                     [key], {});\n",
              "          if (!dataTable) return;\n",
              "\n",
              "          const docLinkHtml = 'Like what you see? Visit the ' +\n",
              "            '<a target=\"_blank\" href=https://colab.research.google.com/notebooks/data_table.ipynb>data table notebook</a>'\n",
              "            + ' to learn more about interactive tables.';\n",
              "          element.innerHTML = '';\n",
              "          dataTable['output_type'] = 'display_data';\n",
              "          await google.colab.output.renderOutput(dataTable, element);\n",
              "          const docLink = document.createElement('div');\n",
              "          docLink.innerHTML = docLinkHtml;\n",
              "          element.appendChild(docLink);\n",
              "        }\n",
              "      </script>\n",
              "    </div>\n",
              "  </div>\n",
              "  "
            ]
          },
          "metadata": {},
          "execution_count": 447
        }
      ]
    },
    {
      "cell_type": "code",
      "source": [
        "dfins.groupby ('LN').aggregate (lambda x : tuple (x.unique())).filter(like = 'Adkinson', axis=0)"
      ],
      "metadata": {
        "colab": {
          "base_uri": "https://localhost:8080/",
          "height": 191
        },
        "id": "7FRj68ajL4LQ",
        "outputId": "c759bddd-7382-4618-f6d0-653af28c6d31"
      },
      "execution_count": null,
      "outputs": [
        {
          "output_type": "execute_result",
          "data": {
            "text/plain": [
              "                          PassengerId HomePlanet CryoSleep  \\\n",
              "LN                                                           \n",
              "Adkinson  (2970_01, 7786_01, 8497_01)   (Earth,)  (False,)   \n",
              "\n",
              "                              Cabin     Destination                Age  \\\n",
              "LN                                                                       \n",
              "Adkinson  (nan, F/1616/P, G/1361/S)  (TRAPPIST-1e,)  (nan, 38.0, 19.0)   \n",
              "\n",
              "               VIP   RoomService    FoodCourt ShoppingMall               Spa  \\\n",
              "LN                                                                             \n",
              "Adkinson  (False,)  (740.0, 0.0)  (82.0, 0.0)   (6.0, 0.0)  (nan, 45.0, 0.0)   \n",
              "\n",
              "                      VRDeck                                             Name  \\\n",
              "LN                                                                              \n",
              "Adkinson  (1.0, 3372.0, 0.0)  (Dwin Adkinson, Stelle Adkinson, Bara Adkinson)   \n",
              "\n",
              "                         NID  \n",
              "LN                            \n",
              "Adkinson  (2970, 7786, 8497)  "
            ],
            "text/html": [
              "\n",
              "  <div id=\"df-6b77985b-3984-4dc1-b7c1-0833fd8445a6\">\n",
              "    <div class=\"colab-df-container\">\n",
              "      <div>\n",
              "<style scoped>\n",
              "    .dataframe tbody tr th:only-of-type {\n",
              "        vertical-align: middle;\n",
              "    }\n",
              "\n",
              "    .dataframe tbody tr th {\n",
              "        vertical-align: top;\n",
              "    }\n",
              "\n",
              "    .dataframe thead th {\n",
              "        text-align: right;\n",
              "    }\n",
              "</style>\n",
              "<table border=\"1\" class=\"dataframe\">\n",
              "  <thead>\n",
              "    <tr style=\"text-align: right;\">\n",
              "      <th></th>\n",
              "      <th>PassengerId</th>\n",
              "      <th>HomePlanet</th>\n",
              "      <th>CryoSleep</th>\n",
              "      <th>Cabin</th>\n",
              "      <th>Destination</th>\n",
              "      <th>Age</th>\n",
              "      <th>VIP</th>\n",
              "      <th>RoomService</th>\n",
              "      <th>FoodCourt</th>\n",
              "      <th>ShoppingMall</th>\n",
              "      <th>Spa</th>\n",
              "      <th>VRDeck</th>\n",
              "      <th>Name</th>\n",
              "      <th>NID</th>\n",
              "    </tr>\n",
              "    <tr>\n",
              "      <th>LN</th>\n",
              "      <th></th>\n",
              "      <th></th>\n",
              "      <th></th>\n",
              "      <th></th>\n",
              "      <th></th>\n",
              "      <th></th>\n",
              "      <th></th>\n",
              "      <th></th>\n",
              "      <th></th>\n",
              "      <th></th>\n",
              "      <th></th>\n",
              "      <th></th>\n",
              "      <th></th>\n",
              "      <th></th>\n",
              "    </tr>\n",
              "  </thead>\n",
              "  <tbody>\n",
              "    <tr>\n",
              "      <th>Adkinson</th>\n",
              "      <td>(2970_01, 7786_01, 8497_01)</td>\n",
              "      <td>(Earth,)</td>\n",
              "      <td>(False,)</td>\n",
              "      <td>(nan, F/1616/P, G/1361/S)</td>\n",
              "      <td>(TRAPPIST-1e,)</td>\n",
              "      <td>(nan, 38.0, 19.0)</td>\n",
              "      <td>(False,)</td>\n",
              "      <td>(740.0, 0.0)</td>\n",
              "      <td>(82.0, 0.0)</td>\n",
              "      <td>(6.0, 0.0)</td>\n",
              "      <td>(nan, 45.0, 0.0)</td>\n",
              "      <td>(1.0, 3372.0, 0.0)</td>\n",
              "      <td>(Dwin Adkinson, Stelle Adkinson, Bara Adkinson)</td>\n",
              "      <td>(2970, 7786, 8497)</td>\n",
              "    </tr>\n",
              "  </tbody>\n",
              "</table>\n",
              "</div>\n",
              "      <button class=\"colab-df-convert\" onclick=\"convertToInteractive('df-6b77985b-3984-4dc1-b7c1-0833fd8445a6')\"\n",
              "              title=\"Convert this dataframe to an interactive table.\"\n",
              "              style=\"display:none;\">\n",
              "        \n",
              "  <svg xmlns=\"http://www.w3.org/2000/svg\" height=\"24px\"viewBox=\"0 0 24 24\"\n",
              "       width=\"24px\">\n",
              "    <path d=\"M0 0h24v24H0V0z\" fill=\"none\"/>\n",
              "    <path d=\"M18.56 5.44l.94 2.06.94-2.06 2.06-.94-2.06-.94-.94-2.06-.94 2.06-2.06.94zm-11 1L8.5 8.5l.94-2.06 2.06-.94-2.06-.94L8.5 2.5l-.94 2.06-2.06.94zm10 10l.94 2.06.94-2.06 2.06-.94-2.06-.94-.94-2.06-.94 2.06-2.06.94z\"/><path d=\"M17.41 7.96l-1.37-1.37c-.4-.4-.92-.59-1.43-.59-.52 0-1.04.2-1.43.59L10.3 9.45l-7.72 7.72c-.78.78-.78 2.05 0 2.83L4 21.41c.39.39.9.59 1.41.59.51 0 1.02-.2 1.41-.59l7.78-7.78 2.81-2.81c.8-.78.8-2.07 0-2.86zM5.41 20L4 18.59l7.72-7.72 1.47 1.35L5.41 20z\"/>\n",
              "  </svg>\n",
              "      </button>\n",
              "      \n",
              "  <style>\n",
              "    .colab-df-container {\n",
              "      display:flex;\n",
              "      flex-wrap:wrap;\n",
              "      gap: 12px;\n",
              "    }\n",
              "\n",
              "    .colab-df-convert {\n",
              "      background-color: #E8F0FE;\n",
              "      border: none;\n",
              "      border-radius: 50%;\n",
              "      cursor: pointer;\n",
              "      display: none;\n",
              "      fill: #1967D2;\n",
              "      height: 32px;\n",
              "      padding: 0 0 0 0;\n",
              "      width: 32px;\n",
              "    }\n",
              "\n",
              "    .colab-df-convert:hover {\n",
              "      background-color: #E2EBFA;\n",
              "      box-shadow: 0px 1px 2px rgba(60, 64, 67, 0.3), 0px 1px 3px 1px rgba(60, 64, 67, 0.15);\n",
              "      fill: #174EA6;\n",
              "    }\n",
              "\n",
              "    [theme=dark] .colab-df-convert {\n",
              "      background-color: #3B4455;\n",
              "      fill: #D2E3FC;\n",
              "    }\n",
              "\n",
              "    [theme=dark] .colab-df-convert:hover {\n",
              "      background-color: #434B5C;\n",
              "      box-shadow: 0px 1px 3px 1px rgba(0, 0, 0, 0.15);\n",
              "      filter: drop-shadow(0px 1px 2px rgba(0, 0, 0, 0.3));\n",
              "      fill: #FFFFFF;\n",
              "    }\n",
              "  </style>\n",
              "\n",
              "      <script>\n",
              "        const buttonEl =\n",
              "          document.querySelector('#df-6b77985b-3984-4dc1-b7c1-0833fd8445a6 button.colab-df-convert');\n",
              "        buttonEl.style.display =\n",
              "          google.colab.kernel.accessAllowed ? 'block' : 'none';\n",
              "\n",
              "        async function convertToInteractive(key) {\n",
              "          const element = document.querySelector('#df-6b77985b-3984-4dc1-b7c1-0833fd8445a6');\n",
              "          const dataTable =\n",
              "            await google.colab.kernel.invokeFunction('convertToInteractive',\n",
              "                                                     [key], {});\n",
              "          if (!dataTable) return;\n",
              "\n",
              "          const docLinkHtml = 'Like what you see? Visit the ' +\n",
              "            '<a target=\"_blank\" href=https://colab.research.google.com/notebooks/data_table.ipynb>data table notebook</a>'\n",
              "            + ' to learn more about interactive tables.';\n",
              "          element.innerHTML = '';\n",
              "          dataTable['output_type'] = 'display_data';\n",
              "          await google.colab.output.renderOutput(dataTable, element);\n",
              "          const docLink = document.createElement('div');\n",
              "          docLink.innerHTML = docLinkHtml;\n",
              "          element.appendChild(docLink);\n",
              "        }\n",
              "      </script>\n",
              "    </div>\n",
              "  </div>\n",
              "  "
            ]
          },
          "metadata": {},
          "execution_count": 445
        }
      ]
    },
    {
      "cell_type": "code",
      "source": [
        "dff.groupby ('NID').aggregate (lambda x : tuple (x.unique()))['CryoSleep'].value_counts () # Cryo не заисит от NID"
      ],
      "metadata": {
        "colab": {
          "base_uri": "https://localhost:8080/"
        },
        "id": "eg0Axe4lawdw",
        "outputId": "0307e077-097c-488a-a6f6-81f010fab844"
      },
      "execution_count": null,
      "outputs": [
        {
          "output_type": "execute_result",
          "data": {
            "text/plain": [
              "(False,)              5327\n",
              "(True,)               2480\n",
              "(False, True)          615\n",
              "(True, False)          552\n",
              "(nan,)                 156\n",
              "(False, nan)            32\n",
              "(nan, False)            19\n",
              "(True, nan)             19\n",
              "(nan, True)             17\n",
              "(True, False, nan)      17\n",
              "(False, nan, True)      12\n",
              "(False, True, nan)      12\n",
              "(True, nan, False)      11\n",
              "(nan, True, False)       7\n",
              "(nan, False, True)       4\n",
              "Name: CryoSleep, dtype: int64"
            ]
          },
          "metadata": {},
          "execution_count": 292
        }
      ]
    },
    {
      "cell_type": "code",
      "source": [
        "dff.groupby ('VRDeck').aggregate (lambda x : tuple (x.unique()))"
      ],
      "metadata": {
        "colab": {
          "base_uri": "https://localhost:8080/",
          "height": 1000
        },
        "id": "DBEO0PhmH1to",
        "outputId": "b049bc6b-de3b-420f-f4b0-99b9b2293133"
      },
      "execution_count": null,
      "outputs": [
        {
          "output_type": "execute_result",
          "data": {
            "text/plain": [
              "                                               PassengerId  \\\n",
              "VRDeck                                                       \n",
              "0.0      (0001_01, 0005_01, 0006_01, 0007_01, 0008_01, ...   \n",
              "1.0      (0053_01, 0061_01, 0114_01, 0123_01, 0253_01, ...   \n",
              "2.0      (0004_01, 0128_01, 0283_02, 0327_01, 0403_01, ...   \n",
              "3.0      (0056_03, 0398_01, 0547_01, 0656_01, 0688_01, ...   \n",
              "4.0      (0313_01, 0368_01, 0465_02, 0471_02, 0527_01, ...   \n",
              "...                                                    ...   \n",
              "19086.0                                         (2493_02,)   \n",
              "20336.0                                         (4594_02,)   \n",
              "22272.0                                         (6467_01,)   \n",
              "24133.0                                         (5977_02,)   \n",
              "__       (0006_02, 0115_01, 0120_01, 0278_01, 0316_02, ...   \n",
              "\n",
              "                        HomePlanet           CryoSleep  \\\n",
              "VRDeck                                                   \n",
              "0.0      (Europa, Earth, Mars, __)  (False, True, nan)   \n",
              "1.0      (Earth, Europa, Mars, __)        (False, nan)   \n",
              "2.0      (Earth, Mars, Europa, __)        (False, nan)   \n",
              "3.0      (Europa, Mars, Earth, __)        (False, nan)   \n",
              "4.0          (Earth, Mars, Europa)        (False, nan)   \n",
              "...                            ...                 ...   \n",
              "19086.0                  (Europa,)            (False,)   \n",
              "20336.0                  (Europa,)            (False,)   \n",
              "22272.0                  (Europa,)            (False,)   \n",
              "24133.0                  (Europa,)            (False,)   \n",
              "__       (Earth, Mars, Europa, __)  (True, nan, False)   \n",
              "\n",
              "                                                     Cabin  \\\n",
              "VRDeck                                                       \n",
              "0.0      (B/0/P, F/0/P, F/2/S, F/3/S, B/1/P, __, F/3/P,...   \n",
              "1.0      (F/11/S, F/12/S, G/20/S, F/27/P, G/42/P, F/51/...   \n",
              "2.0      (F/1/S, D/3/S, F/64/P, __, D/13/P, F/84/S, C/2...   \n",
              "3.0      (A/1/S, D/13/S, F/97/S, G/101/P, E/48/S, F/154...   \n",
              "4.0      (F/68/P, F/82/P, E/28/P, B/22/P, F/93/S, D/20/...   \n",
              "...                                                    ...   \n",
              "19086.0                                          (C/88/S,)   \n",
              "20336.0                                         (C/144/P,)   \n",
              "22272.0                                         (C/240/S,)   \n",
              "24133.0                                         (B/230/S,)   \n",
              "__       (G/0/S, F/24/P, F/25/P, __, B/9/S, G/44/S, F/8...   \n",
              "\n",
              "                                            Destination  \\\n",
              "VRDeck                                                    \n",
              "0.0      (TRAPPIST-1e, PSO J318.5-22, 55 Cancri e, nan)   \n",
              "1.0      (TRAPPIST-1e, 55 Cancri e, PSO J318.5-22, nan)   \n",
              "2.0      (TRAPPIST-1e, nan, 55 Cancri e, PSO J318.5-22)   \n",
              "3.0      (TRAPPIST-1e, 55 Cancri e, PSO J318.5-22, nan)   \n",
              "4.0           (PSO J318.5-22, TRAPPIST-1e, 55 Cancri e)   \n",
              "...                                                 ...   \n",
              "19086.0                                (PSO J318.5-22,)   \n",
              "20336.0                                  (TRAPPIST-1e,)   \n",
              "22272.0                                  (55 Cancri e,)   \n",
              "24133.0                                  (55 Cancri e,)   \n",
              "__       (TRAPPIST-1e, 55 Cancri e, nan, PSO J318.5-22)   \n",
              "\n",
              "                                                       Age  \\\n",
              "VRDeck                                                       \n",
              "0.0      (39.0, 44.0, 26.0, 35.0, 14.0, 34.0, 31.0, 27....   \n",
              "1.0      (25.0, 22.0, 27.0, 18.0, 29.0, 13.0, 61.0, 37....   \n",
              "2.0      (16.0, 61.0, 22.0, 19.0, 43.0, 15.0, 79.0, 27....   \n",
              "3.0      (27.0, 22.0, 23.0, 32.0, 34.0, 15.0, 20.0, 42....   \n",
              "4.0      (60.0, 26.0, nan, 30.0, 33.0, 22.0, 46.0, 32.0...   \n",
              "...                                                    ...   \n",
              "19086.0                                            (27.0,)   \n",
              "20336.0                                            (31.0,)   \n",
              "22272.0                                            (46.0,)   \n",
              "24133.0                                            (57.0,)   \n",
              "__       (28.0, 26.0, 24.0, 35.0, 20.0, 21.0, 25.0, 55....   \n",
              "\n",
              "                        VIP  \\\n",
              "VRDeck                        \n",
              "0.0      (False, nan, True)   \n",
              "1.0      (False, True, nan)   \n",
              "2.0      (False, True, nan)   \n",
              "3.0      (False, True, nan)   \n",
              "4.0      (False, True, nan)   \n",
              "...                     ...   \n",
              "19086.0             (True,)   \n",
              "20336.0            (False,)   \n",
              "22272.0            (False,)   \n",
              "24133.0            (False,)   \n",
              "__       (False, nan, True)   \n",
              "\n",
              "                                               RoomService  \\\n",
              "VRDeck                                                       \n",
              "0.0      (0.0, 42.0, 32.0, 1286.0, nan, 980.0, 1125.0, ...   \n",
              "1.0      (0.0, 45.0, 82.0, 55.0, 272.0, 118.0, 1.0, 109...   \n",
              "2.0      (303.0, 2353.0, 146.0, 17.0, 353.0, 2156.0, 0....   \n",
              "3.0      (279.0, 28.0, 0.0, 1973.0, 157.0, 1050.0, 2.0,...   \n",
              "4.0      (7.0, 2832.0, 0.0, 1172.0, 1908.0, 784.0, 2492...   \n",
              "...                                                    ...   \n",
              "19086.0                                             (0.0,)   \n",
              "20336.0                                             (0.0,)   \n",
              "22272.0                                             (0.0,)   \n",
              "24133.0                                           (200.0,)   \n",
              "__       (0.0, 62.0, 39.0, 14.0, 21.0, 4.0, 507.0, 2.0,...   \n",
              "\n",
              "                                                 FoodCourt  \\\n",
              "VRDeck                                                       \n",
              "0.0      (0.0, 483.0, 1539.0, 785.0, 122.0, 2.0, 225.0,...   \n",
              "1.0      (0.0, 1096.0, 157.0, 597.0, 615.0, 608.0, 2.0,...   \n",
              "2.0      (70.0, 334.0, 654.0, 0.0, 896.0, 1111.0, 1268....   \n",
              "3.0      (605.0, 420.0, 15.0, 0.0, 59.0, 25.0, 14.0, 39...   \n",
              "4.0      (540.0, 107.0, 654.0, 7972.0, 11.0, 33.0, 0.0,...   \n",
              "...                                                    ...   \n",
              "19086.0                                         (11984.0,)   \n",
              "20336.0                                          (6670.0,)   \n",
              "22272.0                                          (9540.0,)   \n",
              "24133.0                                             (9.0,)   \n",
              "__       (0.0, 5.0, nan, 263.0, 809.0, 1111.0, 123.0, 5...   \n",
              "\n",
              "                                              ShoppingMall  \\\n",
              "VRDeck                                                       \n",
              "0.0      (0.0, 3.0, 17.0, nan, 876.0, 69.0, 136.0, 1750...   \n",
              "1.0      (1938.0, 148.0, 429.0, 49.0, 0.0, 26.0, 863.0,...   \n",
              "2.0      (151.0, 9.0, 1.0, 784.0, 0.0, 880.0, 863.0, 17...   \n",
              "3.0      (3374.0, 36.0, 831.0, 0.0, 97.0, 714.0, 715.0,...   \n",
              "4.0      (1.0, 4447.0, 22.0, 0.0, 3.0, 601.0, 5.0, nan,...   \n",
              "...                                                    ...   \n",
              "19086.0                                          (1610.0,)   \n",
              "20336.0                                           (217.0,)   \n",
              "22272.0                                             (nan,)   \n",
              "24133.0                                             (0.0,)   \n",
              "__       (0.0, 3.0, 25.0, 2155.0, nan, 118.0, 956.0, 1....   \n",
              "\n",
              "                                                       Spa  \\\n",
              "VRDeck                                                       \n",
              "0.0      (0, 291, 216, 998, 48, 990, 951, 2606, __, 468...   \n",
              "1.0      (0, 1377, 238, 754, 3835, 34, 1, 252, 1197, 26...   \n",
              "2.0      (565, 316, 0, 59, 2210, 22, 33, 119, 250, 813,...   \n",
              "3.0      (286, 6011, 16, 768, 41, 0, 544, 787, 318, 806...   \n",
              "4.0      (0, 15, 146, 1, 183, 1590, 136, 610, 769, 441,...   \n",
              "...                                                    ...   \n",
              "19086.0                                             (709,)   \n",
              "20336.0                                             (625,)   \n",
              "22272.0                                               (0,)   \n",
              "24133.0                                              (__,)   \n",
              "__       (0, 888, 54, 422, 1852, 25, 20, 38, 74, 133, 3...   \n",
              "\n",
              "                                                      Name  \\\n",
              "VRDeck                                                       \n",
              "0.0      (Maham Ofracculy, Sandie Hinetthews, Billex Ja...   \n",
              "1.0      (Elson Hickerson, Shanya Salez, Maura Beckerso...   \n",
              "2.0      (Willy Santantines, Grohs Fles, Roydo Santin, ...   \n",
              "3.0      (Zinoces Tractive, Wales Tité, Trick Weavesend...   \n",
              "4.0      (Briney Mckinsond, Resers Perte, Kyley Chaelle...   \n",
              "...                                                    ...   \n",
              "19086.0                                  (Markar Reelest,)   \n",
              "20336.0                                  (Tabiton Folhal,)   \n",
              "22272.0                               (Majorab Diossiver,)   \n",
              "24133.0                                             (nan,)   \n",
              "__       (Candra Jacostaffey, Rohs Pead, Bees Sacre, Ju...   \n",
              "\n",
              "                                                       NID  \\\n",
              "VRDeck                                                       \n",
              "0.0      (0001, 0005, 0006, 0007, 0008, 0012, 0014, 001...   \n",
              "1.0      (0053, 0061, 0114, 0123, 0253, 0267, 0395, 042...   \n",
              "2.0      (0004, 0128, 0283, 0327, 0403, 0459, 0642, 084...   \n",
              "3.0      (0056, 0398, 0547, 0656, 0688, 0820, 0915, 100...   \n",
              "4.0      (0313, 0368, 0465, 0471, 0527, 0568, 0581, 079...   \n",
              "...                                                    ...   \n",
              "19086.0                                            (2493,)   \n",
              "20336.0                                            (4594,)   \n",
              "22272.0                                            (6467,)   \n",
              "24133.0                                            (5977,)   \n",
              "__       (0006, 0115, 0120, 0278, 0316, 0320, 0470, 052...   \n",
              "\n",
              "                                                        LN  \n",
              "VRDeck                                                      \n",
              "0.0      (Ofracculy, Hinetthews, Jacostaffey, Beston, F...  \n",
              "1.0      (Hickerson, Salez, Beckerson, Fielson, Cardner...  \n",
              "2.0      (Santantines, Fles, Santin, Ocherman, Wate, Ni...  \n",
              "3.0      (Tractive, Tité, Weavesend, Gordond, Erpie, St...  \n",
              "4.0      (Mckinsond, Perte, Chaellerty, Fuelisent, Stit...  \n",
              "...                                                    ...  \n",
              "19086.0                                         (Reelest,)  \n",
              "20336.0                                          (Folhal,)  \n",
              "22272.0                                       (Diossiver,)  \n",
              "24133.0                                              (__,)  \n",
              "__       (Jacostaffey, Pead, Sacre, Beachez, Sorbitter,...  \n",
              "\n",
              "[1643 rows x 14 columns]"
            ],
            "text/html": [
              "\n",
              "  <div id=\"df-2a1096d1-2763-44af-896b-206f3939a6ed\">\n",
              "    <div class=\"colab-df-container\">\n",
              "      <div>\n",
              "<style scoped>\n",
              "    .dataframe tbody tr th:only-of-type {\n",
              "        vertical-align: middle;\n",
              "    }\n",
              "\n",
              "    .dataframe tbody tr th {\n",
              "        vertical-align: top;\n",
              "    }\n",
              "\n",
              "    .dataframe thead th {\n",
              "        text-align: right;\n",
              "    }\n",
              "</style>\n",
              "<table border=\"1\" class=\"dataframe\">\n",
              "  <thead>\n",
              "    <tr style=\"text-align: right;\">\n",
              "      <th></th>\n",
              "      <th>PassengerId</th>\n",
              "      <th>HomePlanet</th>\n",
              "      <th>CryoSleep</th>\n",
              "      <th>Cabin</th>\n",
              "      <th>Destination</th>\n",
              "      <th>Age</th>\n",
              "      <th>VIP</th>\n",
              "      <th>RoomService</th>\n",
              "      <th>FoodCourt</th>\n",
              "      <th>ShoppingMall</th>\n",
              "      <th>Spa</th>\n",
              "      <th>Name</th>\n",
              "      <th>NID</th>\n",
              "      <th>LN</th>\n",
              "    </tr>\n",
              "    <tr>\n",
              "      <th>VRDeck</th>\n",
              "      <th></th>\n",
              "      <th></th>\n",
              "      <th></th>\n",
              "      <th></th>\n",
              "      <th></th>\n",
              "      <th></th>\n",
              "      <th></th>\n",
              "      <th></th>\n",
              "      <th></th>\n",
              "      <th></th>\n",
              "      <th></th>\n",
              "      <th></th>\n",
              "      <th></th>\n",
              "      <th></th>\n",
              "    </tr>\n",
              "  </thead>\n",
              "  <tbody>\n",
              "    <tr>\n",
              "      <th>0.0</th>\n",
              "      <td>(0001_01, 0005_01, 0006_01, 0007_01, 0008_01, ...</td>\n",
              "      <td>(Europa, Earth, Mars, __)</td>\n",
              "      <td>(False, True, nan)</td>\n",
              "      <td>(B/0/P, F/0/P, F/2/S, F/3/S, B/1/P, __, F/3/P,...</td>\n",
              "      <td>(TRAPPIST-1e, PSO J318.5-22, 55 Cancri e, nan)</td>\n",
              "      <td>(39.0, 44.0, 26.0, 35.0, 14.0, 34.0, 31.0, 27....</td>\n",
              "      <td>(False, nan, True)</td>\n",
              "      <td>(0.0, 42.0, 32.0, 1286.0, nan, 980.0, 1125.0, ...</td>\n",
              "      <td>(0.0, 483.0, 1539.0, 785.0, 122.0, 2.0, 225.0,...</td>\n",
              "      <td>(0.0, 3.0, 17.0, nan, 876.0, 69.0, 136.0, 1750...</td>\n",
              "      <td>(0, 291, 216, 998, 48, 990, 951, 2606, __, 468...</td>\n",
              "      <td>(Maham Ofracculy, Sandie Hinetthews, Billex Ja...</td>\n",
              "      <td>(0001, 0005, 0006, 0007, 0008, 0012, 0014, 001...</td>\n",
              "      <td>(Ofracculy, Hinetthews, Jacostaffey, Beston, F...</td>\n",
              "    </tr>\n",
              "    <tr>\n",
              "      <th>1.0</th>\n",
              "      <td>(0053_01, 0061_01, 0114_01, 0123_01, 0253_01, ...</td>\n",
              "      <td>(Earth, Europa, Mars, __)</td>\n",
              "      <td>(False, nan)</td>\n",
              "      <td>(F/11/S, F/12/S, G/20/S, F/27/P, G/42/P, F/51/...</td>\n",
              "      <td>(TRAPPIST-1e, 55 Cancri e, PSO J318.5-22, nan)</td>\n",
              "      <td>(25.0, 22.0, 27.0, 18.0, 29.0, 13.0, 61.0, 37....</td>\n",
              "      <td>(False, True, nan)</td>\n",
              "      <td>(0.0, 45.0, 82.0, 55.0, 272.0, 118.0, 1.0, 109...</td>\n",
              "      <td>(0.0, 1096.0, 157.0, 597.0, 615.0, 608.0, 2.0,...</td>\n",
              "      <td>(1938.0, 148.0, 429.0, 49.0, 0.0, 26.0, 863.0,...</td>\n",
              "      <td>(0, 1377, 238, 754, 3835, 34, 1, 252, 1197, 26...</td>\n",
              "      <td>(Elson Hickerson, Shanya Salez, Maura Beckerso...</td>\n",
              "      <td>(0053, 0061, 0114, 0123, 0253, 0267, 0395, 042...</td>\n",
              "      <td>(Hickerson, Salez, Beckerson, Fielson, Cardner...</td>\n",
              "    </tr>\n",
              "    <tr>\n",
              "      <th>2.0</th>\n",
              "      <td>(0004_01, 0128_01, 0283_02, 0327_01, 0403_01, ...</td>\n",
              "      <td>(Earth, Mars, Europa, __)</td>\n",
              "      <td>(False, nan)</td>\n",
              "      <td>(F/1/S, D/3/S, F/64/P, __, D/13/P, F/84/S, C/2...</td>\n",
              "      <td>(TRAPPIST-1e, nan, 55 Cancri e, PSO J318.5-22)</td>\n",
              "      <td>(16.0, 61.0, 22.0, 19.0, 43.0, 15.0, 79.0, 27....</td>\n",
              "      <td>(False, True, nan)</td>\n",
              "      <td>(303.0, 2353.0, 146.0, 17.0, 353.0, 2156.0, 0....</td>\n",
              "      <td>(70.0, 334.0, 654.0, 0.0, 896.0, 1111.0, 1268....</td>\n",
              "      <td>(151.0, 9.0, 1.0, 784.0, 0.0, 880.0, 863.0, 17...</td>\n",
              "      <td>(565, 316, 0, 59, 2210, 22, 33, 119, 250, 813,...</td>\n",
              "      <td>(Willy Santantines, Grohs Fles, Roydo Santin, ...</td>\n",
              "      <td>(0004, 0128, 0283, 0327, 0403, 0459, 0642, 084...</td>\n",
              "      <td>(Santantines, Fles, Santin, Ocherman, Wate, Ni...</td>\n",
              "    </tr>\n",
              "    <tr>\n",
              "      <th>3.0</th>\n",
              "      <td>(0056_03, 0398_01, 0547_01, 0656_01, 0688_01, ...</td>\n",
              "      <td>(Europa, Mars, Earth, __)</td>\n",
              "      <td>(False, nan)</td>\n",
              "      <td>(A/1/S, D/13/S, F/97/S, G/101/P, E/48/S, F/154...</td>\n",
              "      <td>(TRAPPIST-1e, 55 Cancri e, PSO J318.5-22, nan)</td>\n",
              "      <td>(27.0, 22.0, 23.0, 32.0, 34.0, 15.0, 20.0, 42....</td>\n",
              "      <td>(False, True, nan)</td>\n",
              "      <td>(279.0, 28.0, 0.0, 1973.0, 157.0, 1050.0, 2.0,...</td>\n",
              "      <td>(605.0, 420.0, 15.0, 0.0, 59.0, 25.0, 14.0, 39...</td>\n",
              "      <td>(3374.0, 36.0, 831.0, 0.0, 97.0, 714.0, 715.0,...</td>\n",
              "      <td>(286, 6011, 16, 768, 41, 0, 544, 787, 318, 806...</td>\n",
              "      <td>(Zinoces Tractive, Wales Tité, Trick Weavesend...</td>\n",
              "      <td>(0056, 0398, 0547, 0656, 0688, 0820, 0915, 100...</td>\n",
              "      <td>(Tractive, Tité, Weavesend, Gordond, Erpie, St...</td>\n",
              "    </tr>\n",
              "    <tr>\n",
              "      <th>4.0</th>\n",
              "      <td>(0313_01, 0368_01, 0465_02, 0471_02, 0527_01, ...</td>\n",
              "      <td>(Earth, Mars, Europa)</td>\n",
              "      <td>(False, nan)</td>\n",
              "      <td>(F/68/P, F/82/P, E/28/P, B/22/P, F/93/S, D/20/...</td>\n",
              "      <td>(PSO J318.5-22, TRAPPIST-1e, 55 Cancri e)</td>\n",
              "      <td>(60.0, 26.0, nan, 30.0, 33.0, 22.0, 46.0, 32.0...</td>\n",
              "      <td>(False, True, nan)</td>\n",
              "      <td>(7.0, 2832.0, 0.0, 1172.0, 1908.0, 784.0, 2492...</td>\n",
              "      <td>(540.0, 107.0, 654.0, 7972.0, 11.0, 33.0, 0.0,...</td>\n",
              "      <td>(1.0, 4447.0, 22.0, 0.0, 3.0, 601.0, 5.0, nan,...</td>\n",
              "      <td>(0, 15, 146, 1, 183, 1590, 136, 610, 769, 441,...</td>\n",
              "      <td>(Briney Mckinsond, Resers Perte, Kyley Chaelle...</td>\n",
              "      <td>(0313, 0368, 0465, 0471, 0527, 0568, 0581, 079...</td>\n",
              "      <td>(Mckinsond, Perte, Chaellerty, Fuelisent, Stit...</td>\n",
              "    </tr>\n",
              "    <tr>\n",
              "      <th>...</th>\n",
              "      <td>...</td>\n",
              "      <td>...</td>\n",
              "      <td>...</td>\n",
              "      <td>...</td>\n",
              "      <td>...</td>\n",
              "      <td>...</td>\n",
              "      <td>...</td>\n",
              "      <td>...</td>\n",
              "      <td>...</td>\n",
              "      <td>...</td>\n",
              "      <td>...</td>\n",
              "      <td>...</td>\n",
              "      <td>...</td>\n",
              "      <td>...</td>\n",
              "    </tr>\n",
              "    <tr>\n",
              "      <th>19086.0</th>\n",
              "      <td>(2493_02,)</td>\n",
              "      <td>(Europa,)</td>\n",
              "      <td>(False,)</td>\n",
              "      <td>(C/88/S,)</td>\n",
              "      <td>(PSO J318.5-22,)</td>\n",
              "      <td>(27.0,)</td>\n",
              "      <td>(True,)</td>\n",
              "      <td>(0.0,)</td>\n",
              "      <td>(11984.0,)</td>\n",
              "      <td>(1610.0,)</td>\n",
              "      <td>(709,)</td>\n",
              "      <td>(Markar Reelest,)</td>\n",
              "      <td>(2493,)</td>\n",
              "      <td>(Reelest,)</td>\n",
              "    </tr>\n",
              "    <tr>\n",
              "      <th>20336.0</th>\n",
              "      <td>(4594_02,)</td>\n",
              "      <td>(Europa,)</td>\n",
              "      <td>(False,)</td>\n",
              "      <td>(C/144/P,)</td>\n",
              "      <td>(TRAPPIST-1e,)</td>\n",
              "      <td>(31.0,)</td>\n",
              "      <td>(False,)</td>\n",
              "      <td>(0.0,)</td>\n",
              "      <td>(6670.0,)</td>\n",
              "      <td>(217.0,)</td>\n",
              "      <td>(625,)</td>\n",
              "      <td>(Tabiton Folhal,)</td>\n",
              "      <td>(4594,)</td>\n",
              "      <td>(Folhal,)</td>\n",
              "    </tr>\n",
              "    <tr>\n",
              "      <th>22272.0</th>\n",
              "      <td>(6467_01,)</td>\n",
              "      <td>(Europa,)</td>\n",
              "      <td>(False,)</td>\n",
              "      <td>(C/240/S,)</td>\n",
              "      <td>(55 Cancri e,)</td>\n",
              "      <td>(46.0,)</td>\n",
              "      <td>(False,)</td>\n",
              "      <td>(0.0,)</td>\n",
              "      <td>(9540.0,)</td>\n",
              "      <td>(nan,)</td>\n",
              "      <td>(0,)</td>\n",
              "      <td>(Majorab Diossiver,)</td>\n",
              "      <td>(6467,)</td>\n",
              "      <td>(Diossiver,)</td>\n",
              "    </tr>\n",
              "    <tr>\n",
              "      <th>24133.0</th>\n",
              "      <td>(5977_02,)</td>\n",
              "      <td>(Europa,)</td>\n",
              "      <td>(False,)</td>\n",
              "      <td>(B/230/S,)</td>\n",
              "      <td>(55 Cancri e,)</td>\n",
              "      <td>(57.0,)</td>\n",
              "      <td>(False,)</td>\n",
              "      <td>(200.0,)</td>\n",
              "      <td>(9.0,)</td>\n",
              "      <td>(0.0,)</td>\n",
              "      <td>(__,)</td>\n",
              "      <td>(nan,)</td>\n",
              "      <td>(5977,)</td>\n",
              "      <td>(__,)</td>\n",
              "    </tr>\n",
              "    <tr>\n",
              "      <th>__</th>\n",
              "      <td>(0006_02, 0115_01, 0120_01, 0278_01, 0316_02, ...</td>\n",
              "      <td>(Earth, Mars, Europa, __)</td>\n",
              "      <td>(True, nan, False)</td>\n",
              "      <td>(G/0/S, F/24/P, F/25/P, __, B/9/S, G/44/S, F/8...</td>\n",
              "      <td>(TRAPPIST-1e, 55 Cancri e, nan, PSO J318.5-22)</td>\n",
              "      <td>(28.0, 26.0, 24.0, 35.0, 20.0, 21.0, 25.0, 55....</td>\n",
              "      <td>(False, nan, True)</td>\n",
              "      <td>(0.0, 62.0, 39.0, 14.0, 21.0, 4.0, 507.0, 2.0,...</td>\n",
              "      <td>(0.0, 5.0, nan, 263.0, 809.0, 1111.0, 123.0, 5...</td>\n",
              "      <td>(0.0, 3.0, 25.0, 2155.0, nan, 118.0, 956.0, 1....</td>\n",
              "      <td>(0, 888, 54, 422, 1852, 25, 20, 38, 74, 133, 3...</td>\n",
              "      <td>(Candra Jacostaffey, Rohs Pead, Bees Sacre, Ju...</td>\n",
              "      <td>(0006, 0115, 0120, 0278, 0316, 0320, 0470, 052...</td>\n",
              "      <td>(Jacostaffey, Pead, Sacre, Beachez, Sorbitter,...</td>\n",
              "    </tr>\n",
              "  </tbody>\n",
              "</table>\n",
              "<p>1643 rows × 14 columns</p>\n",
              "</div>\n",
              "      <button class=\"colab-df-convert\" onclick=\"convertToInteractive('df-2a1096d1-2763-44af-896b-206f3939a6ed')\"\n",
              "              title=\"Convert this dataframe to an interactive table.\"\n",
              "              style=\"display:none;\">\n",
              "        \n",
              "  <svg xmlns=\"http://www.w3.org/2000/svg\" height=\"24px\"viewBox=\"0 0 24 24\"\n",
              "       width=\"24px\">\n",
              "    <path d=\"M0 0h24v24H0V0z\" fill=\"none\"/>\n",
              "    <path d=\"M18.56 5.44l.94 2.06.94-2.06 2.06-.94-2.06-.94-.94-2.06-.94 2.06-2.06.94zm-11 1L8.5 8.5l.94-2.06 2.06-.94-2.06-.94L8.5 2.5l-.94 2.06-2.06.94zm10 10l.94 2.06.94-2.06 2.06-.94-2.06-.94-.94-2.06-.94 2.06-2.06.94z\"/><path d=\"M17.41 7.96l-1.37-1.37c-.4-.4-.92-.59-1.43-.59-.52 0-1.04.2-1.43.59L10.3 9.45l-7.72 7.72c-.78.78-.78 2.05 0 2.83L4 21.41c.39.39.9.59 1.41.59.51 0 1.02-.2 1.41-.59l7.78-7.78 2.81-2.81c.8-.78.8-2.07 0-2.86zM5.41 20L4 18.59l7.72-7.72 1.47 1.35L5.41 20z\"/>\n",
              "  </svg>\n",
              "      </button>\n",
              "      \n",
              "  <style>\n",
              "    .colab-df-container {\n",
              "      display:flex;\n",
              "      flex-wrap:wrap;\n",
              "      gap: 12px;\n",
              "    }\n",
              "\n",
              "    .colab-df-convert {\n",
              "      background-color: #E8F0FE;\n",
              "      border: none;\n",
              "      border-radius: 50%;\n",
              "      cursor: pointer;\n",
              "      display: none;\n",
              "      fill: #1967D2;\n",
              "      height: 32px;\n",
              "      padding: 0 0 0 0;\n",
              "      width: 32px;\n",
              "    }\n",
              "\n",
              "    .colab-df-convert:hover {\n",
              "      background-color: #E2EBFA;\n",
              "      box-shadow: 0px 1px 2px rgba(60, 64, 67, 0.3), 0px 1px 3px 1px rgba(60, 64, 67, 0.15);\n",
              "      fill: #174EA6;\n",
              "    }\n",
              "\n",
              "    [theme=dark] .colab-df-convert {\n",
              "      background-color: #3B4455;\n",
              "      fill: #D2E3FC;\n",
              "    }\n",
              "\n",
              "    [theme=dark] .colab-df-convert:hover {\n",
              "      background-color: #434B5C;\n",
              "      box-shadow: 0px 1px 3px 1px rgba(0, 0, 0, 0.15);\n",
              "      filter: drop-shadow(0px 1px 2px rgba(0, 0, 0, 0.3));\n",
              "      fill: #FFFFFF;\n",
              "    }\n",
              "  </style>\n",
              "\n",
              "      <script>\n",
              "        const buttonEl =\n",
              "          document.querySelector('#df-2a1096d1-2763-44af-896b-206f3939a6ed button.colab-df-convert');\n",
              "        buttonEl.style.display =\n",
              "          google.colab.kernel.accessAllowed ? 'block' : 'none';\n",
              "\n",
              "        async function convertToInteractive(key) {\n",
              "          const element = document.querySelector('#df-2a1096d1-2763-44af-896b-206f3939a6ed');\n",
              "          const dataTable =\n",
              "            await google.colab.kernel.invokeFunction('convertToInteractive',\n",
              "                                                     [key], {});\n",
              "          if (!dataTable) return;\n",
              "\n",
              "          const docLinkHtml = 'Like what you see? Visit the ' +\n",
              "            '<a target=\"_blank\" href=https://colab.research.google.com/notebooks/data_table.ipynb>data table notebook</a>'\n",
              "            + ' to learn more about interactive tables.';\n",
              "          element.innerHTML = '';\n",
              "          dataTable['output_type'] = 'display_data';\n",
              "          await google.colab.output.renderOutput(dataTable, element);\n",
              "          const docLink = document.createElement('div');\n",
              "          docLink.innerHTML = docLinkHtml;\n",
              "          element.appendChild(docLink);\n",
              "        }\n",
              "      </script>\n",
              "    </div>\n",
              "  </div>\n",
              "  "
            ]
          },
          "metadata": {},
          "execution_count": 414
        }
      ]
    },
    {
      "cell_type": "code",
      "source": [
        "dff.groupby ('LN').aggregate (lambda x : tuple (x.unique()))['CryoSleep'].value_counts () # Cryo не заисит от LN"
      ],
      "metadata": {
        "colab": {
          "base_uri": "https://localhost:8080/"
        },
        "id": "pjLnD-PKTDdG",
        "outputId": "efe2e3df-8185-4339-aa03-eb348070d519"
      },
      "execution_count": null,
      "outputs": [
        {
          "output_type": "execute_result",
          "data": {
            "text/plain": [
              "(False, True)         934\n",
              "(True, False)         613\n",
              "(False,)              418\n",
              "(True,)               160\n",
              "(False, True, nan)     78\n",
              "(True, False, nan)     57\n",
              "(False, nan, True)     37\n",
              "(False, nan)           30\n",
              "(nan, False, True)     22\n",
              "(nan, True, False)     14\n",
              "(True, nan, False)     14\n",
              "(nan, False)           10\n",
              "(True, nan)             9\n",
              "(nan,)                  6\n",
              "(nan, True)             5\n",
              "Name: CryoSleep, dtype: int64"
            ]
          },
          "metadata": {},
          "execution_count": 268
        }
      ]
    },
    {
      "cell_type": "code",
      "source": [
        "dff.groupby ('NID').aggregate (lambda x : tuple (x.unique()))['Destination'].value_counts () # Dest тоже не заисит от NID"
      ],
      "metadata": {
        "colab": {
          "base_uri": "https://localhost:8080/"
        },
        "id": "l5NJu9XkVqtV",
        "outputId": "9ac2c3b8-4be7-4040-ab90-c43a7a0fdfc7"
      },
      "execution_count": null,
      "outputs": [
        {
          "output_type": "execute_result",
          "data": {
            "text/plain": [
              "(TRAPPIST-1e,)                                    5793\n",
              "(55 Cancri e,)                                    1354\n",
              "(PSO J318.5-22,)                                   826\n",
              "(TRAPPIST-1e, 55 Cancri e)                         406\n",
              "(55 Cancri e, TRAPPIST-1e)                         338\n",
              "(nan,)                                             154\n",
              "(TRAPPIST-1e, PSO J318.5-22)                       104\n",
              "(PSO J318.5-22, TRAPPIST-1e)                        77\n",
              "(TRAPPIST-1e, nan)                                  37\n",
              "(nan, TRAPPIST-1e)                                  27\n",
              "(55 Cancri e, PSO J318.5-22)                        21\n",
              "(PSO J318.5-22, 55 Cancri e)                        18\n",
              "(TRAPPIST-1e, PSO J318.5-22, 55 Cancri e)           16\n",
              "(TRAPPIST-1e, 55 Cancri e, PSO J318.5-22)           14\n",
              "(55 Cancri e, TRAPPIST-1e, PSO J318.5-22)           13\n",
              "(55 Cancri e, PSO J318.5-22, TRAPPIST-1e)           12\n",
              "(PSO J318.5-22, TRAPPIST-1e, 55 Cancri e)           10\n",
              "(TRAPPIST-1e, 55 Cancri e, nan)                      9\n",
              "(nan, 55 Cancri e)                                   7\n",
              "(55 Cancri e, TRAPPIST-1e, nan)                      6\n",
              "(PSO J318.5-22, nan)                                 5\n",
              "(55 Cancri e, nan)                                   5\n",
              "(TRAPPIST-1e, nan, 55 Cancri e)                      5\n",
              "(TRAPPIST-1e, PSO J318.5-22, nan)                    5\n",
              "(PSO J318.5-22, 55 Cancri e, TRAPPIST-1e)            4\n",
              "(55 Cancri e, nan, TRAPPIST-1e)                      3\n",
              "(nan, PSO J318.5-22)                                 2\n",
              "(nan, 55 Cancri e, TRAPPIST-1e)                      2\n",
              "(PSO J318.5-22, TRAPPIST-1e, nan, 55 Cancri e)       1\n",
              "(TRAPPIST-1e, PSO J318.5-22, 55 Cancri e, nan)       1\n",
              "(nan, TRAPPIST-1e, 55 Cancri e)                      1\n",
              "(PSO J318.5-22, nan, TRAPPIST-1e)                    1\n",
              "(PSO J318.5-22, nan, TRAPPIST-1e, 55 Cancri e)       1\n",
              "(TRAPPIST-1e, nan, PSO J318.5-22)                    1\n",
              "(TRAPPIST-1e, nan, PSO J318.5-22, 55 Cancri e)       1\n",
              "Name: Destination, dtype: int64"
            ]
          },
          "metadata": {},
          "execution_count": 269
        }
      ]
    },
    {
      "cell_type": "code",
      "source": [
        "dff.groupby ('NID').aggregate (lambda x : tuple (x.unique()))['LN']"
      ],
      "metadata": {
        "colab": {
          "base_uri": "https://localhost:8080/"
        },
        "id": "RCrgoeWFOH4k",
        "outputId": "7ab01108-1487-45a6-e7c2-625b1b88d41b"
      },
      "execution_count": null,
      "outputs": [
        {
          "output_type": "execute_result",
          "data": {
            "text/plain": [
              "NID\n",
              "0001      (Ofracculy,)\n",
              "0002          (Vines,)\n",
              "0003         (Susent,)\n",
              "0004    (Santantines,)\n",
              "0005     (Hinetthews,)\n",
              "             ...      \n",
              "9276      (Noxnuther,)\n",
              "9277      (Leonzaley,)\n",
              "9278      (Mondalley,)\n",
              "9279         (Connon,)\n",
              "9280      (Hontichre,)\n",
              "Name: LN, Length: 9280, dtype: object"
            ]
          },
          "metadata": {},
          "execution_count": 390
        }
      ]
    },
    {
      "cell_type": "code",
      "source": [
        "mask3 = dff.groupby ('NID').aggregate (lambda x : tuple (x.unique()))['LN'].apply (lambda x : len (x) >1 )"
      ],
      "metadata": {
        "id": "yjNDOmHCq3kV"
      },
      "execution_count": null,
      "outputs": []
    },
    {
      "cell_type": "code",
      "source": [
        "dff.groupby ('NID').aggregate (lambda x : tuple (x.unique()))['LN'][mask3]"
      ],
      "metadata": {
        "colab": {
          "base_uri": "https://localhost:8080/"
        },
        "id": "SKoNCH6HtOIu",
        "outputId": "7ebb4c98-0475-4851-89ab-10d21c39d56e"
      },
      "execution_count": null,
      "outputs": [
        {
          "output_type": "execute_result",
          "data": {
            "text/plain": [
              "NID\n",
              "0020    (Brantuarez, Mcfaddennon, Jacostanley)\n",
              "0047                            (Prucerod, __)\n",
              "0064                                (__, Keen)\n",
              "0082                               (Datte, __)\n",
              "0092                        (Dunnisey, Hewson)\n",
              "                         ...                  \n",
              "9194                              (__, Subwor)\n",
              "9205                             (Brakeng, __)\n",
              "9208                           (__, Shieldson)\n",
              "9220                   (Meyerthy, Barrilloney)\n",
              "9238                       (Garnettiz, Emenez)\n",
              "Name: LN, Length: 477, dtype: object"
            ]
          },
          "metadata": {},
          "execution_count": 392
        }
      ]
    },
    {
      "cell_type": "code",
      "source": [
        "mask4 = dff.groupby ('NID').aggregate (lambda x : tuple (x.unique()))['LN'][mask3].apply (lambda x : not '__' in x)"
      ],
      "metadata": {
        "id": "MkQkGGSarUru"
      },
      "execution_count": null,
      "outputs": []
    },
    {
      "cell_type": "code",
      "source": [
        "dff.groupby ('NID').aggregate (lambda x : tuple (x.unique()))['LN'][mask3][mask4] # в 341 из 9280 Nid проживают смешанные семьи, так что есть небольшая вероятность ошибки при заполнении"
      ],
      "metadata": {
        "colab": {
          "base_uri": "https://localhost:8080/"
        },
        "id": "kEe4k6odr3Fk",
        "outputId": "db483a6c-db66-4f6a-e752-362163eae007"
      },
      "execution_count": null,
      "outputs": [
        {
          "output_type": "execute_result",
          "data": {
            "text/plain": [
              "NID\n",
              "0020    (Brantuarez, Mcfaddennon, Jacostanley)\n",
              "0092                        (Dunnisey, Hewson)\n",
              "0099                  (Leetersoney, Connelson)\n",
              "0110                     (Aloubtled, Bootious)\n",
              "0140                    (Mejiaddox, Whitakers)\n",
              "                         ...                  \n",
              "9155                        (Amoutake, Ingalt)\n",
              "9157                         (Navages, Donson)\n",
              "9162                   (Muspereed, Ineckethle)\n",
              "9220                   (Meyerthy, Barrilloney)\n",
              "9238                       (Garnettiz, Emenez)\n",
              "Name: LN, Length: 341, dtype: object"
            ]
          },
          "metadata": {},
          "execution_count": 389
        }
      ]
    },
    {
      "cell_type": "code",
      "source": [
        "dff.groupby (['NID' , 'LN']).aggregate (lambda x : tuple (x.unique()))['Cabin']"
      ],
      "metadata": {
        "colab": {
          "base_uri": "https://localhost:8080/"
        },
        "id": "C0TNd1IJsLcI",
        "outputId": "098d6ca5-12ff-4357-ff89-a856ed82f2aa"
      },
      "execution_count": null,
      "outputs": [
        {
          "output_type": "execute_result",
          "data": {
            "text/plain": [
              "NID   LN         \n",
              "0001  Ofracculy         (B/0/P,)\n",
              "0002  Vines             (F/0/S,)\n",
              "0003  Susent            (A/0/S,)\n",
              "0004  Santantines       (F/1/S,)\n",
              "0005  Hinetthews        (F/0/P,)\n",
              "                        ...     \n",
              "9276  Noxnuther        (A/98/P,)\n",
              "9277  Leonzaley      (G/1498/S,)\n",
              "9278  Mondalley      (G/1499/S,)\n",
              "9279  Connon         (G/1500/S,)\n",
              "9280  Hontichre       (E/608/S,)\n",
              "Name: Cabin, Length: 9716, dtype: object"
            ]
          },
          "metadata": {},
          "execution_count": 457
        }
      ]
    },
    {
      "cell_type": "code",
      "source": [
        "mask5 = dff.groupby (['NID' , 'LN']).aggregate (lambda x : tuple (x.unique()))['Cabin'].apply (lambda x : len (x) >1 ) # в 8% совпадения NID LN каюту не восстановить\n",
        "dff.groupby (['NID' , 'LN']).aggregate (lambda x : tuple (x.unique()))['Cabin'][mask5]"
      ],
      "metadata": {
        "colab": {
          "base_uri": "https://localhost:8080/"
        },
        "id": "HIS1_EXS1id2",
        "outputId": "eb8099ba-1e1b-4a07-e292-40eba8e2dae9"
      },
      "execution_count": null,
      "outputs": [
        {
          "output_type": "execute_result",
          "data": {
            "text/plain": [
              "NID   LN         \n",
              "0006  Jacostaffey              (F/2/S, G/0/S)\n",
              "0017  Brighttt                 (G/0/P, F/6/P)\n",
              "0046  Powery                  (G/4/P, F/11/P)\n",
              "0047  Prucerod                    (B/0/S, __)\n",
              "0064  Keen                    (F/14/S, E/3/S)\n",
              "                               ...           \n",
              "9219  Workmanson         (G/1487/S, F/1783/S)\n",
              "9231  Paie                (F/1888/P, E/592/P)\n",
              "9238  Emenez         (G/1501/P, __, F/1890/P)\n",
              "9266  Peter              (F/1796/S, G/1496/S)\n",
              "9272  Simson             (G/1507/P, F/1894/P)\n",
              "Name: Cabin, Length: 747, dtype: object"
            ]
          },
          "metadata": {},
          "execution_count": 458
        }
      ]
    },
    {
      "cell_type": "code",
      "source": [
        "mask = dff.groupby ('NID').aggregate (lambda x : tuple (x.unique()))['Cabin'].apply (lambda x : len (x) >1 )"
      ],
      "metadata": {
        "id": "hEz8Qb0MotS9"
      },
      "execution_count": null,
      "outputs": []
    },
    {
      "cell_type": "code",
      "source": [
        "dff.groupby ('NID').aggregate (lambda x : tuple (x.unique()))['Cabin'][mask]"
      ],
      "metadata": {
        "colab": {
          "base_uri": "https://localhost:8080/"
        },
        "id": "BQlJW14gqikE",
        "outputId": "de1c4720-df3f-4bfb-d966-8b3fb57cfae9"
      },
      "execution_count": null,
      "outputs": [
        {
          "output_type": "execute_result",
          "data": {
            "text/plain": [
              "NID\n",
              "0006              (F/2/S, G/0/S)\n",
              "0017              (G/0/P, F/6/P)\n",
              "0046             (G/4/P, F/11/P)\n",
              "0047                 (B/0/S, __)\n",
              "0064             (F/14/S, E/3/S)\n",
              "                  ...           \n",
              "9220        (G/1496/P, F/1886/P)\n",
              "9231         (F/1888/P, E/592/P)\n",
              "9238    (G/1501/P, __, F/1890/P)\n",
              "9266        (F/1796/S, G/1496/S)\n",
              "9272        (G/1507/P, F/1894/P)\n",
              "Name: Cabin, Length: 790, dtype: object"
            ]
          },
          "metadata": {},
          "execution_count": 298
        }
      ]
    },
    {
      "cell_type": "code",
      "source": [
        "dff.groupby (['NID' , 'LN']).aggregate (lambda x : tuple (x.unique()))['HomePlanet'].value_counts()"
      ],
      "metadata": {
        "colab": {
          "base_uri": "https://localhost:8080/"
        },
        "id": "AUQt-fNlquUV",
        "outputId": "5ccf33b0-ca62-49f7-acfe-81635bfcdcba"
      },
      "execution_count": null,
      "outputs": [
        {
          "output_type": "execute_result",
          "data": {
            "text/plain": [
              "(Earth,)            5558\n",
              "(Europa,)           2010\n",
              "(Mars,)             1972\n",
              "(Missed,)            174\n",
              "(Europa, Missed)      26\n",
              "(Earth, Missed)       23\n",
              "(Mars, Missed)        20\n",
              "(Missed, Earth)       16\n",
              "(Missed, Mars)        15\n",
              "(Missed, Europa)      13\n",
              "Name: HomePlanet, dtype: int64"
            ]
          },
          "metadata": {},
          "execution_count": 102
        }
      ]
    },
    {
      "cell_type": "code",
      "source": [
        "dff1 = dff.groupby (['NID']).filter (lambda x : x['LN'].count() >1 )"
      ],
      "metadata": {
        "id": "G2qdlkkayhMq"
      },
      "execution_count": null,
      "outputs": []
    },
    {
      "cell_type": "code",
      "source": [
        "dff"
      ],
      "metadata": {
        "colab": {
          "base_uri": "https://localhost:8080/",
          "height": 424
        },
        "id": "HDF2jkWwI211",
        "outputId": "e90f1338-0a04-4e65-b0a0-208a8f776988"
      },
      "execution_count": null,
      "outputs": [
        {
          "output_type": "execute_result",
          "data": {
            "text/plain": [
              "     PassengerId HomePlanet CryoSleep     Cabin    Destination   Age    VIP  \\\n",
              "0        0001_01     Europa     False     B/0/P    TRAPPIST-1e  39.0  False   \n",
              "1        0002_01      Earth     False     F/0/S    TRAPPIST-1e  24.0  False   \n",
              "2        0003_01     Europa     False     A/0/S    TRAPPIST-1e  58.0   True   \n",
              "3        0003_02     Europa     False     A/0/S    TRAPPIST-1e  33.0  False   \n",
              "4        0004_01      Earth     False     F/1/S    TRAPPIST-1e  16.0  False   \n",
              "...          ...        ...       ...       ...            ...   ...    ...   \n",
              "4272     9266_02      Earth      True  G/1496/S    TRAPPIST-1e  34.0  False   \n",
              "4273     9269_01      Earth     False        __    TRAPPIST-1e  42.0  False   \n",
              "4274     9271_01       Mars      True   D/296/P    55 Cancri e   NaN  False   \n",
              "4275     9273_01     Europa     False   D/297/P            NaN   NaN  False   \n",
              "4276     9277_01      Earth      True  G/1498/S  PSO J318.5-22  43.0  False   \n",
              "\n",
              "      RoomService  FoodCourt  ShoppingMall     Spa  VRDeck               Name  \\\n",
              "0             0.0        0.0           0.0     0.0     0.0    Maham Ofracculy   \n",
              "1           109.0        9.0          25.0   549.0    44.0       Juanna Vines   \n",
              "2            43.0     3576.0           0.0  6715.0    49.0      Altark Susent   \n",
              "3             0.0     1283.0         371.0  3329.0   193.0       Solam Susent   \n",
              "4           303.0       70.0         151.0   565.0     2.0  Willy Santantines   \n",
              "...           ...        ...           ...     ...     ...                ...   \n",
              "4272          0.0        0.0           0.0     0.0     0.0        Jeron Peter   \n",
              "4273          0.0      847.0          17.0    10.0   144.0      Matty Scheron   \n",
              "4274          0.0        0.0           0.0     0.0     0.0        Jayrin Pore   \n",
              "4275          0.0     2680.0           0.0     0.0   523.0     Kitakan Conale   \n",
              "4276          0.0        0.0           0.0     0.0     0.0   Lilace Leonzaley   \n",
              "\n",
              "       NID           LN  \n",
              "0     0001    Ofracculy  \n",
              "1     0002        Vines  \n",
              "2     0003       Susent  \n",
              "3     0003       Susent  \n",
              "4     0004  Santantines  \n",
              "...    ...          ...  \n",
              "4272  9266        Peter  \n",
              "4273  9269      Scheron  \n",
              "4274  9271         Pore  \n",
              "4275  9273       Conale  \n",
              "4276  9277    Leonzaley  \n",
              "\n",
              "[12970 rows x 15 columns]"
            ],
            "text/html": [
              "<div>\n",
              "<style scoped>\n",
              "    .dataframe tbody tr th:only-of-type {\n",
              "        vertical-align: middle;\n",
              "    }\n",
              "\n",
              "    .dataframe tbody tr th {\n",
              "        vertical-align: top;\n",
              "    }\n",
              "\n",
              "    .dataframe thead th {\n",
              "        text-align: right;\n",
              "    }\n",
              "</style>\n",
              "<table border=\"1\" class=\"dataframe\">\n",
              "  <thead>\n",
              "    <tr style=\"text-align: right;\">\n",
              "      <th></th>\n",
              "      <th>PassengerId</th>\n",
              "      <th>HomePlanet</th>\n",
              "      <th>CryoSleep</th>\n",
              "      <th>Cabin</th>\n",
              "      <th>Destination</th>\n",
              "      <th>Age</th>\n",
              "      <th>VIP</th>\n",
              "      <th>RoomService</th>\n",
              "      <th>FoodCourt</th>\n",
              "      <th>ShoppingMall</th>\n",
              "      <th>Spa</th>\n",
              "      <th>VRDeck</th>\n",
              "      <th>Name</th>\n",
              "      <th>NID</th>\n",
              "      <th>LN</th>\n",
              "    </tr>\n",
              "  </thead>\n",
              "  <tbody>\n",
              "    <tr>\n",
              "      <th>0</th>\n",
              "      <td>0001_01</td>\n",
              "      <td>Europa</td>\n",
              "      <td>False</td>\n",
              "      <td>B/0/P</td>\n",
              "      <td>TRAPPIST-1e</td>\n",
              "      <td>39.0</td>\n",
              "      <td>False</td>\n",
              "      <td>0.0</td>\n",
              "      <td>0.0</td>\n",
              "      <td>0.0</td>\n",
              "      <td>0.0</td>\n",
              "      <td>0.0</td>\n",
              "      <td>Maham Ofracculy</td>\n",
              "      <td>0001</td>\n",
              "      <td>Ofracculy</td>\n",
              "    </tr>\n",
              "    <tr>\n",
              "      <th>1</th>\n",
              "      <td>0002_01</td>\n",
              "      <td>Earth</td>\n",
              "      <td>False</td>\n",
              "      <td>F/0/S</td>\n",
              "      <td>TRAPPIST-1e</td>\n",
              "      <td>24.0</td>\n",
              "      <td>False</td>\n",
              "      <td>109.0</td>\n",
              "      <td>9.0</td>\n",
              "      <td>25.0</td>\n",
              "      <td>549.0</td>\n",
              "      <td>44.0</td>\n",
              "      <td>Juanna Vines</td>\n",
              "      <td>0002</td>\n",
              "      <td>Vines</td>\n",
              "    </tr>\n",
              "    <tr>\n",
              "      <th>2</th>\n",
              "      <td>0003_01</td>\n",
              "      <td>Europa</td>\n",
              "      <td>False</td>\n",
              "      <td>A/0/S</td>\n",
              "      <td>TRAPPIST-1e</td>\n",
              "      <td>58.0</td>\n",
              "      <td>True</td>\n",
              "      <td>43.0</td>\n",
              "      <td>3576.0</td>\n",
              "      <td>0.0</td>\n",
              "      <td>6715.0</td>\n",
              "      <td>49.0</td>\n",
              "      <td>Altark Susent</td>\n",
              "      <td>0003</td>\n",
              "      <td>Susent</td>\n",
              "    </tr>\n",
              "    <tr>\n",
              "      <th>3</th>\n",
              "      <td>0003_02</td>\n",
              "      <td>Europa</td>\n",
              "      <td>False</td>\n",
              "      <td>A/0/S</td>\n",
              "      <td>TRAPPIST-1e</td>\n",
              "      <td>33.0</td>\n",
              "      <td>False</td>\n",
              "      <td>0.0</td>\n",
              "      <td>1283.0</td>\n",
              "      <td>371.0</td>\n",
              "      <td>3329.0</td>\n",
              "      <td>193.0</td>\n",
              "      <td>Solam Susent</td>\n",
              "      <td>0003</td>\n",
              "      <td>Susent</td>\n",
              "    </tr>\n",
              "    <tr>\n",
              "      <th>4</th>\n",
              "      <td>0004_01</td>\n",
              "      <td>Earth</td>\n",
              "      <td>False</td>\n",
              "      <td>F/1/S</td>\n",
              "      <td>TRAPPIST-1e</td>\n",
              "      <td>16.0</td>\n",
              "      <td>False</td>\n",
              "      <td>303.0</td>\n",
              "      <td>70.0</td>\n",
              "      <td>151.0</td>\n",
              "      <td>565.0</td>\n",
              "      <td>2.0</td>\n",
              "      <td>Willy Santantines</td>\n",
              "      <td>0004</td>\n",
              "      <td>Santantines</td>\n",
              "    </tr>\n",
              "    <tr>\n",
              "      <th>...</th>\n",
              "      <td>...</td>\n",
              "      <td>...</td>\n",
              "      <td>...</td>\n",
              "      <td>...</td>\n",
              "      <td>...</td>\n",
              "      <td>...</td>\n",
              "      <td>...</td>\n",
              "      <td>...</td>\n",
              "      <td>...</td>\n",
              "      <td>...</td>\n",
              "      <td>...</td>\n",
              "      <td>...</td>\n",
              "      <td>...</td>\n",
              "      <td>...</td>\n",
              "      <td>...</td>\n",
              "    </tr>\n",
              "    <tr>\n",
              "      <th>4272</th>\n",
              "      <td>9266_02</td>\n",
              "      <td>Earth</td>\n",
              "      <td>True</td>\n",
              "      <td>G/1496/S</td>\n",
              "      <td>TRAPPIST-1e</td>\n",
              "      <td>34.0</td>\n",
              "      <td>False</td>\n",
              "      <td>0.0</td>\n",
              "      <td>0.0</td>\n",
              "      <td>0.0</td>\n",
              "      <td>0.0</td>\n",
              "      <td>0.0</td>\n",
              "      <td>Jeron Peter</td>\n",
              "      <td>9266</td>\n",
              "      <td>Peter</td>\n",
              "    </tr>\n",
              "    <tr>\n",
              "      <th>4273</th>\n",
              "      <td>9269_01</td>\n",
              "      <td>Earth</td>\n",
              "      <td>False</td>\n",
              "      <td>__</td>\n",
              "      <td>TRAPPIST-1e</td>\n",
              "      <td>42.0</td>\n",
              "      <td>False</td>\n",
              "      <td>0.0</td>\n",
              "      <td>847.0</td>\n",
              "      <td>17.0</td>\n",
              "      <td>10.0</td>\n",
              "      <td>144.0</td>\n",
              "      <td>Matty Scheron</td>\n",
              "      <td>9269</td>\n",
              "      <td>Scheron</td>\n",
              "    </tr>\n",
              "    <tr>\n",
              "      <th>4274</th>\n",
              "      <td>9271_01</td>\n",
              "      <td>Mars</td>\n",
              "      <td>True</td>\n",
              "      <td>D/296/P</td>\n",
              "      <td>55 Cancri e</td>\n",
              "      <td>NaN</td>\n",
              "      <td>False</td>\n",
              "      <td>0.0</td>\n",
              "      <td>0.0</td>\n",
              "      <td>0.0</td>\n",
              "      <td>0.0</td>\n",
              "      <td>0.0</td>\n",
              "      <td>Jayrin Pore</td>\n",
              "      <td>9271</td>\n",
              "      <td>Pore</td>\n",
              "    </tr>\n",
              "    <tr>\n",
              "      <th>4275</th>\n",
              "      <td>9273_01</td>\n",
              "      <td>Europa</td>\n",
              "      <td>False</td>\n",
              "      <td>D/297/P</td>\n",
              "      <td>NaN</td>\n",
              "      <td>NaN</td>\n",
              "      <td>False</td>\n",
              "      <td>0.0</td>\n",
              "      <td>2680.0</td>\n",
              "      <td>0.0</td>\n",
              "      <td>0.0</td>\n",
              "      <td>523.0</td>\n",
              "      <td>Kitakan Conale</td>\n",
              "      <td>9273</td>\n",
              "      <td>Conale</td>\n",
              "    </tr>\n",
              "    <tr>\n",
              "      <th>4276</th>\n",
              "      <td>9277_01</td>\n",
              "      <td>Earth</td>\n",
              "      <td>True</td>\n",
              "      <td>G/1498/S</td>\n",
              "      <td>PSO J318.5-22</td>\n",
              "      <td>43.0</td>\n",
              "      <td>False</td>\n",
              "      <td>0.0</td>\n",
              "      <td>0.0</td>\n",
              "      <td>0.0</td>\n",
              "      <td>0.0</td>\n",
              "      <td>0.0</td>\n",
              "      <td>Lilace Leonzaley</td>\n",
              "      <td>9277</td>\n",
              "      <td>Leonzaley</td>\n",
              "    </tr>\n",
              "  </tbody>\n",
              "</table>\n",
              "<p>12970 rows × 15 columns</p>\n",
              "</div>"
            ]
          },
          "metadata": {},
          "execution_count": 300
        }
      ]
    },
    {
      "cell_type": "code",
      "source": [
        "dff1.groupby (['NID' , 'LN']).filter (lambda x : '__' in tuple (x['HomePlanet'].unique()) )"
      ],
      "metadata": {
        "colab": {
          "base_uri": "https://localhost:8080/",
          "height": 424
        },
        "id": "uoNcYedpr1GW",
        "outputId": "5442522a-6072-4058-ae5e-e6e7fae89c7f"
      },
      "execution_count": null,
      "outputs": [
        {
          "output_type": "execute_result",
          "data": {
            "text/plain": [
              "     PassengerId HomePlanet CryoSleep     Cabin  Destination   Age    VIP  \\\n",
              "59       0064_02         __      True     E/3/S  TRAPPIST-1e  33.0  False   \n",
              "113      0119_01         __     False     A/0/P  TRAPPIST-1e  39.0  False   \n",
              "114      0119_02     Europa      True     A/0/P  TRAPPIST-1e  13.0  False   \n",
              "404      0444_01       Mars     False    D/15/P  TRAPPIST-1e  32.0   True   \n",
              "405      0444_02         __     False    F/99/P  TRAPPIST-1e  26.0   True   \n",
              "...          ...        ...       ...       ...          ...   ...    ...   \n",
              "4159     9025_01         __     False  G/1454/S  TRAPPIST-1e  42.0  False   \n",
              "4160     9025_02      Earth      True  G/1454/S  TRAPPIST-1e   0.0  False   \n",
              "4213     9146_01         __     False  F/1874/P  TRAPPIST-1e  52.0  False   \n",
              "4214     9146_02       Mars     False   D/293/P  TRAPPIST-1e  28.0  False   \n",
              "4215     9146_03       Mars      True  F/1874/P  55 Cancri e  15.0  False   \n",
              "\n",
              "      RoomService  FoodCourt  ShoppingMall    Spa  VRDeck               Name  \\\n",
              "59            0.0        0.0           NaN    0.0     0.0        Colatz Keen   \n",
              "113           0.0     2344.0           0.0   65.0  6898.0       Batan Coning   \n",
              "114           0.0        0.0           0.0    0.0     0.0     Kleeiak Coning   \n",
              "404        2484.0      429.0         102.0    0.0     0.0       Camonk Curte   \n",
              "405        1869.0        0.0         136.0    0.0     0.0        Colal Curte   \n",
              "...           ...        ...           ...    ...     ...                ...   \n",
              "4159          0.0        0.0          28.0  726.0     0.0     Ale Whitersone   \n",
              "4160          0.0        0.0           0.0    0.0     0.0  Philia Whitersone   \n",
              "4213        994.0        0.0         173.0    0.0    24.0        Rionk Sache   \n",
              "4214       1014.0       81.0           1.0   85.0     1.0         Cran Sache   \n",
              "4215          0.0        0.0           0.0    0.0     0.0       Cheeet Sache   \n",
              "\n",
              "       NID          LN  \n",
              "59    0064        Keen  \n",
              "113   0119      Coning  \n",
              "114   0119      Coning  \n",
              "404   0444       Curte  \n",
              "405   0444       Curte  \n",
              "...    ...         ...  \n",
              "4159  9025  Whitersone  \n",
              "4160  9025  Whitersone  \n",
              "4213  9146       Sache  \n",
              "4214  9146       Sache  \n",
              "4215  9146       Sache  \n",
              "\n",
              "[339 rows x 15 columns]"
            ],
            "text/html": [
              "<div>\n",
              "<style scoped>\n",
              "    .dataframe tbody tr th:only-of-type {\n",
              "        vertical-align: middle;\n",
              "    }\n",
              "\n",
              "    .dataframe tbody tr th {\n",
              "        vertical-align: top;\n",
              "    }\n",
              "\n",
              "    .dataframe thead th {\n",
              "        text-align: right;\n",
              "    }\n",
              "</style>\n",
              "<table border=\"1\" class=\"dataframe\">\n",
              "  <thead>\n",
              "    <tr style=\"text-align: right;\">\n",
              "      <th></th>\n",
              "      <th>PassengerId</th>\n",
              "      <th>HomePlanet</th>\n",
              "      <th>CryoSleep</th>\n",
              "      <th>Cabin</th>\n",
              "      <th>Destination</th>\n",
              "      <th>Age</th>\n",
              "      <th>VIP</th>\n",
              "      <th>RoomService</th>\n",
              "      <th>FoodCourt</th>\n",
              "      <th>ShoppingMall</th>\n",
              "      <th>Spa</th>\n",
              "      <th>VRDeck</th>\n",
              "      <th>Name</th>\n",
              "      <th>NID</th>\n",
              "      <th>LN</th>\n",
              "    </tr>\n",
              "  </thead>\n",
              "  <tbody>\n",
              "    <tr>\n",
              "      <th>59</th>\n",
              "      <td>0064_02</td>\n",
              "      <td>__</td>\n",
              "      <td>True</td>\n",
              "      <td>E/3/S</td>\n",
              "      <td>TRAPPIST-1e</td>\n",
              "      <td>33.0</td>\n",
              "      <td>False</td>\n",
              "      <td>0.0</td>\n",
              "      <td>0.0</td>\n",
              "      <td>NaN</td>\n",
              "      <td>0.0</td>\n",
              "      <td>0.0</td>\n",
              "      <td>Colatz Keen</td>\n",
              "      <td>0064</td>\n",
              "      <td>Keen</td>\n",
              "    </tr>\n",
              "    <tr>\n",
              "      <th>113</th>\n",
              "      <td>0119_01</td>\n",
              "      <td>__</td>\n",
              "      <td>False</td>\n",
              "      <td>A/0/P</td>\n",
              "      <td>TRAPPIST-1e</td>\n",
              "      <td>39.0</td>\n",
              "      <td>False</td>\n",
              "      <td>0.0</td>\n",
              "      <td>2344.0</td>\n",
              "      <td>0.0</td>\n",
              "      <td>65.0</td>\n",
              "      <td>6898.0</td>\n",
              "      <td>Batan Coning</td>\n",
              "      <td>0119</td>\n",
              "      <td>Coning</td>\n",
              "    </tr>\n",
              "    <tr>\n",
              "      <th>114</th>\n",
              "      <td>0119_02</td>\n",
              "      <td>Europa</td>\n",
              "      <td>True</td>\n",
              "      <td>A/0/P</td>\n",
              "      <td>TRAPPIST-1e</td>\n",
              "      <td>13.0</td>\n",
              "      <td>False</td>\n",
              "      <td>0.0</td>\n",
              "      <td>0.0</td>\n",
              "      <td>0.0</td>\n",
              "      <td>0.0</td>\n",
              "      <td>0.0</td>\n",
              "      <td>Kleeiak Coning</td>\n",
              "      <td>0119</td>\n",
              "      <td>Coning</td>\n",
              "    </tr>\n",
              "    <tr>\n",
              "      <th>404</th>\n",
              "      <td>0444_01</td>\n",
              "      <td>Mars</td>\n",
              "      <td>False</td>\n",
              "      <td>D/15/P</td>\n",
              "      <td>TRAPPIST-1e</td>\n",
              "      <td>32.0</td>\n",
              "      <td>True</td>\n",
              "      <td>2484.0</td>\n",
              "      <td>429.0</td>\n",
              "      <td>102.0</td>\n",
              "      <td>0.0</td>\n",
              "      <td>0.0</td>\n",
              "      <td>Camonk Curte</td>\n",
              "      <td>0444</td>\n",
              "      <td>Curte</td>\n",
              "    </tr>\n",
              "    <tr>\n",
              "      <th>405</th>\n",
              "      <td>0444_02</td>\n",
              "      <td>__</td>\n",
              "      <td>False</td>\n",
              "      <td>F/99/P</td>\n",
              "      <td>TRAPPIST-1e</td>\n",
              "      <td>26.0</td>\n",
              "      <td>True</td>\n",
              "      <td>1869.0</td>\n",
              "      <td>0.0</td>\n",
              "      <td>136.0</td>\n",
              "      <td>0.0</td>\n",
              "      <td>0.0</td>\n",
              "      <td>Colal Curte</td>\n",
              "      <td>0444</td>\n",
              "      <td>Curte</td>\n",
              "    </tr>\n",
              "    <tr>\n",
              "      <th>...</th>\n",
              "      <td>...</td>\n",
              "      <td>...</td>\n",
              "      <td>...</td>\n",
              "      <td>...</td>\n",
              "      <td>...</td>\n",
              "      <td>...</td>\n",
              "      <td>...</td>\n",
              "      <td>...</td>\n",
              "      <td>...</td>\n",
              "      <td>...</td>\n",
              "      <td>...</td>\n",
              "      <td>...</td>\n",
              "      <td>...</td>\n",
              "      <td>...</td>\n",
              "      <td>...</td>\n",
              "    </tr>\n",
              "    <tr>\n",
              "      <th>4159</th>\n",
              "      <td>9025_01</td>\n",
              "      <td>__</td>\n",
              "      <td>False</td>\n",
              "      <td>G/1454/S</td>\n",
              "      <td>TRAPPIST-1e</td>\n",
              "      <td>42.0</td>\n",
              "      <td>False</td>\n",
              "      <td>0.0</td>\n",
              "      <td>0.0</td>\n",
              "      <td>28.0</td>\n",
              "      <td>726.0</td>\n",
              "      <td>0.0</td>\n",
              "      <td>Ale Whitersone</td>\n",
              "      <td>9025</td>\n",
              "      <td>Whitersone</td>\n",
              "    </tr>\n",
              "    <tr>\n",
              "      <th>4160</th>\n",
              "      <td>9025_02</td>\n",
              "      <td>Earth</td>\n",
              "      <td>True</td>\n",
              "      <td>G/1454/S</td>\n",
              "      <td>TRAPPIST-1e</td>\n",
              "      <td>0.0</td>\n",
              "      <td>False</td>\n",
              "      <td>0.0</td>\n",
              "      <td>0.0</td>\n",
              "      <td>0.0</td>\n",
              "      <td>0.0</td>\n",
              "      <td>0.0</td>\n",
              "      <td>Philia Whitersone</td>\n",
              "      <td>9025</td>\n",
              "      <td>Whitersone</td>\n",
              "    </tr>\n",
              "    <tr>\n",
              "      <th>4213</th>\n",
              "      <td>9146_01</td>\n",
              "      <td>__</td>\n",
              "      <td>False</td>\n",
              "      <td>F/1874/P</td>\n",
              "      <td>TRAPPIST-1e</td>\n",
              "      <td>52.0</td>\n",
              "      <td>False</td>\n",
              "      <td>994.0</td>\n",
              "      <td>0.0</td>\n",
              "      <td>173.0</td>\n",
              "      <td>0.0</td>\n",
              "      <td>24.0</td>\n",
              "      <td>Rionk Sache</td>\n",
              "      <td>9146</td>\n",
              "      <td>Sache</td>\n",
              "    </tr>\n",
              "    <tr>\n",
              "      <th>4214</th>\n",
              "      <td>9146_02</td>\n",
              "      <td>Mars</td>\n",
              "      <td>False</td>\n",
              "      <td>D/293/P</td>\n",
              "      <td>TRAPPIST-1e</td>\n",
              "      <td>28.0</td>\n",
              "      <td>False</td>\n",
              "      <td>1014.0</td>\n",
              "      <td>81.0</td>\n",
              "      <td>1.0</td>\n",
              "      <td>85.0</td>\n",
              "      <td>1.0</td>\n",
              "      <td>Cran Sache</td>\n",
              "      <td>9146</td>\n",
              "      <td>Sache</td>\n",
              "    </tr>\n",
              "    <tr>\n",
              "      <th>4215</th>\n",
              "      <td>9146_03</td>\n",
              "      <td>Mars</td>\n",
              "      <td>True</td>\n",
              "      <td>F/1874/P</td>\n",
              "      <td>55 Cancri e</td>\n",
              "      <td>15.0</td>\n",
              "      <td>False</td>\n",
              "      <td>0.0</td>\n",
              "      <td>0.0</td>\n",
              "      <td>0.0</td>\n",
              "      <td>0.0</td>\n",
              "      <td>0.0</td>\n",
              "      <td>Cheeet Sache</td>\n",
              "      <td>9146</td>\n",
              "      <td>Sache</td>\n",
              "    </tr>\n",
              "  </tbody>\n",
              "</table>\n",
              "<p>339 rows × 15 columns</p>\n",
              "</div>"
            ]
          },
          "metadata": {},
          "execution_count": 301
        }
      ]
    },
    {
      "cell_type": "code",
      "source": [
        "dff1['HomePlanet'].value_counts()"
      ],
      "metadata": {
        "colab": {
          "base_uri": "https://localhost:8080/"
        },
        "id": "_hjuasWJfy6o",
        "outputId": "2e53666f-113d-43ab-9816-617e33299ca4"
      },
      "execution_count": null,
      "outputs": [
        {
          "output_type": "execute_result",
          "data": {
            "text/plain": [
              "Earth     2292\n",
              "Europa    2071\n",
              "Mars      1329\n",
              "__         133\n",
              "Name: HomePlanet, dtype: int64"
            ]
          },
          "metadata": {},
          "execution_count": 405
        }
      ]
    },
    {
      "cell_type": "code",
      "source": [
        "mask2 = dff.groupby (['LN' , 'NID']).aggregate (lambda x : tuple (x.unique()))['Cabin'].apply (lambda x : len(x) >1 )"
      ],
      "metadata": {
        "id": "JvAVv_ibwxd4"
      },
      "execution_count": null,
      "outputs": []
    },
    {
      "cell_type": "code",
      "source": [
        "len (dff.groupby (['LN' , 'NID']).aggregate (lambda x : tuple (x.unique()))['Cabin'][mask2] )/ len (dff.groupby (['LN' , 'NID']).aggregate (lambda x : tuple (x.unique()))['Cabin'])"
      ],
      "metadata": {
        "colab": {
          "base_uri": "https://localhost:8080/"
        },
        "id": "Py4FncULPQyD",
        "outputId": "054f3edd-45d7-4770-e808-350746419664"
      },
      "execution_count": null,
      "outputs": [
        {
          "output_type": "execute_result",
          "data": {
            "text/plain": [
              "0.07357280960618703"
            ]
          },
          "metadata": {},
          "execution_count": 149
        }
      ]
    },
    {
      "cell_type": "code",
      "source": [
        "dff.groupby (['LN' , 'NID']).aggregate (lambda x : tuple (x.unique()))['Cabin'][mask2] # семьи могут жить в разных каютах, но если также совпадает NID, то 92%, что одна фамилия"
      ],
      "metadata": {
        "colab": {
          "base_uri": "https://localhost:8080/"
        },
        "id": "-9Cc07IfO76b",
        "outputId": "28a921a7-4baf-468d-b668-c4d2058744a6"
      },
      "execution_count": null,
      "outputs": [
        {
          "output_type": "execute_result",
          "data": {
            "text/plain": [
              "LN           NID \n",
              "Acobson      6905         (F/1322/S, E/460/S)\n",
              "Acobsond     5873          (G/952/P, E/372/P)\n",
              "Adavisons    1425          (F/282/P, G/220/P)\n",
              "Airdring     3580          (D/114/S, B/138/S)\n",
              "Alfordonard  1221           (G/188/S, E/87/S)\n",
              "                               ...           \n",
              "Yanton       5127          (G/837/S, F/983/S)\n",
              "Yorkland     0091            (G/16/S, F/20/S)\n",
              "             0461    (E/27/S, F/85/S, G/66/S)\n",
              "             0618           (G/95/P, F/131/P)\n",
              "Youngrayes   4761          (G/770/P, F/967/P)\n",
              "Name: Cabin, Length: 723, dtype: object"
            ]
          },
          "metadata": {},
          "execution_count": 150
        }
      ]
    },
    {
      "cell_type": "code",
      "source": [
        "dff.groupby (['LN' , 'NID']).aggregate (lambda x : tuple (x.unique()))['Cabin']"
      ],
      "metadata": {
        "colab": {
          "base_uri": "https://localhost:8080/"
        },
        "id": "ZBdwviHDQIQM",
        "outputId": "14ac33a4-e0c0-4788-c3f0-95c030ac33ad"
      },
      "execution_count": null,
      "outputs": [
        {
          "output_type": "execute_result",
          "data": {
            "text/plain": [
              "LN          NID \n",
              "Acobson     4220             (E/263/P,)\n",
              "            4353             (F/817/S,)\n",
              "            6905    (F/1322/S, E/460/S)\n",
              "Acobsond    0991             (G/152/S,)\n",
              "            1459             (F/281/S,)\n",
              "                           ...         \n",
              "Youngrayes  0960              (E/72/S,)\n",
              "            2264             (F/442/S,)\n",
              "            2369             (F/484/P,)\n",
              "            4761     (G/770/P, F/967/P)\n",
              "            5866            (F/1211/P,)\n",
              "Name: Cabin, Length: 9827, dtype: object"
            ]
          },
          "metadata": {},
          "execution_count": 151
        }
      ]
    },
    {
      "cell_type": "code",
      "source": [
        "dff1.groupby ('NID' ).filter (lambda x : '__' in tuple (x['LN'].unique()) )"
      ],
      "metadata": {
        "colab": {
          "base_uri": "https://localhost:8080/",
          "height": 424
        },
        "id": "BMQPiKjUG8fi",
        "outputId": "55ba62e6-17a5-4bfc-e6f4-3a9650ed7e29"
      },
      "execution_count": null,
      "outputs": [
        {
          "output_type": "execute_result",
          "data": {
            "text/plain": [
              "     PassengerId HomePlanet CryoSleep     Cabin    Destination   Age    VIP  \\\n",
              "58       0064_01       Mars      True    F/14/S    TRAPPIST-1e  15.0  False   \n",
              "59       0064_02         __      True     E/3/S    TRAPPIST-1e  33.0  False   \n",
              "75       0082_01       Mars     False    F/16/P    TRAPPIST-1e  42.0  False   \n",
              "76       0082_02       Mars      True    F/16/P    TRAPPIST-1e   2.0  False   \n",
              "77       0082_03       Mars     False    F/16/P    TRAPPIST-1e   8.0  False   \n",
              "...          ...        ...       ...       ...            ...   ...    ...   \n",
              "4048     8800_04      Earth     False  G/1423/P    TRAPPIST-1e  19.0  False   \n",
              "4049     8800_05      Earth     False  G/1423/P  PSO J318.5-22  12.0  False   \n",
              "4073     8873_01     Europa     False    A/93/P    TRAPPIST-1e  25.0  False   \n",
              "4074     8873_02     Europa     False    A/93/P    TRAPPIST-1e  36.0    NaN   \n",
              "4075     8873_03     Europa      True    A/93/P    55 Cancri e  58.0  False   \n",
              "\n",
              "      RoomService  FoodCourt  ShoppingMall     Spa  VRDeck             Name  \\\n",
              "58            0.0        0.0           0.0     0.0     0.0              NaN   \n",
              "59            0.0        0.0           NaN     0.0     0.0      Colatz Keen   \n",
              "75         7406.0        0.0           0.0     0.0     0.0      Totse Datte   \n",
              "76            0.0        0.0           0.0     0.0     0.0     Eaturs Datte   \n",
              "77            0.0        0.0           0.0     0.0     0.0              NaN   \n",
              "...           ...        ...           ...     ...     ...              ...   \n",
              "4048         13.0      905.0         861.0     0.0     0.0     Carley Nolds   \n",
              "4049          0.0        0.0           0.0     0.0     0.0     Carona Nolds   \n",
              "4073          0.0        0.0           0.0     0.0     0.0    Altar Unregul   \n",
              "4074          0.0     3973.0          18.0  5188.0   543.0              NaN   \n",
              "4075          0.0        0.0           0.0     0.0     0.0  Syrmion Unregul   \n",
              "\n",
              "       NID       LN  \n",
              "58    0064       __  \n",
              "59    0064     Keen  \n",
              "75    0082    Datte  \n",
              "76    0082    Datte  \n",
              "77    0082       __  \n",
              "...    ...      ...  \n",
              "4048  8800    Nolds  \n",
              "4049  8800    Nolds  \n",
              "4073  8873  Unregul  \n",
              "4074  8873       __  \n",
              "4075  8873  Unregul  \n",
              "\n",
              "[443 rows x 15 columns]"
            ],
            "text/html": [
              "<div>\n",
              "<style scoped>\n",
              "    .dataframe tbody tr th:only-of-type {\n",
              "        vertical-align: middle;\n",
              "    }\n",
              "\n",
              "    .dataframe tbody tr th {\n",
              "        vertical-align: top;\n",
              "    }\n",
              "\n",
              "    .dataframe thead th {\n",
              "        text-align: right;\n",
              "    }\n",
              "</style>\n",
              "<table border=\"1\" class=\"dataframe\">\n",
              "  <thead>\n",
              "    <tr style=\"text-align: right;\">\n",
              "      <th></th>\n",
              "      <th>PassengerId</th>\n",
              "      <th>HomePlanet</th>\n",
              "      <th>CryoSleep</th>\n",
              "      <th>Cabin</th>\n",
              "      <th>Destination</th>\n",
              "      <th>Age</th>\n",
              "      <th>VIP</th>\n",
              "      <th>RoomService</th>\n",
              "      <th>FoodCourt</th>\n",
              "      <th>ShoppingMall</th>\n",
              "      <th>Spa</th>\n",
              "      <th>VRDeck</th>\n",
              "      <th>Name</th>\n",
              "      <th>NID</th>\n",
              "      <th>LN</th>\n",
              "    </tr>\n",
              "  </thead>\n",
              "  <tbody>\n",
              "    <tr>\n",
              "      <th>58</th>\n",
              "      <td>0064_01</td>\n",
              "      <td>Mars</td>\n",
              "      <td>True</td>\n",
              "      <td>F/14/S</td>\n",
              "      <td>TRAPPIST-1e</td>\n",
              "      <td>15.0</td>\n",
              "      <td>False</td>\n",
              "      <td>0.0</td>\n",
              "      <td>0.0</td>\n",
              "      <td>0.0</td>\n",
              "      <td>0.0</td>\n",
              "      <td>0.0</td>\n",
              "      <td>NaN</td>\n",
              "      <td>0064</td>\n",
              "      <td>__</td>\n",
              "    </tr>\n",
              "    <tr>\n",
              "      <th>59</th>\n",
              "      <td>0064_02</td>\n",
              "      <td>__</td>\n",
              "      <td>True</td>\n",
              "      <td>E/3/S</td>\n",
              "      <td>TRAPPIST-1e</td>\n",
              "      <td>33.0</td>\n",
              "      <td>False</td>\n",
              "      <td>0.0</td>\n",
              "      <td>0.0</td>\n",
              "      <td>NaN</td>\n",
              "      <td>0.0</td>\n",
              "      <td>0.0</td>\n",
              "      <td>Colatz Keen</td>\n",
              "      <td>0064</td>\n",
              "      <td>Keen</td>\n",
              "    </tr>\n",
              "    <tr>\n",
              "      <th>75</th>\n",
              "      <td>0082_01</td>\n",
              "      <td>Mars</td>\n",
              "      <td>False</td>\n",
              "      <td>F/16/P</td>\n",
              "      <td>TRAPPIST-1e</td>\n",
              "      <td>42.0</td>\n",
              "      <td>False</td>\n",
              "      <td>7406.0</td>\n",
              "      <td>0.0</td>\n",
              "      <td>0.0</td>\n",
              "      <td>0.0</td>\n",
              "      <td>0.0</td>\n",
              "      <td>Totse Datte</td>\n",
              "      <td>0082</td>\n",
              "      <td>Datte</td>\n",
              "    </tr>\n",
              "    <tr>\n",
              "      <th>76</th>\n",
              "      <td>0082_02</td>\n",
              "      <td>Mars</td>\n",
              "      <td>True</td>\n",
              "      <td>F/16/P</td>\n",
              "      <td>TRAPPIST-1e</td>\n",
              "      <td>2.0</td>\n",
              "      <td>False</td>\n",
              "      <td>0.0</td>\n",
              "      <td>0.0</td>\n",
              "      <td>0.0</td>\n",
              "      <td>0.0</td>\n",
              "      <td>0.0</td>\n",
              "      <td>Eaturs Datte</td>\n",
              "      <td>0082</td>\n",
              "      <td>Datte</td>\n",
              "    </tr>\n",
              "    <tr>\n",
              "      <th>77</th>\n",
              "      <td>0082_03</td>\n",
              "      <td>Mars</td>\n",
              "      <td>False</td>\n",
              "      <td>F/16/P</td>\n",
              "      <td>TRAPPIST-1e</td>\n",
              "      <td>8.0</td>\n",
              "      <td>False</td>\n",
              "      <td>0.0</td>\n",
              "      <td>0.0</td>\n",
              "      <td>0.0</td>\n",
              "      <td>0.0</td>\n",
              "      <td>0.0</td>\n",
              "      <td>NaN</td>\n",
              "      <td>0082</td>\n",
              "      <td>__</td>\n",
              "    </tr>\n",
              "    <tr>\n",
              "      <th>...</th>\n",
              "      <td>...</td>\n",
              "      <td>...</td>\n",
              "      <td>...</td>\n",
              "      <td>...</td>\n",
              "      <td>...</td>\n",
              "      <td>...</td>\n",
              "      <td>...</td>\n",
              "      <td>...</td>\n",
              "      <td>...</td>\n",
              "      <td>...</td>\n",
              "      <td>...</td>\n",
              "      <td>...</td>\n",
              "      <td>...</td>\n",
              "      <td>...</td>\n",
              "      <td>...</td>\n",
              "    </tr>\n",
              "    <tr>\n",
              "      <th>4048</th>\n",
              "      <td>8800_04</td>\n",
              "      <td>Earth</td>\n",
              "      <td>False</td>\n",
              "      <td>G/1423/P</td>\n",
              "      <td>TRAPPIST-1e</td>\n",
              "      <td>19.0</td>\n",
              "      <td>False</td>\n",
              "      <td>13.0</td>\n",
              "      <td>905.0</td>\n",
              "      <td>861.0</td>\n",
              "      <td>0.0</td>\n",
              "      <td>0.0</td>\n",
              "      <td>Carley Nolds</td>\n",
              "      <td>8800</td>\n",
              "      <td>Nolds</td>\n",
              "    </tr>\n",
              "    <tr>\n",
              "      <th>4049</th>\n",
              "      <td>8800_05</td>\n",
              "      <td>Earth</td>\n",
              "      <td>False</td>\n",
              "      <td>G/1423/P</td>\n",
              "      <td>PSO J318.5-22</td>\n",
              "      <td>12.0</td>\n",
              "      <td>False</td>\n",
              "      <td>0.0</td>\n",
              "      <td>0.0</td>\n",
              "      <td>0.0</td>\n",
              "      <td>0.0</td>\n",
              "      <td>0.0</td>\n",
              "      <td>Carona Nolds</td>\n",
              "      <td>8800</td>\n",
              "      <td>Nolds</td>\n",
              "    </tr>\n",
              "    <tr>\n",
              "      <th>4073</th>\n",
              "      <td>8873_01</td>\n",
              "      <td>Europa</td>\n",
              "      <td>False</td>\n",
              "      <td>A/93/P</td>\n",
              "      <td>TRAPPIST-1e</td>\n",
              "      <td>25.0</td>\n",
              "      <td>False</td>\n",
              "      <td>0.0</td>\n",
              "      <td>0.0</td>\n",
              "      <td>0.0</td>\n",
              "      <td>0.0</td>\n",
              "      <td>0.0</td>\n",
              "      <td>Altar Unregul</td>\n",
              "      <td>8873</td>\n",
              "      <td>Unregul</td>\n",
              "    </tr>\n",
              "    <tr>\n",
              "      <th>4074</th>\n",
              "      <td>8873_02</td>\n",
              "      <td>Europa</td>\n",
              "      <td>False</td>\n",
              "      <td>A/93/P</td>\n",
              "      <td>TRAPPIST-1e</td>\n",
              "      <td>36.0</td>\n",
              "      <td>NaN</td>\n",
              "      <td>0.0</td>\n",
              "      <td>3973.0</td>\n",
              "      <td>18.0</td>\n",
              "      <td>5188.0</td>\n",
              "      <td>543.0</td>\n",
              "      <td>NaN</td>\n",
              "      <td>8873</td>\n",
              "      <td>__</td>\n",
              "    </tr>\n",
              "    <tr>\n",
              "      <th>4075</th>\n",
              "      <td>8873_03</td>\n",
              "      <td>Europa</td>\n",
              "      <td>True</td>\n",
              "      <td>A/93/P</td>\n",
              "      <td>55 Cancri e</td>\n",
              "      <td>58.0</td>\n",
              "      <td>False</td>\n",
              "      <td>0.0</td>\n",
              "      <td>0.0</td>\n",
              "      <td>0.0</td>\n",
              "      <td>0.0</td>\n",
              "      <td>0.0</td>\n",
              "      <td>Syrmion Unregul</td>\n",
              "      <td>8873</td>\n",
              "      <td>Unregul</td>\n",
              "    </tr>\n",
              "  </tbody>\n",
              "</table>\n",
              "<p>443 rows × 15 columns</p>\n",
              "</div>"
            ]
          },
          "metadata": {},
          "execution_count": 303
        }
      ]
    },
    {
      "cell_type": "code",
      "source": [
        "dff[dff['NID'] == '6383'] "
      ],
      "metadata": {
        "colab": {
          "base_uri": "https://localhost:8080/",
          "height": 143
        },
        "id": "BIdUQxnlHylp",
        "outputId": "bb3673a2-76c5-483d-af9b-f66bb412aae3"
      },
      "execution_count": null,
      "outputs": [
        {
          "output_type": "execute_result",
          "data": {
            "text/plain": [
              "     PassengerId HomePlanet CryoSleep     Cabin    Destination   Age    VIP  \\\n",
              "2901     6383_01      Earth      True  G/1035/S    TRAPPIST-1e   0.0  False   \n",
              "2902     6383_02      Earth     False  G/1035/S    55 Cancri e  12.0  False   \n",
              "2903     6383_03      Earth     False  G/1035/S  PSO J318.5-22  37.0  False   \n",
              "\n",
              "      RoomService  FoodCourt  ShoppingMall  Spa  VRDeck              Name  \\\n",
              "2901          0.0        0.0           NaN  0.0     0.0               NaN   \n",
              "2902          0.0        0.0           NaN  0.0     0.0  Kendre Sterreray   \n",
              "2903         18.0        0.0         646.0  6.0   102.0               NaN   \n",
              "\n",
              "       NID         LN  \n",
              "2901  6383         __  \n",
              "2902  6383  Sterreray  \n",
              "2903  6383         __  "
            ],
            "text/html": [
              "<div>\n",
              "<style scoped>\n",
              "    .dataframe tbody tr th:only-of-type {\n",
              "        vertical-align: middle;\n",
              "    }\n",
              "\n",
              "    .dataframe tbody tr th {\n",
              "        vertical-align: top;\n",
              "    }\n",
              "\n",
              "    .dataframe thead th {\n",
              "        text-align: right;\n",
              "    }\n",
              "</style>\n",
              "<table border=\"1\" class=\"dataframe\">\n",
              "  <thead>\n",
              "    <tr style=\"text-align: right;\">\n",
              "      <th></th>\n",
              "      <th>PassengerId</th>\n",
              "      <th>HomePlanet</th>\n",
              "      <th>CryoSleep</th>\n",
              "      <th>Cabin</th>\n",
              "      <th>Destination</th>\n",
              "      <th>Age</th>\n",
              "      <th>VIP</th>\n",
              "      <th>RoomService</th>\n",
              "      <th>FoodCourt</th>\n",
              "      <th>ShoppingMall</th>\n",
              "      <th>Spa</th>\n",
              "      <th>VRDeck</th>\n",
              "      <th>Name</th>\n",
              "      <th>NID</th>\n",
              "      <th>LN</th>\n",
              "    </tr>\n",
              "  </thead>\n",
              "  <tbody>\n",
              "    <tr>\n",
              "      <th>2901</th>\n",
              "      <td>6383_01</td>\n",
              "      <td>Earth</td>\n",
              "      <td>True</td>\n",
              "      <td>G/1035/S</td>\n",
              "      <td>TRAPPIST-1e</td>\n",
              "      <td>0.0</td>\n",
              "      <td>False</td>\n",
              "      <td>0.0</td>\n",
              "      <td>0.0</td>\n",
              "      <td>NaN</td>\n",
              "      <td>0.0</td>\n",
              "      <td>0.0</td>\n",
              "      <td>NaN</td>\n",
              "      <td>6383</td>\n",
              "      <td>__</td>\n",
              "    </tr>\n",
              "    <tr>\n",
              "      <th>2902</th>\n",
              "      <td>6383_02</td>\n",
              "      <td>Earth</td>\n",
              "      <td>False</td>\n",
              "      <td>G/1035/S</td>\n",
              "      <td>55 Cancri e</td>\n",
              "      <td>12.0</td>\n",
              "      <td>False</td>\n",
              "      <td>0.0</td>\n",
              "      <td>0.0</td>\n",
              "      <td>NaN</td>\n",
              "      <td>0.0</td>\n",
              "      <td>0.0</td>\n",
              "      <td>Kendre Sterreray</td>\n",
              "      <td>6383</td>\n",
              "      <td>Sterreray</td>\n",
              "    </tr>\n",
              "    <tr>\n",
              "      <th>2903</th>\n",
              "      <td>6383_03</td>\n",
              "      <td>Earth</td>\n",
              "      <td>False</td>\n",
              "      <td>G/1035/S</td>\n",
              "      <td>PSO J318.5-22</td>\n",
              "      <td>37.0</td>\n",
              "      <td>False</td>\n",
              "      <td>18.0</td>\n",
              "      <td>0.0</td>\n",
              "      <td>646.0</td>\n",
              "      <td>6.0</td>\n",
              "      <td>102.0</td>\n",
              "      <td>NaN</td>\n",
              "      <td>6383</td>\n",
              "      <td>__</td>\n",
              "    </tr>\n",
              "  </tbody>\n",
              "</table>\n",
              "</div>"
            ]
          },
          "metadata": {},
          "execution_count": 304
        }
      ]
    },
    {
      "cell_type": "code",
      "source": [
        "dff1[dff1['NID'] == '6383'] "
      ],
      "metadata": {
        "colab": {
          "base_uri": "https://localhost:8080/",
          "height": 143
        },
        "id": "b-ZhYcC3Im37",
        "outputId": "e6b1f0ea-5ff0-46c9-ff05-c66e8c3e6b46"
      },
      "execution_count": null,
      "outputs": [
        {
          "output_type": "execute_result",
          "data": {
            "text/plain": [
              "     PassengerId HomePlanet CryoSleep     Cabin    Destination   Age    VIP  \\\n",
              "2901     6383_01      Earth      True  G/1035/S    TRAPPIST-1e   0.0  False   \n",
              "2902     6383_02      Earth     False  G/1035/S    55 Cancri e  12.0  False   \n",
              "2903     6383_03      Earth     False  G/1035/S  PSO J318.5-22  37.0  False   \n",
              "\n",
              "      RoomService  FoodCourt  ShoppingMall  Spa  VRDeck              Name  \\\n",
              "2901          0.0        0.0           NaN  0.0     0.0               NaN   \n",
              "2902          0.0        0.0           NaN  0.0     0.0  Kendre Sterreray   \n",
              "2903         18.0        0.0         646.0  6.0   102.0               NaN   \n",
              "\n",
              "       NID         LN  \n",
              "2901  6383         __  \n",
              "2902  6383  Sterreray  \n",
              "2903  6383         __  "
            ],
            "text/html": [
              "<div>\n",
              "<style scoped>\n",
              "    .dataframe tbody tr th:only-of-type {\n",
              "        vertical-align: middle;\n",
              "    }\n",
              "\n",
              "    .dataframe tbody tr th {\n",
              "        vertical-align: top;\n",
              "    }\n",
              "\n",
              "    .dataframe thead th {\n",
              "        text-align: right;\n",
              "    }\n",
              "</style>\n",
              "<table border=\"1\" class=\"dataframe\">\n",
              "  <thead>\n",
              "    <tr style=\"text-align: right;\">\n",
              "      <th></th>\n",
              "      <th>PassengerId</th>\n",
              "      <th>HomePlanet</th>\n",
              "      <th>CryoSleep</th>\n",
              "      <th>Cabin</th>\n",
              "      <th>Destination</th>\n",
              "      <th>Age</th>\n",
              "      <th>VIP</th>\n",
              "      <th>RoomService</th>\n",
              "      <th>FoodCourt</th>\n",
              "      <th>ShoppingMall</th>\n",
              "      <th>Spa</th>\n",
              "      <th>VRDeck</th>\n",
              "      <th>Name</th>\n",
              "      <th>NID</th>\n",
              "      <th>LN</th>\n",
              "    </tr>\n",
              "  </thead>\n",
              "  <tbody>\n",
              "    <tr>\n",
              "      <th>2901</th>\n",
              "      <td>6383_01</td>\n",
              "      <td>Earth</td>\n",
              "      <td>True</td>\n",
              "      <td>G/1035/S</td>\n",
              "      <td>TRAPPIST-1e</td>\n",
              "      <td>0.0</td>\n",
              "      <td>False</td>\n",
              "      <td>0.0</td>\n",
              "      <td>0.0</td>\n",
              "      <td>NaN</td>\n",
              "      <td>0.0</td>\n",
              "      <td>0.0</td>\n",
              "      <td>NaN</td>\n",
              "      <td>6383</td>\n",
              "      <td>__</td>\n",
              "    </tr>\n",
              "    <tr>\n",
              "      <th>2902</th>\n",
              "      <td>6383_02</td>\n",
              "      <td>Earth</td>\n",
              "      <td>False</td>\n",
              "      <td>G/1035/S</td>\n",
              "      <td>55 Cancri e</td>\n",
              "      <td>12.0</td>\n",
              "      <td>False</td>\n",
              "      <td>0.0</td>\n",
              "      <td>0.0</td>\n",
              "      <td>NaN</td>\n",
              "      <td>0.0</td>\n",
              "      <td>0.0</td>\n",
              "      <td>Kendre Sterreray</td>\n",
              "      <td>6383</td>\n",
              "      <td>Sterreray</td>\n",
              "    </tr>\n",
              "    <tr>\n",
              "      <th>2903</th>\n",
              "      <td>6383_03</td>\n",
              "      <td>Earth</td>\n",
              "      <td>False</td>\n",
              "      <td>G/1035/S</td>\n",
              "      <td>PSO J318.5-22</td>\n",
              "      <td>37.0</td>\n",
              "      <td>False</td>\n",
              "      <td>18.0</td>\n",
              "      <td>0.0</td>\n",
              "      <td>646.0</td>\n",
              "      <td>6.0</td>\n",
              "      <td>102.0</td>\n",
              "      <td>NaN</td>\n",
              "      <td>6383</td>\n",
              "      <td>__</td>\n",
              "    </tr>\n",
              "  </tbody>\n",
              "</table>\n",
              "</div>"
            ]
          },
          "metadata": {},
          "execution_count": 305
        }
      ]
    },
    {
      "cell_type": "code",
      "source": [
        "df.groupby (['LN' , 'NID']).mean ()['Transported'].value_counts() # если фамилии и NID совпадают в 90% случаях (на трейне) можно точно предсказать метку класса"
      ],
      "metadata": {
        "colab": {
          "base_uri": "https://localhost:8080/"
        },
        "id": "vl5DqYj3R4sU",
        "outputId": "eb48bf30-b8aa-4a9a-c649-a89ffa99e1d6"
      },
      "execution_count": null,
      "outputs": [
        {
          "output_type": "execute_result",
          "data": {
            "text/plain": [
              "0.000000    3057\n",
              "1.000000    2806\n",
              "0.500000     426\n",
              "0.666667     123\n",
              "0.333333      81\n",
              "0.750000      25\n",
              "0.250000      13\n",
              "0.800000      10\n",
              "0.600000      10\n",
              "0.400000       7\n",
              "0.833333       5\n",
              "0.200000       5\n",
              "0.571429       4\n",
              "0.428571       4\n",
              "0.166667       3\n",
              "0.285714       3\n",
              "0.125000       1\n",
              "0.714286       1\n",
              "0.375000       1\n",
              "0.857143       1\n",
              "0.625000       1\n",
              "Name: Transported, dtype: int64"
            ]
          },
          "metadata": {},
          "execution_count": 174
        }
      ]
    },
    {
      "cell_type": "code",
      "source": [
        "df.groupby('LN').filter (lambda x : x['LN'].count() ==1)['Transported'].mean() # шансы одиночек выжить побольше (но это без учета незаполненных имен, надо повторить после заполнения)"
      ],
      "metadata": {
        "colab": {
          "base_uri": "https://localhost:8080/"
        },
        "id": "qK0e31PcLu37",
        "outputId": "d7986cce-3e37-4dfb-9099-8e9fdc101623"
      },
      "execution_count": null,
      "outputs": [
        {
          "output_type": "execute_result",
          "data": {
            "text/plain": [
              "0.5837696335078534"
            ]
          },
          "metadata": {},
          "execution_count": 213
        }
      ]
    },
    {
      "cell_type": "code",
      "source": [
        "len (dff['LN'].unique())"
      ],
      "metadata": {
        "colab": {
          "base_uri": "https://localhost:8080/"
        },
        "id": "lxqc3B3OQjSP",
        "outputId": "dc7c0bd3-9f2c-44ff-f51c-62ccd516d98c"
      },
      "execution_count": null,
      "outputs": [
        {
          "output_type": "execute_result",
          "data": {
            "text/plain": [
              "2407"
            ]
          },
          "metadata": {},
          "execution_count": 178
        }
      ]
    },
    {
      "cell_type": "code",
      "source": [
        ""
      ],
      "metadata": {
        "id": "W9e1XXks4rjn"
      },
      "execution_count": null,
      "outputs": []
    },
    {
      "cell_type": "markdown",
      "source": [
        "## Итак, восстановим пропущенные значения:  \n",
        "- LN (используя связку NID и Cabin)\n",
        "-  Home (используя сначала NID, потом LN )\n",
        "- Cabin (используя связку NID и LN)\n",
        "\n",
        "\n",
        "Признак NID закодируем Catboost Encoder /Target Encoders    \n",
        "признак Name оставим и закодируем BinVect  \n",
        "Поробуем признак - одиночка\n",
        "\n",
        "Ч2: \n",
        "- заполняем Cryo исходя из затрат (есть затраты == False)\n",
        "- в группе неспящих больше 21 года, пропуски в затратах заполняем единицами\n",
        "- пробуем ввести бинарный признак трат (sum_pc  > 0) \n",
        "- пробуем сбросить (а не заполнять imputerom неочевидные признаки)\n"
      ],
      "metadata": {
        "id": "xZfAl-G3Qkm5"
      }
    },
    {
      "cell_type": "markdown",
      "source": [
        "ч.3 пробуем заполнить пропуски на основе гипотез и вероятнстых моделей "
      ],
      "metadata": {
        "id": "YHFmGaUyrPRq"
      }
    },
    {
      "cell_type": "code",
      "source": [
        "dff.isna().sum()"
      ],
      "metadata": {
        "colab": {
          "base_uri": "https://localhost:8080/"
        },
        "id": "O1lAr7vhhLUm",
        "outputId": "b7236b6f-ddfb-4a2b-a7ef-f4e1451659ec"
      },
      "execution_count": null,
      "outputs": [
        {
          "output_type": "execute_result",
          "data": {
            "text/plain": [
              "PassengerId       0\n",
              "HomePlanet      288\n",
              "CryoSleep       310\n",
              "Cabin           299\n",
              "Destination     274\n",
              "Age             270\n",
              "VIP             296\n",
              "RoomService     263\n",
              "FoodCourt       289\n",
              "ShoppingMall    306\n",
              "Spa             284\n",
              "VRDeck          268\n",
              "Name            294\n",
              "NID               0\n",
              "LN              294\n",
              "dtype: int64"
            ]
          },
          "metadata": {},
          "execution_count": 280
        }
      ]
    },
    {
      "cell_type": "code",
      "source": [
        "dff = dff.drop (['PassengerId' , 'Name'] , axis=1)"
      ],
      "metadata": {
        "id": "-s8zFI5JlHll"
      },
      "execution_count": null,
      "outputs": []
    },
    {
      "cell_type": "code",
      "source": [
        "dff['Destination'].value_counts()"
      ],
      "metadata": {
        "colab": {
          "base_uri": "https://localhost:8080/"
        },
        "id": "KFYecxNOrAz3",
        "outputId": "d3ed72b8-c17d-43b7-abf1-2f7bd019d112"
      },
      "execution_count": null,
      "outputs": [
        {
          "output_type": "execute_result",
          "data": {
            "text/plain": [
              "TRAPPIST-1e      8871\n",
              "55 Cancri e      2641\n",
              "PSO J318.5-22    1184\n",
              "Name: Destination, dtype: int64"
            ]
          },
          "metadata": {},
          "execution_count": 1485
        }
      ]
    },
    {
      "cell_type": "code",
      "source": [
        "# сначала заполняем VIP он малозначим и веротяность 90%\n",
        "dff['VIP'] = dff['VIP'].fillna(False)\n",
        "#dff['Destination'] = dff['Destination'].fillna('TRAPPIST-1e')"
      ],
      "metadata": {
        "id": "SMcVzGsVkFos"
      },
      "execution_count": null,
      "outputs": []
    },
    {
      "cell_type": "code",
      "source": [
        "# затем восстанавливаем 'HomePlanet' ,'Cabin' , 'LN' \n",
        "dff[['HomePlanet' ,'Cabin' , 'LN' ]] = dff[['HomePlanet' ,'Cabin' , 'LN' ]].fillna ('__')"
      ],
      "metadata": {
        "id": "oCsz_IyNkVxx"
      },
      "execution_count": null,
      "outputs": []
    },
    {
      "cell_type": "code",
      "source": [
        "#ln = dff['LN'].unique()\n",
        "f = 'LN'\n",
        "tdff = dff[dff[f] == '__' ]\n",
        "nid = tdff['NID'].unique()"
      ],
      "metadata": {
        "id": "-ZtUcJ2rYe5q"
      },
      "execution_count": null,
      "outputs": []
    },
    {
      "cell_type": "code",
      "source": [
        "for n in nid:\n",
        " #   print (n)\n",
        "    if len (dff[dff['NID'] == n]) > 1 :\n",
        "      if dff[dff['NID'] == n][f].nunique() <3 :\n",
        "         dff[f].loc[dff['NID'] == n] = dff[dff['NID'] == n][f].apply ( lambda x :  dff[dff['NID'] == n][f].sort_values ().iloc[0])\n",
        "\n"
      ],
      "metadata": {
        "id": "PjepJebfdExJ"
      },
      "execution_count": null,
      "outputs": []
    },
    {
      "cell_type": "code",
      "source": [
        "f = 'Cabin'\n",
        "tdff = dff[dff[f] == '__' ]\n",
        "nid = tdff['NID'].unique()\n"
      ],
      "metadata": {
        "id": "FXtvNOZY2nyd"
      },
      "execution_count": null,
      "outputs": []
    },
    {
      "cell_type": "code",
      "source": [
        "for n in nid:\n",
        " #   print (n)\n",
        "    if len (dff[dff['NID'] == n]) > 1 :\n",
        "      if dff[dff['NID'] == n][f].nunique() <3 :\n",
        "         dff[f].loc[dff['NID'] == n] = dff[dff['NID'] == n][f].apply ( lambda x :  dff[dff['NID'] == n][f].sort_values ().iloc[0])\n",
        " #     else : \n",
        " #       print ('Error' , n)"
      ],
      "metadata": {
        "id": "uIqpUyT82i42"
      },
      "execution_count": null,
      "outputs": []
    },
    {
      "cell_type": "code",
      "source": [
        "f = 'HomePlanet'\n",
        "tdff = dff[dff[f] == '__' ]\n",
        "nid = tdff['LN'].unique()"
      ],
      "metadata": {
        "id": "s2TSassi_F6c"
      },
      "execution_count": null,
      "outputs": []
    },
    {
      "cell_type": "code",
      "source": [
        "for n in nid:\n",
        " #   print (n)\n",
        "    if len (dff[dff['LN'] == n]) > 1 :\n",
        "      if  dff[dff['LN'] == nid[0]][f].sort_values ().iloc[0] != '__' :\n",
        "         dff[f].loc[dff['LN'] == n] = dff[dff['LN'] == n][f].apply ( lambda x :  dff[dff['LN'] == n][f].sort_values ().iloc[0])\n",
        " #   else : \n",
        " #       print ('One' , n)"
      ],
      "metadata": {
        "id": "w8hacJnJ_HHG"
      },
      "execution_count": null,
      "outputs": []
    },
    {
      "cell_type": "code",
      "source": [
        "# теперь 'Cryo' "
      ],
      "metadata": {
        "id": "rKOfcqO0l5vz"
      },
      "execution_count": null,
      "outputs": []
    },
    {
      "cell_type": "code",
      "source": [
        "dff['s_pch1'] = dff['ShoppingMall'] + dff['FoodCourt'] + dff['RoomService'] + dff['Spa'] + dff['VRDeck']"
      ],
      "metadata": {
        "id": "xkeZw4DvnoGH"
      },
      "execution_count": null,
      "outputs": []
    },
    {
      "cell_type": "code",
      "source": [
        "dff['s_pch'] = dff.iloc[:, 6:11].sum(axis=1 )"
      ],
      "metadata": {
        "id": "3cm021Ktsbet"
      },
      "execution_count": null,
      "outputs": []
    },
    {
      "cell_type": "code",
      "source": [
        "mask = dff[dff['CryoSleep'].isna()]['s_pch'] >0 # фильтр по тем, кто тратил хоть что-то"
      ],
      "metadata": {
        "id": "HO-ljGcRpp_2"
      },
      "execution_count": null,
      "outputs": []
    },
    {
      "cell_type": "code",
      "source": [
        "ix1 = dff[dff['CryoSleep'].isna()][mask].index # их сразу записываекм в неспящие\n",
        "dff['CryoSleep'].loc[ix1] = False"
      ],
      "metadata": {
        "id": "HmX6ZxwJl-Ij"
      },
      "execution_count": null,
      "outputs": []
    },
    {
      "cell_type": "code",
      "source": [
        "dff['CryoSleep'].value_counts()"
      ],
      "metadata": {
        "colab": {
          "base_uri": "https://localhost:8080/"
        },
        "id": "L3mPsLgA1vat",
        "outputId": "e6fca915-ca25-478f-c90c-49005eb09231"
      },
      "execution_count": null,
      "outputs": [
        {
          "output_type": "execute_result",
          "data": {
            "text/plain": [
              "False    8253\n",
              "True     4581\n",
              "Name: CryoSleep, dtype: int64"
            ]
          },
          "metadata": {},
          "execution_count": 294
        }
      ]
    },
    {
      "cell_type": "code",
      "source": [
        "ix2 = dff[dff['CryoSleep'].isna()][(dff[dff['CryoSleep'].isna()]['Age'] > 21 ) &(dff[dff['CryoSleep'].isna()]['s_pch1'] ==0) ].index \n",
        "dff['CryoSleep'].loc[ix2] = True # ставим фильтр в пропущенном крио по тем, кто ничего не тратит и тем кому более 21 года, их записываем в спящие "
      ],
      "metadata": {
        "id": "u_UXokrjobN_"
      },
      "execution_count": null,
      "outputs": []
    },
    {
      "cell_type": "code",
      "source": [
        "# заполняем нулями пропуски трат у спящих\n",
        "dff_cr = dff[dff['CryoSleep']==True]\n",
        "ix3 =  dff_cr[dff_cr['RoomService'].isna()].index\n",
        "ix4 =  dff_cr[dff_cr['FoodCourt'].isna()].index\n",
        "ix5 =  dff_cr[dff_cr['ShoppingMall'].isna()].index\n",
        "ix6 = dff_cr[dff_cr['Spa'].isna()].index\n",
        "ix7 = dff_cr[dff_cr['VRDeck'].isna()].index\n",
        "dff['RoomService'].loc[ix3] = 0\n",
        "dff['FoodCourt'].loc[ix4] = 0\n",
        "dff['ShoppingMall'].loc[ix5] = 0\n",
        "dff['Spa'].loc[ix6] = 0\n",
        "dff['VRDeck'].loc[ix7] = 0"
      ],
      "metadata": {
        "id": "UWMu0ke8teSg"
      },
      "execution_count": null,
      "outputs": []
    },
    {
      "cell_type": "code",
      "source": [
        "df_pc = dff[  (dff['s_pch1'].isna()) & (dff['s_pch']!=0)]  # филтруем тех, кто тратит, но имеет пропуски в тратах, заполняем их 1 \n",
        "ix8 = df_pc[df_pc['RoomService'].isna()].index\n",
        "ix9 = df_pc[df_pc['FoodCourt'].isna()].index\n",
        "ix10 = df_pc[df_pc['ShoppingMall'].isna()].index\n",
        "ix11 = df_pc[df_pc['Spa'].isna()].index\n",
        "ix12 = df_pc[df_pc['VRDeck'].isna()].index\n",
        "dff['RoomService'].loc[ix8] = 1\n",
        "dff['FoodCourt'].loc[ix9] = 1\n",
        "dff['ShoppingMall'].loc[ix10] = 1\n",
        "dff['Spa'].loc[ix11] = 1\n",
        "dff['VRDeck'].loc[ix12] = 1\n"
      ],
      "metadata": {
        "id": "-IspPu2_3Vv5"
      },
      "execution_count": null,
      "outputs": []
    },
    {
      "cell_type": "code",
      "source": [
        "dff.isna().sum()"
      ],
      "metadata": {
        "colab": {
          "base_uri": "https://localhost:8080/"
        },
        "id": "dXPiZZZksC6q",
        "outputId": "12dd50eb-f106-493d-85e8-51345d244d7c"
      },
      "execution_count": null,
      "outputs": [
        {
          "output_type": "execute_result",
          "data": {
            "text/plain": [
              "HomePlanet         0\n",
              "CryoSleep         69\n",
              "Cabin              0\n",
              "Destination      274\n",
              "Age              270\n",
              "VIP                0\n",
              "RoomService       14\n",
              "FoodCourt         13\n",
              "ShoppingMall      15\n",
              "Spa               15\n",
              "VRDeck            34\n",
              "NID                0\n",
              "LN                 0\n",
              "s_pch1          1363\n",
              "s_pch              0\n",
              "dtype: int64"
            ]
          },
          "metadata": {},
          "execution_count": 299
        }
      ]
    },
    {
      "cell_type": "code",
      "source": [
        "# доразбираемся с числовыми признаками\n",
        "dff['s_pch1'] = dff['ShoppingMall'] + dff['FoodCourt'] + dff['RoomService'] + dff['Spa'] + dff['VRDeck']\n",
        "#dff[dff['s_pch1'].isna()]"
      ],
      "metadata": {
        "id": "CAsWTQnGsSTN"
      },
      "execution_count": null,
      "outputs": []
    },
    {
      "cell_type": "code",
      "source": [
        "dff[dff['VRDeck']==dff['s_pch1']][dff[dff['VRDeck']==dff['s_pch1']]['s_pch1'] !=0] # 99% тратят сразу в нескольких категориях, поэтому заполняем нулями Nan в нулевых строках\n"
      ],
      "metadata": {
        "id": "uMTWKXKxtKeV"
      },
      "execution_count": null,
      "outputs": []
    },
    {
      "cell_type": "code",
      "source": [
        "# также у нас есть несколько строк с нулями и нескольками Nan в строке, их мало поэтому тоже заполним нулями для удобства\n",
        "ix13 = dff[dff['s_pch1'].isna()].index\n",
        "dff['ShoppingMall'].loc[ix13] = 0.0\n",
        "dff['FoodCourt'].loc[ix13] = 0.0\n",
        "dff['RoomService'].loc[ix13] = 0.0\n",
        "dff['Spa'].loc[ix13] = 0.0\n",
        "dff['VRDeck'].loc[ix13] = 0.0"
      ],
      "metadata": {
        "id": "Sc8UZVIBvApc"
      },
      "execution_count": null,
      "outputs": []
    },
    {
      "cell_type": "code",
      "source": [
        "dff.isna().sum()"
      ],
      "metadata": {
        "colab": {
          "base_uri": "https://localhost:8080/"
        },
        "id": "ue188DHNwIkB",
        "outputId": "cc431d55-8274-44e7-bc1a-a8a5df92551a"
      },
      "execution_count": null,
      "outputs": [
        {
          "output_type": "execute_result",
          "data": {
            "text/plain": [
              "HomePlanet        0\n",
              "CryoSleep        69\n",
              "Cabin             0\n",
              "Destination     274\n",
              "Age             270\n",
              "VIP               0\n",
              "RoomService       0\n",
              "FoodCourt         0\n",
              "ShoppingMall      0\n",
              "Spa               0\n",
              "VRDeck            0\n",
              "NID               0\n",
              "LN                0\n",
              "s_pch1           86\n",
              "s_pch             0\n",
              "dtype: int64"
            ]
          },
          "metadata": {},
          "execution_count": 303
        }
      ]
    },
    {
      "cell_type": "code",
      "source": [
        "# теперь доразберемся с CryoSleep, после заполнения nan в тратах еще несколько взрослых добавим\n",
        "ix14 = dff['CryoSleep'][dff['CryoSleep'].isna()][dff[dff['CryoSleep'].isna()]['Age']>21].index\n",
        "dff['CryoSleep'].loc[ix14] =True"
      ],
      "metadata": {
        "id": "toBTAcJS1Tz-"
      },
      "execution_count": null,
      "outputs": []
    },
    {
      "cell_type": "code",
      "source": [
        "# получим скор на этом этапе 0.803 (0.806 c num_imputer трат)"
      ],
      "metadata": {
        "id": "wv0Oyruj0rZI"
      },
      "execution_count": null,
      "outputs": []
    },
    {
      "cell_type": "code",
      "source": [
        "cr_nan = dff.groupby (['LN' ,'NID']).filter (lambda x : np.nan in tuple (x['CryoSleep'].unique()))"
      ],
      "metadata": {
        "id": "g71Ml4o11Xc-"
      },
      "execution_count": null,
      "outputs": []
    },
    {
      "cell_type": "code",
      "source": [
        "#cr_nan = dff.groupby (['LN' ,'NID', 'Cabin' ]).filter (lambda x : '__' in tuple (x['CryoSleep'].unique()))"
      ],
      "metadata": {
        "id": "dZlN03BPBf28"
      },
      "execution_count": null,
      "outputs": []
    },
    {
      "cell_type": "code",
      "source": [
        "# заполняем Cryo по комбо LN NID\n",
        "f = 'CryoSleep'\n",
        "nid = cr_nan['NID'].unique()\n",
        "nil = cr_nan['LN'].unique()"
      ],
      "metadata": {
        "id": "gyMYNMOU8Mio"
      },
      "execution_count": null,
      "outputs": []
    },
    {
      "cell_type": "code",
      "source": [
        "for n , l in zip (nid, nil):\n",
        "    tdf = dff[(dff['NID'] == n) & (dff['LN'] == l)]\n",
        "    if len (tdf) > 1 :\n",
        "     if  len (set (tdf['LN'].values)) <2:\n",
        "      if tdf[f].nunique(dropna=False) <3 :\n",
        "         dff[f].loc[(dff['NID'] == n) & (dff['LN'] == l)] = tdf[f].apply ( lambda x :  tdf[f].sort_values ().iloc[0])\n",
        "      else : \n",
        "        print ('Error_' , n)"
      ],
      "metadata": {
        "colab": {
          "base_uri": "https://localhost:8080/"
        },
        "id": "ootFyqfL9TX3",
        "outputId": "61131021-9081-4cfa-fa4c-f9158d9271a9"
      },
      "execution_count": null,
      "outputs": [
        {
          "output_type": "stream",
          "name": "stdout",
          "text": [
            "Error_ 1624\n",
            "Error_ 3301\n",
            "Error_ 3439\n",
            "Error_ 4680\n",
            "Error_ 4741\n",
            "Error_ 5090\n",
            "Error_ 6405\n"
          ]
        }
      ]
    },
    {
      "cell_type": "code",
      "source": [
        "df.groupby (['NID' , 'LN']).mean()['Transported'].value_counts()"
      ],
      "metadata": {
        "id": "APRb6AL3-Frv"
      },
      "execution_count": null,
      "outputs": []
    },
    {
      "cell_type": "code",
      "source": [
        "dff['CryoSleep'].loc[dff[dff['CryoSleep'].isna()].index]"
      ],
      "metadata": {
        "id": "W2C609Qgcp1_"
      },
      "execution_count": null,
      "outputs": []
    },
    {
      "cell_type": "code",
      "source": [
        "# оставшиеся Cryo заполняем True потому что расходы нулевые\n",
        "ix15 =  dff[dff['CryoSleep'].isna()].index\n",
        "dff['CryoSleep'].loc[ix15] = True"
      ],
      "metadata": {
        "id": "6CgLEDdAGHh0"
      },
      "execution_count": null,
      "outputs": []
    },
    {
      "cell_type": "code",
      "source": [
        "# пробуем скор на этом этапе 0.808"
      ],
      "metadata": {
        "id": "KVcG65rM8HPO"
      },
      "execution_count": null,
      "outputs": []
    },
    {
      "cell_type": "code",
      "source": [
        "# Пропуски Cabin заполняем палубой F. как ниболее массовой\n",
        "dff['Cabin'][dff['Cabin']== \"__\"] = 'F'"
      ],
      "metadata": {
        "id": "cI-w0s3ae0v1"
      },
      "execution_count": null,
      "outputs": []
    },
    {
      "cell_type": "code",
      "source": [
        "dff.groupby (['LN' ,'NID', 'Cabin']).agg (lambda x : tuple (x.unique()))['Destination'].value_counts() # 93% Cabin имеют одинаковый Dest, но 193 полностю nan"
      ],
      "metadata": {
        "id": "QC4ONbIDjGiE",
        "colab": {
          "base_uri": "https://localhost:8080/"
        },
        "outputId": "580620fe-6590-4c87-bbad-8e4a1cac938e"
      },
      "execution_count": null,
      "outputs": [
        {
          "output_type": "execute_result",
          "data": {
            "text/plain": [
              "(TRAPPIST-1e,)                                    6722\n",
              "(55 Cancri e,)                                    1615\n",
              "(PSO J318.5-22,)                                   940\n",
              "(TRAPPIST-1e, 55 Cancri e)                         331\n",
              "(55 Cancri e, TRAPPIST-1e)                         303\n",
              "(nan,)                                             193\n",
              "(TRAPPIST-1e, PSO J318.5-22)                        69\n",
              "(PSO J318.5-22, TRAPPIST-1e)                        67\n",
              "(TRAPPIST-1e, nan)                                  25\n",
              "(55 Cancri e, PSO J318.5-22)                        23\n",
              "(nan, TRAPPIST-1e)                                  20\n",
              "(PSO J318.5-22, 55 Cancri e)                        14\n",
              "(TRAPPIST-1e, PSO J318.5-22, 55 Cancri e)           12\n",
              "(TRAPPIST-1e, 55 Cancri e, nan)                      7\n",
              "(nan, 55 Cancri e)                                   5\n",
              "(55 Cancri e, nan)                                   5\n",
              "(TRAPPIST-1e, PSO J318.5-22, nan)                    5\n",
              "(PSO J318.5-22, 55 Cancri e, TRAPPIST-1e)            4\n",
              "(55 Cancri e, PSO J318.5-22, TRAPPIST-1e)            4\n",
              "(TRAPPIST-1e, 55 Cancri e, PSO J318.5-22)            4\n",
              "(PSO J318.5-22, TRAPPIST-1e, 55 Cancri e)            4\n",
              "(TRAPPIST-1e, nan, 55 Cancri e)                      3\n",
              "(55 Cancri e, TRAPPIST-1e, nan)                      3\n",
              "(55 Cancri e, TRAPPIST-1e, PSO J318.5-22)            3\n",
              "(PSO J318.5-22, nan)                                 2\n",
              "(55 Cancri e, nan, TRAPPIST-1e)                      2\n",
              "(nan, PSO J318.5-22, TRAPPIST-1e)                    1\n",
              "(TRAPPIST-1e, nan, PSO J318.5-22)                    1\n",
              "(PSO J318.5-22, TRAPPIST-1e, nan, 55 Cancri e)       1\n",
              "(nan, PSO J318.5-22)                                 1\n",
              "Name: Destination, dtype: int64"
            ]
          },
          "metadata": {},
          "execution_count": 1377
        }
      ]
    },
    {
      "cell_type": "code",
      "source": [
        "dff.groupby (['LN' ,'NID']).agg (lambda x : tuple (x.unique()))['Destination'].value_counts() # на уровыне NID уже 87% и всеще много nan полностью"
      ],
      "metadata": {
        "id": "65Ll75XAkF0P"
      },
      "execution_count": null,
      "outputs": []
    },
    {
      "cell_type": "code",
      "source": [
        "# разные \n",
        "dff.groupby (['LN' ,'NID', 'Cabin']).filter (lambda x : np.nan in tuple (x['Destination'].unique())).groupby('LN').apply (lambda x : tuple (x['Destination'].unique()) ).value_counts()"
      ],
      "metadata": {
        "id": "7cOwm-Gjgt9K",
        "colab": {
          "base_uri": "https://localhost:8080/"
        },
        "outputId": "0faf468c-5c56-4276-d0a9-457be657a482"
      },
      "execution_count": null,
      "outputs": [
        {
          "output_type": "execute_result",
          "data": {
            "text/plain": [
              "(nan,)                                            174\n",
              "(TRAPPIST-1e, nan)                                 25\n",
              "(nan, TRAPPIST-1e)                                 20\n",
              "(TRAPPIST-1e, 55 Cancri e, nan)                     7\n",
              "(nan, 55 Cancri e)                                  5\n",
              "(55 Cancri e, nan)                                  5\n",
              "(TRAPPIST-1e, PSO J318.5-22, nan)                   4\n",
              "(55 Cancri e, TRAPPIST-1e, nan)                     3\n",
              "(TRAPPIST-1e, nan, 55 Cancri e)                     3\n",
              "(PSO J318.5-22, nan)                                2\n",
              "(55 Cancri e, nan, TRAPPIST-1e)                     2\n",
              "(nan, PSO J318.5-22, TRAPPIST-1e)                   1\n",
              "(TRAPPIST-1e, nan, PSO J318.5-22)                   1\n",
              "(PSO J318.5-22, TRAPPIST-1e, nan, 55 Cancri e)      1\n",
              "(nan, PSO J318.5-22)                                1\n",
              "(nan, TRAPPIST-1e, PSO J318.5-22)                   1\n",
              "dtype: int64"
            ]
          },
          "metadata": {},
          "execution_count": 1376
        }
      ]
    },
    {
      "cell_type": "code",
      "source": [
        "df[df['Destination']=='55 Cancri e']['Transported'].mean() # Dest 55 Cancri e влияет на выживаемость, TRAPPIST-1e чутть меньше, но тоже, PSO J318.5-22 никак не влияет, имеет смысл для заволнения"
      ],
      "metadata": {
        "colab": {
          "base_uri": "https://localhost:8080/"
        },
        "id": "wt7GG-v-iL36",
        "outputId": "6a729ee3-1d67-420a-8ec1-843118e8faa6"
      },
      "execution_count": null,
      "outputs": [
        {
          "output_type": "execute_result",
          "data": {
            "text/plain": [
              "0.61"
            ]
          },
          "metadata": {},
          "execution_count": 1375
        }
      ]
    },
    {
      "cell_type": "code",
      "source": [
        "# пробуем скор на этом этапе 0.8071"
      ],
      "metadata": {
        "id": "kmGkoiOv-lw6"
      },
      "execution_count": null,
      "outputs": []
    },
    {
      "cell_type": "code",
      "source": [
        "# заполняем Dest по аналогии комбо LN NID\n",
        "dest_nan = dff.groupby (['LN' ,'NID']).filter (lambda x : np.nan in tuple (x['Destination'].unique()))"
      ],
      "metadata": {
        "id": "IqLKr682i1Zd"
      },
      "execution_count": null,
      "outputs": []
    },
    {
      "cell_type": "code",
      "source": [
        "f = 'Destination'\n",
        "nid = dest_nan['NID'].unique()\n",
        "nil = dest_nan['LN'].unique()\n",
        "for n , l in zip (nid, nil):\n",
        "    tdf = dff[(dff['NID'] == n) & (dff['LN'] == l)]\n",
        "    if len (tdf) > 1 :\n",
        "      if tdf[f].nunique(dropna=False) <3 :\n",
        "         dff[f].loc[(dff['NID'] == n) & (dff['LN'] == l)] = tdf[f].apply ( lambda x :  tdf[f].sort_values ().iloc[0])\n",
        "      else : \n",
        "        print ('Error_' , n)"
      ],
      "metadata": {
        "colab": {
          "base_uri": "https://localhost:8080/"
        },
        "id": "9mQlZXdVm1JL",
        "outputId": "d9e00a3e-dea2-4f90-dfb9-8f57c5367a6c"
      },
      "execution_count": null,
      "outputs": [
        {
          "output_type": "stream",
          "name": "stdout",
          "text": [
            "Error_ 0504\n",
            "Error_ 0564\n",
            "Error_ 0714\n",
            "Error_ 1148\n"
          ]
        }
      ]
    },
    {
      "cell_type": "code",
      "source": [
        "dff[dff['NID'] == '1148']"
      ],
      "metadata": {
        "colab": {
          "base_uri": "https://localhost:8080/",
          "height": 269
        },
        "id": "T_X7FV5cnSKb",
        "outputId": "c7e1e289-0748-4639-a8d3-2ba1b921f3ad"
      },
      "execution_count": null,
      "outputs": [
        {
          "output_type": "execute_result",
          "data": {
            "text/plain": [
              "     HomePlanet CryoSleep   Cabin  Destination   Age    VIP  RoomService  \\\n",
              "1072     Europa      True  C/42/P  55 Cancri e  22.0  False          0.0   \n",
              "1073     Europa     False  C/42/P  55 Cancri e   NaN  False          0.0   \n",
              "1074     Europa     False  C/42/P  TRAPPIST-1e  30.0  False          0.0   \n",
              "1075     Europa     False  C/42/P  55 Cancri e  39.0  False          0.0   \n",
              "1076     Europa      True  C/42/P          NaN  14.0  False          0.0   \n",
              "1077     Europa      True  C/42/P  TRAPPIST-1e  29.0  False          0.0   \n",
              "1078     Europa     False  C/42/P  55 Cancri e  34.0  False       2386.0   \n",
              "\n",
              "      FoodCourt  ShoppingMall     Spa  VRDeck   NID       LN   s_pch1    s_pch  \n",
              "1072        0.0           0.0     0.0     0.0  1148  Clugete      0.0      0.0  \n",
              "1073      122.0        2138.0  7368.0  1213.0  1148  Clugete  10841.0  10841.0  \n",
              "1074     5225.0           0.0     8.0  1933.0  1148  Clugete   7166.0   7166.0  \n",
              "1075     5212.0           2.0   118.0    61.0  1148  Clugete   5393.0   5393.0  \n",
              "1076        0.0           0.0     0.0     0.0  1148  Clugete      0.0      0.0  \n",
              "1077        0.0           0.0     0.0     0.0  1148  Clugete      0.0      0.0  \n",
              "1078      841.0          76.0    26.0  1693.0  1148  Clugete   5022.0   5022.0  "
            ],
            "text/html": [
              "\n",
              "  <div id=\"df-b6162c02-f72f-4808-94d0-89dda9f778f5\">\n",
              "    <div class=\"colab-df-container\">\n",
              "      <div>\n",
              "<style scoped>\n",
              "    .dataframe tbody tr th:only-of-type {\n",
              "        vertical-align: middle;\n",
              "    }\n",
              "\n",
              "    .dataframe tbody tr th {\n",
              "        vertical-align: top;\n",
              "    }\n",
              "\n",
              "    .dataframe thead th {\n",
              "        text-align: right;\n",
              "    }\n",
              "</style>\n",
              "<table border=\"1\" class=\"dataframe\">\n",
              "  <thead>\n",
              "    <tr style=\"text-align: right;\">\n",
              "      <th></th>\n",
              "      <th>HomePlanet</th>\n",
              "      <th>CryoSleep</th>\n",
              "      <th>Cabin</th>\n",
              "      <th>Destination</th>\n",
              "      <th>Age</th>\n",
              "      <th>VIP</th>\n",
              "      <th>RoomService</th>\n",
              "      <th>FoodCourt</th>\n",
              "      <th>ShoppingMall</th>\n",
              "      <th>Spa</th>\n",
              "      <th>VRDeck</th>\n",
              "      <th>NID</th>\n",
              "      <th>LN</th>\n",
              "      <th>s_pch1</th>\n",
              "      <th>s_pch</th>\n",
              "    </tr>\n",
              "  </thead>\n",
              "  <tbody>\n",
              "    <tr>\n",
              "      <th>1072</th>\n",
              "      <td>Europa</td>\n",
              "      <td>True</td>\n",
              "      <td>C/42/P</td>\n",
              "      <td>55 Cancri e</td>\n",
              "      <td>22.0</td>\n",
              "      <td>False</td>\n",
              "      <td>0.0</td>\n",
              "      <td>0.0</td>\n",
              "      <td>0.0</td>\n",
              "      <td>0.0</td>\n",
              "      <td>0.0</td>\n",
              "      <td>1148</td>\n",
              "      <td>Clugete</td>\n",
              "      <td>0.0</td>\n",
              "      <td>0.0</td>\n",
              "    </tr>\n",
              "    <tr>\n",
              "      <th>1073</th>\n",
              "      <td>Europa</td>\n",
              "      <td>False</td>\n",
              "      <td>C/42/P</td>\n",
              "      <td>55 Cancri e</td>\n",
              "      <td>NaN</td>\n",
              "      <td>False</td>\n",
              "      <td>0.0</td>\n",
              "      <td>122.0</td>\n",
              "      <td>2138.0</td>\n",
              "      <td>7368.0</td>\n",
              "      <td>1213.0</td>\n",
              "      <td>1148</td>\n",
              "      <td>Clugete</td>\n",
              "      <td>10841.0</td>\n",
              "      <td>10841.0</td>\n",
              "    </tr>\n",
              "    <tr>\n",
              "      <th>1074</th>\n",
              "      <td>Europa</td>\n",
              "      <td>False</td>\n",
              "      <td>C/42/P</td>\n",
              "      <td>TRAPPIST-1e</td>\n",
              "      <td>30.0</td>\n",
              "      <td>False</td>\n",
              "      <td>0.0</td>\n",
              "      <td>5225.0</td>\n",
              "      <td>0.0</td>\n",
              "      <td>8.0</td>\n",
              "      <td>1933.0</td>\n",
              "      <td>1148</td>\n",
              "      <td>Clugete</td>\n",
              "      <td>7166.0</td>\n",
              "      <td>7166.0</td>\n",
              "    </tr>\n",
              "    <tr>\n",
              "      <th>1075</th>\n",
              "      <td>Europa</td>\n",
              "      <td>False</td>\n",
              "      <td>C/42/P</td>\n",
              "      <td>55 Cancri e</td>\n",
              "      <td>39.0</td>\n",
              "      <td>False</td>\n",
              "      <td>0.0</td>\n",
              "      <td>5212.0</td>\n",
              "      <td>2.0</td>\n",
              "      <td>118.0</td>\n",
              "      <td>61.0</td>\n",
              "      <td>1148</td>\n",
              "      <td>Clugete</td>\n",
              "      <td>5393.0</td>\n",
              "      <td>5393.0</td>\n",
              "    </tr>\n",
              "    <tr>\n",
              "      <th>1076</th>\n",
              "      <td>Europa</td>\n",
              "      <td>True</td>\n",
              "      <td>C/42/P</td>\n",
              "      <td>NaN</td>\n",
              "      <td>14.0</td>\n",
              "      <td>False</td>\n",
              "      <td>0.0</td>\n",
              "      <td>0.0</td>\n",
              "      <td>0.0</td>\n",
              "      <td>0.0</td>\n",
              "      <td>0.0</td>\n",
              "      <td>1148</td>\n",
              "      <td>Clugete</td>\n",
              "      <td>0.0</td>\n",
              "      <td>0.0</td>\n",
              "    </tr>\n",
              "    <tr>\n",
              "      <th>1077</th>\n",
              "      <td>Europa</td>\n",
              "      <td>True</td>\n",
              "      <td>C/42/P</td>\n",
              "      <td>TRAPPIST-1e</td>\n",
              "      <td>29.0</td>\n",
              "      <td>False</td>\n",
              "      <td>0.0</td>\n",
              "      <td>0.0</td>\n",
              "      <td>0.0</td>\n",
              "      <td>0.0</td>\n",
              "      <td>0.0</td>\n",
              "      <td>1148</td>\n",
              "      <td>Clugete</td>\n",
              "      <td>0.0</td>\n",
              "      <td>0.0</td>\n",
              "    </tr>\n",
              "    <tr>\n",
              "      <th>1078</th>\n",
              "      <td>Europa</td>\n",
              "      <td>False</td>\n",
              "      <td>C/42/P</td>\n",
              "      <td>55 Cancri e</td>\n",
              "      <td>34.0</td>\n",
              "      <td>False</td>\n",
              "      <td>2386.0</td>\n",
              "      <td>841.0</td>\n",
              "      <td>76.0</td>\n",
              "      <td>26.0</td>\n",
              "      <td>1693.0</td>\n",
              "      <td>1148</td>\n",
              "      <td>Clugete</td>\n",
              "      <td>5022.0</td>\n",
              "      <td>5022.0</td>\n",
              "    </tr>\n",
              "  </tbody>\n",
              "</table>\n",
              "</div>\n",
              "      <button class=\"colab-df-convert\" onclick=\"convertToInteractive('df-b6162c02-f72f-4808-94d0-89dda9f778f5')\"\n",
              "              title=\"Convert this dataframe to an interactive table.\"\n",
              "              style=\"display:none;\">\n",
              "        \n",
              "  <svg xmlns=\"http://www.w3.org/2000/svg\" height=\"24px\"viewBox=\"0 0 24 24\"\n",
              "       width=\"24px\">\n",
              "    <path d=\"M0 0h24v24H0V0z\" fill=\"none\"/>\n",
              "    <path d=\"M18.56 5.44l.94 2.06.94-2.06 2.06-.94-2.06-.94-.94-2.06-.94 2.06-2.06.94zm-11 1L8.5 8.5l.94-2.06 2.06-.94-2.06-.94L8.5 2.5l-.94 2.06-2.06.94zm10 10l.94 2.06.94-2.06 2.06-.94-2.06-.94-.94-2.06-.94 2.06-2.06.94z\"/><path d=\"M17.41 7.96l-1.37-1.37c-.4-.4-.92-.59-1.43-.59-.52 0-1.04.2-1.43.59L10.3 9.45l-7.72 7.72c-.78.78-.78 2.05 0 2.83L4 21.41c.39.39.9.59 1.41.59.51 0 1.02-.2 1.41-.59l7.78-7.78 2.81-2.81c.8-.78.8-2.07 0-2.86zM5.41 20L4 18.59l7.72-7.72 1.47 1.35L5.41 20z\"/>\n",
              "  </svg>\n",
              "      </button>\n",
              "      \n",
              "  <style>\n",
              "    .colab-df-container {\n",
              "      display:flex;\n",
              "      flex-wrap:wrap;\n",
              "      gap: 12px;\n",
              "    }\n",
              "\n",
              "    .colab-df-convert {\n",
              "      background-color: #E8F0FE;\n",
              "      border: none;\n",
              "      border-radius: 50%;\n",
              "      cursor: pointer;\n",
              "      display: none;\n",
              "      fill: #1967D2;\n",
              "      height: 32px;\n",
              "      padding: 0 0 0 0;\n",
              "      width: 32px;\n",
              "    }\n",
              "\n",
              "    .colab-df-convert:hover {\n",
              "      background-color: #E2EBFA;\n",
              "      box-shadow: 0px 1px 2px rgba(60, 64, 67, 0.3), 0px 1px 3px 1px rgba(60, 64, 67, 0.15);\n",
              "      fill: #174EA6;\n",
              "    }\n",
              "\n",
              "    [theme=dark] .colab-df-convert {\n",
              "      background-color: #3B4455;\n",
              "      fill: #D2E3FC;\n",
              "    }\n",
              "\n",
              "    [theme=dark] .colab-df-convert:hover {\n",
              "      background-color: #434B5C;\n",
              "      box-shadow: 0px 1px 3px 1px rgba(0, 0, 0, 0.15);\n",
              "      filter: drop-shadow(0px 1px 2px rgba(0, 0, 0, 0.3));\n",
              "      fill: #FFFFFF;\n",
              "    }\n",
              "  </style>\n",
              "\n",
              "      <script>\n",
              "        const buttonEl =\n",
              "          document.querySelector('#df-b6162c02-f72f-4808-94d0-89dda9f778f5 button.colab-df-convert');\n",
              "        buttonEl.style.display =\n",
              "          google.colab.kernel.accessAllowed ? 'block' : 'none';\n",
              "\n",
              "        async function convertToInteractive(key) {\n",
              "          const element = document.querySelector('#df-b6162c02-f72f-4808-94d0-89dda9f778f5');\n",
              "          const dataTable =\n",
              "            await google.colab.kernel.invokeFunction('convertToInteractive',\n",
              "                                                     [key], {});\n",
              "          if (!dataTable) return;\n",
              "\n",
              "          const docLinkHtml = 'Like what you see? Visit the ' +\n",
              "            '<a target=\"_blank\" href=https://colab.research.google.com/notebooks/data_table.ipynb>data table notebook</a>'\n",
              "            + ' to learn more about interactive tables.';\n",
              "          element.innerHTML = '';\n",
              "          dataTable['output_type'] = 'display_data';\n",
              "          await google.colab.output.renderOutput(dataTable, element);\n",
              "          const docLink = document.createElement('div');\n",
              "          docLink.innerHTML = docLinkHtml;\n",
              "          element.appendChild(docLink);\n",
              "        }\n",
              "      </script>\n",
              "    </div>\n",
              "  </div>\n",
              "  "
            ]
          },
          "metadata": {},
          "execution_count": 663
        }
      ]
    },
    {
      "cell_type": "code",
      "source": [
        "dff[dff['Destination']=='PSO J318.5-22']['CryoSleep'].mean()"
      ],
      "metadata": {
        "colab": {
          "base_uri": "https://localhost:8080/"
        },
        "id": "vw1NnHQXo5kS",
        "outputId": "c35ed84a-eb6e-4058-ce86-e22850179dd8"
      },
      "execution_count": null,
      "outputs": [
        {
          "output_type": "execute_result",
          "data": {
            "text/plain": [
              "0.4936708860759494"
            ]
          },
          "metadata": {},
          "execution_count": 670
        }
      ]
    },
    {
      "cell_type": "code",
      "source": [
        "dff[dff['Destination'].isna()]"
      ],
      "metadata": {
        "colab": {
          "base_uri": "https://localhost:8080/",
          "height": 424
        },
        "id": "Ty1HAAAfq3mS",
        "outputId": "d582e168-fda6-4d2e-dbab-bc1fc0c9aa54"
      },
      "execution_count": null,
      "outputs": [
        {
          "output_type": "execute_result",
          "data": {
            "text/plain": [
              "      HomePlanet CryoSleep     Cabin Destination   Age    VIP  RoomService  \\\n",
              "139        Earth     False    F/32/P         NaN  41.0  False          0.0   \n",
              "347        Earth     False    G/64/P         NaN  23.0  False        348.0   \n",
              "430        Earth      True    G/67/S         NaN  50.0  False          0.0   \n",
              "468       Europa      True    B/19/S         NaN  24.0  False          0.0   \n",
              "529       Europa     False    B/24/P         NaN  28.0  False          0.0   \n",
              "...          ...       ...       ...         ...   ...    ...          ...   \n",
              "12851      Earth      True  F/1748/S         NaN   0.0  False          0.0   \n",
              "12856      Earth      True  G/1468/P         NaN  23.0  False          0.0   \n",
              "12889      Earth     False  G/1478/P         NaN  31.0  False          0.0   \n",
              "12912     Europa     False   C/304/P         NaN  17.0  False        149.0   \n",
              "12968     Europa     False   D/297/P         NaN   NaN  False          0.0   \n",
              "\n",
              "       FoodCourt  ShoppingMall     Spa  VRDeck   NID           LN  s_pch1  \\\n",
              "139          0.0           0.0     0.0   607.0  0152       Estron   607.0   \n",
              "347          0.0           0.0     4.0   368.0  0382  Floydendley   720.0   \n",
              "430          0.0           0.0     0.0     0.0  0462  Sosanturney     0.0   \n",
              "468          0.0           0.0     0.0     0.0  0504     Unpasine     0.0   \n",
              "529        410.0           2.0  1354.0  3695.0  0564    Dinsprody  5461.0   \n",
              "...          ...           ...     ...     ...   ...          ...     ...   \n",
              "12851        0.0           0.0     0.0     0.0  9022     Boyerson     0.0   \n",
              "12856        0.0           0.0     0.0     0.0  9039    Wilkinner     0.0   \n",
              "12889        0.0           1.0     0.0   198.0  9095    Reynoldez   199.0   \n",
              "12912     2045.0           1.0  1872.0     0.0  9155     Amoutake  4067.0   \n",
              "12968     2680.0           0.0     0.0   523.0  9273       Conale  3203.0   \n",
              "\n",
              "        s_pch  \n",
              "139     607.0  \n",
              "347     720.0  \n",
              "430       0.0  \n",
              "468       0.0  \n",
              "529    5461.0  \n",
              "...       ...  \n",
              "12851     0.0  \n",
              "12856     0.0  \n",
              "12889   198.0  \n",
              "12912  4066.0  \n",
              "12968  3203.0  \n",
              "\n",
              "[264 rows x 15 columns]"
            ],
            "text/html": [
              "\n",
              "  <div id=\"df-964f0787-9241-49c5-b4dd-206db7bd5134\">\n",
              "    <div class=\"colab-df-container\">\n",
              "      <div>\n",
              "<style scoped>\n",
              "    .dataframe tbody tr th:only-of-type {\n",
              "        vertical-align: middle;\n",
              "    }\n",
              "\n",
              "    .dataframe tbody tr th {\n",
              "        vertical-align: top;\n",
              "    }\n",
              "\n",
              "    .dataframe thead th {\n",
              "        text-align: right;\n",
              "    }\n",
              "</style>\n",
              "<table border=\"1\" class=\"dataframe\">\n",
              "  <thead>\n",
              "    <tr style=\"text-align: right;\">\n",
              "      <th></th>\n",
              "      <th>HomePlanet</th>\n",
              "      <th>CryoSleep</th>\n",
              "      <th>Cabin</th>\n",
              "      <th>Destination</th>\n",
              "      <th>Age</th>\n",
              "      <th>VIP</th>\n",
              "      <th>RoomService</th>\n",
              "      <th>FoodCourt</th>\n",
              "      <th>ShoppingMall</th>\n",
              "      <th>Spa</th>\n",
              "      <th>VRDeck</th>\n",
              "      <th>NID</th>\n",
              "      <th>LN</th>\n",
              "      <th>s_pch1</th>\n",
              "      <th>s_pch</th>\n",
              "    </tr>\n",
              "  </thead>\n",
              "  <tbody>\n",
              "    <tr>\n",
              "      <th>139</th>\n",
              "      <td>Earth</td>\n",
              "      <td>False</td>\n",
              "      <td>F/32/P</td>\n",
              "      <td>NaN</td>\n",
              "      <td>41.0</td>\n",
              "      <td>False</td>\n",
              "      <td>0.0</td>\n",
              "      <td>0.0</td>\n",
              "      <td>0.0</td>\n",
              "      <td>0.0</td>\n",
              "      <td>607.0</td>\n",
              "      <td>0152</td>\n",
              "      <td>Estron</td>\n",
              "      <td>607.0</td>\n",
              "      <td>607.0</td>\n",
              "    </tr>\n",
              "    <tr>\n",
              "      <th>347</th>\n",
              "      <td>Earth</td>\n",
              "      <td>False</td>\n",
              "      <td>G/64/P</td>\n",
              "      <td>NaN</td>\n",
              "      <td>23.0</td>\n",
              "      <td>False</td>\n",
              "      <td>348.0</td>\n",
              "      <td>0.0</td>\n",
              "      <td>0.0</td>\n",
              "      <td>4.0</td>\n",
              "      <td>368.0</td>\n",
              "      <td>0382</td>\n",
              "      <td>Floydendley</td>\n",
              "      <td>720.0</td>\n",
              "      <td>720.0</td>\n",
              "    </tr>\n",
              "    <tr>\n",
              "      <th>430</th>\n",
              "      <td>Earth</td>\n",
              "      <td>True</td>\n",
              "      <td>G/67/S</td>\n",
              "      <td>NaN</td>\n",
              "      <td>50.0</td>\n",
              "      <td>False</td>\n",
              "      <td>0.0</td>\n",
              "      <td>0.0</td>\n",
              "      <td>0.0</td>\n",
              "      <td>0.0</td>\n",
              "      <td>0.0</td>\n",
              "      <td>0462</td>\n",
              "      <td>Sosanturney</td>\n",
              "      <td>0.0</td>\n",
              "      <td>0.0</td>\n",
              "    </tr>\n",
              "    <tr>\n",
              "      <th>468</th>\n",
              "      <td>Europa</td>\n",
              "      <td>True</td>\n",
              "      <td>B/19/S</td>\n",
              "      <td>NaN</td>\n",
              "      <td>24.0</td>\n",
              "      <td>False</td>\n",
              "      <td>0.0</td>\n",
              "      <td>0.0</td>\n",
              "      <td>0.0</td>\n",
              "      <td>0.0</td>\n",
              "      <td>0.0</td>\n",
              "      <td>0504</td>\n",
              "      <td>Unpasine</td>\n",
              "      <td>0.0</td>\n",
              "      <td>0.0</td>\n",
              "    </tr>\n",
              "    <tr>\n",
              "      <th>529</th>\n",
              "      <td>Europa</td>\n",
              "      <td>False</td>\n",
              "      <td>B/24/P</td>\n",
              "      <td>NaN</td>\n",
              "      <td>28.0</td>\n",
              "      <td>False</td>\n",
              "      <td>0.0</td>\n",
              "      <td>410.0</td>\n",
              "      <td>2.0</td>\n",
              "      <td>1354.0</td>\n",
              "      <td>3695.0</td>\n",
              "      <td>0564</td>\n",
              "      <td>Dinsprody</td>\n",
              "      <td>5461.0</td>\n",
              "      <td>5461.0</td>\n",
              "    </tr>\n",
              "    <tr>\n",
              "      <th>...</th>\n",
              "      <td>...</td>\n",
              "      <td>...</td>\n",
              "      <td>...</td>\n",
              "      <td>...</td>\n",
              "      <td>...</td>\n",
              "      <td>...</td>\n",
              "      <td>...</td>\n",
              "      <td>...</td>\n",
              "      <td>...</td>\n",
              "      <td>...</td>\n",
              "      <td>...</td>\n",
              "      <td>...</td>\n",
              "      <td>...</td>\n",
              "      <td>...</td>\n",
              "      <td>...</td>\n",
              "    </tr>\n",
              "    <tr>\n",
              "      <th>12851</th>\n",
              "      <td>Earth</td>\n",
              "      <td>True</td>\n",
              "      <td>F/1748/S</td>\n",
              "      <td>NaN</td>\n",
              "      <td>0.0</td>\n",
              "      <td>False</td>\n",
              "      <td>0.0</td>\n",
              "      <td>0.0</td>\n",
              "      <td>0.0</td>\n",
              "      <td>0.0</td>\n",
              "      <td>0.0</td>\n",
              "      <td>9022</td>\n",
              "      <td>Boyerson</td>\n",
              "      <td>0.0</td>\n",
              "      <td>0.0</td>\n",
              "    </tr>\n",
              "    <tr>\n",
              "      <th>12856</th>\n",
              "      <td>Earth</td>\n",
              "      <td>True</td>\n",
              "      <td>G/1468/P</td>\n",
              "      <td>NaN</td>\n",
              "      <td>23.0</td>\n",
              "      <td>False</td>\n",
              "      <td>0.0</td>\n",
              "      <td>0.0</td>\n",
              "      <td>0.0</td>\n",
              "      <td>0.0</td>\n",
              "      <td>0.0</td>\n",
              "      <td>9039</td>\n",
              "      <td>Wilkinner</td>\n",
              "      <td>0.0</td>\n",
              "      <td>0.0</td>\n",
              "    </tr>\n",
              "    <tr>\n",
              "      <th>12889</th>\n",
              "      <td>Earth</td>\n",
              "      <td>False</td>\n",
              "      <td>G/1478/P</td>\n",
              "      <td>NaN</td>\n",
              "      <td>31.0</td>\n",
              "      <td>False</td>\n",
              "      <td>0.0</td>\n",
              "      <td>0.0</td>\n",
              "      <td>1.0</td>\n",
              "      <td>0.0</td>\n",
              "      <td>198.0</td>\n",
              "      <td>9095</td>\n",
              "      <td>Reynoldez</td>\n",
              "      <td>199.0</td>\n",
              "      <td>198.0</td>\n",
              "    </tr>\n",
              "    <tr>\n",
              "      <th>12912</th>\n",
              "      <td>Europa</td>\n",
              "      <td>False</td>\n",
              "      <td>C/304/P</td>\n",
              "      <td>NaN</td>\n",
              "      <td>17.0</td>\n",
              "      <td>False</td>\n",
              "      <td>149.0</td>\n",
              "      <td>2045.0</td>\n",
              "      <td>1.0</td>\n",
              "      <td>1872.0</td>\n",
              "      <td>0.0</td>\n",
              "      <td>9155</td>\n",
              "      <td>Amoutake</td>\n",
              "      <td>4067.0</td>\n",
              "      <td>4066.0</td>\n",
              "    </tr>\n",
              "    <tr>\n",
              "      <th>12968</th>\n",
              "      <td>Europa</td>\n",
              "      <td>False</td>\n",
              "      <td>D/297/P</td>\n",
              "      <td>NaN</td>\n",
              "      <td>NaN</td>\n",
              "      <td>False</td>\n",
              "      <td>0.0</td>\n",
              "      <td>2680.0</td>\n",
              "      <td>0.0</td>\n",
              "      <td>0.0</td>\n",
              "      <td>523.0</td>\n",
              "      <td>9273</td>\n",
              "      <td>Conale</td>\n",
              "      <td>3203.0</td>\n",
              "      <td>3203.0</td>\n",
              "    </tr>\n",
              "  </tbody>\n",
              "</table>\n",
              "<p>264 rows × 15 columns</p>\n",
              "</div>\n",
              "      <button class=\"colab-df-convert\" onclick=\"convertToInteractive('df-964f0787-9241-49c5-b4dd-206db7bd5134')\"\n",
              "              title=\"Convert this dataframe to an interactive table.\"\n",
              "              style=\"display:none;\">\n",
              "        \n",
              "  <svg xmlns=\"http://www.w3.org/2000/svg\" height=\"24px\"viewBox=\"0 0 24 24\"\n",
              "       width=\"24px\">\n",
              "    <path d=\"M0 0h24v24H0V0z\" fill=\"none\"/>\n",
              "    <path d=\"M18.56 5.44l.94 2.06.94-2.06 2.06-.94-2.06-.94-.94-2.06-.94 2.06-2.06.94zm-11 1L8.5 8.5l.94-2.06 2.06-.94-2.06-.94L8.5 2.5l-.94 2.06-2.06.94zm10 10l.94 2.06.94-2.06 2.06-.94-2.06-.94-.94-2.06-.94 2.06-2.06.94z\"/><path d=\"M17.41 7.96l-1.37-1.37c-.4-.4-.92-.59-1.43-.59-.52 0-1.04.2-1.43.59L10.3 9.45l-7.72 7.72c-.78.78-.78 2.05 0 2.83L4 21.41c.39.39.9.59 1.41.59.51 0 1.02-.2 1.41-.59l7.78-7.78 2.81-2.81c.8-.78.8-2.07 0-2.86zM5.41 20L4 18.59l7.72-7.72 1.47 1.35L5.41 20z\"/>\n",
              "  </svg>\n",
              "      </button>\n",
              "      \n",
              "  <style>\n",
              "    .colab-df-container {\n",
              "      display:flex;\n",
              "      flex-wrap:wrap;\n",
              "      gap: 12px;\n",
              "    }\n",
              "\n",
              "    .colab-df-convert {\n",
              "      background-color: #E8F0FE;\n",
              "      border: none;\n",
              "      border-radius: 50%;\n",
              "      cursor: pointer;\n",
              "      display: none;\n",
              "      fill: #1967D2;\n",
              "      height: 32px;\n",
              "      padding: 0 0 0 0;\n",
              "      width: 32px;\n",
              "    }\n",
              "\n",
              "    .colab-df-convert:hover {\n",
              "      background-color: #E2EBFA;\n",
              "      box-shadow: 0px 1px 2px rgba(60, 64, 67, 0.3), 0px 1px 3px 1px rgba(60, 64, 67, 0.15);\n",
              "      fill: #174EA6;\n",
              "    }\n",
              "\n",
              "    [theme=dark] .colab-df-convert {\n",
              "      background-color: #3B4455;\n",
              "      fill: #D2E3FC;\n",
              "    }\n",
              "\n",
              "    [theme=dark] .colab-df-convert:hover {\n",
              "      background-color: #434B5C;\n",
              "      box-shadow: 0px 1px 3px 1px rgba(0, 0, 0, 0.15);\n",
              "      filter: drop-shadow(0px 1px 2px rgba(0, 0, 0, 0.3));\n",
              "      fill: #FFFFFF;\n",
              "    }\n",
              "  </style>\n",
              "\n",
              "      <script>\n",
              "        const buttonEl =\n",
              "          document.querySelector('#df-964f0787-9241-49c5-b4dd-206db7bd5134 button.colab-df-convert');\n",
              "        buttonEl.style.display =\n",
              "          google.colab.kernel.accessAllowed ? 'block' : 'none';\n",
              "\n",
              "        async function convertToInteractive(key) {\n",
              "          const element = document.querySelector('#df-964f0787-9241-49c5-b4dd-206db7bd5134');\n",
              "          const dataTable =\n",
              "            await google.colab.kernel.invokeFunction('convertToInteractive',\n",
              "                                                     [key], {});\n",
              "          if (!dataTable) return;\n",
              "\n",
              "          const docLinkHtml = 'Like what you see? Visit the ' +\n",
              "            '<a target=\"_blank\" href=https://colab.research.google.com/notebooks/data_table.ipynb>data table notebook</a>'\n",
              "            + ' to learn more about interactive tables.';\n",
              "          element.innerHTML = '';\n",
              "          dataTable['output_type'] = 'display_data';\n",
              "          await google.colab.output.renderOutput(dataTable, element);\n",
              "          const docLink = document.createElement('div');\n",
              "          docLink.innerHTML = docLinkHtml;\n",
              "          element.appendChild(docLink);\n",
              "        }\n",
              "      </script>\n",
              "    </div>\n",
              "  </div>\n",
              "  "
            ]
          },
          "metadata": {},
          "execution_count": 684
        }
      ]
    },
    {
      "cell_type": "code",
      "source": [
        "\n"
      ],
      "metadata": {
        "id": "k2pbv5ch45eX"
      },
      "execution_count": 21,
      "outputs": []
    },
    {
      "cell_type": "code",
      "source": [
        ""
      ],
      "metadata": {
        "id": "P0KNySoz5aBv"
      },
      "execution_count": null,
      "outputs": []
    }
  ]
}